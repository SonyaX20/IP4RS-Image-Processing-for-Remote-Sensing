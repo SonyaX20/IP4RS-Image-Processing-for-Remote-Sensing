{
 "cells": [
  {
   "cell_type": "markdown",
   "metadata": {},
   "source": [
    "# Sentinel-2 Basics\n",
    "\n",
    "Goals of the lecture:\n",
    "1. Use and download a tile from the open and free [Copernicus Dataspace](https://dataspace.copernicus.eu/) page\n",
    "1. Understand the structure of the downloaded data\n",
    "1. Programmatically access a specific band of the downloaded tile\n",
    "1. Visualize a Sentinel-2 band\n"
   ]
  },
  {
   "cell_type": "markdown",
   "metadata": {
    "tags": []
   },
   "source": [
    "## Copernicus\n",
    "\n",
    "Take a look at [browser.dataspace.copernicus.eu](https://browser.dataspace.copernicus.eu/?):\n",
    "\n",
    "![copernicus landing page](https://raw.githubusercontent.com/wiki/kai-tub/ip4rs-dependencies/copernicus_ds_browser.png)\n",
    "\n",
    "To download a specific satellite tile, we have to:\n",
    "1. Sign up for the service (confirm the registration _e-mail_!)\n",
    "1. Query Copernicus to select tiles from target satellite with relevant parameters \n",
    "\n",
    "To select the Sentinel-2 satellite, tick the `Mission: Sentinel-2` box and use the following filter to further limit the results only to the Sentinel-2A satellite with a cloud-cover percentage of < 15%:\n",
    "\n",
    "![sentinel-2 example filter](https://raw.githubusercontent.com/wiki/kai-tub/ip4rs-dependencies/copernicus_ds_filter.png)\n",
    "\n",
    "After providing the advanced search filters, you will get a list of various matching Sentinel-2 tiles:\n",
    "\n",
    "![example results](https://raw.githubusercontent.com/wiki/kai-tub/ip4rs-dependencies/copernicus_ds_filter_results.png)\n",
    "\n",
    "If you inspect (small ⓘ icon) one of the tiles, you will see a footprint of the geographical extent of the tile, as well as a quick RGB preview image (if available) and a short textual summary:\n",
    "\n",
    "![example tile](https://raw.githubusercontent.com/wiki/kai-tub/ip4rs-dependencies/copernicus_ds_tile.png)\n",
    "\n",
    "\n"
   ]
  },
  {
   "cell_type": "markdown",
   "metadata": {},
   "source": [
    "## Downloading & inspecting the Sentinel-2 data\n",
    "\n",
    "If the selected _tile_ is available (no `offline` tag), it can be directly downloaded as a `zip` file.\n",
    "After extracting the zip file, the folder structure ([SAFE format](https://sentinel.esa.int/web/sentinel/user-guides/sentinel-2-msi/data-formats)) will look like:\n",
    "\n",
    "```\n",
    "[831M]  S2A_MSIL2A_20240308T100841_N0510_R022_T33UUU_20240308T143352.SAFE\n",
    "├── [ 23M]  DATASTRIP\n",
    "│   └── ...\n",
    "├── [807M]  GRANULE\n",
    "│   └── [807M]  L2A_T33UUU_A045493_20240308T101546\n",
    "│       ├── [8.5K]  AUX_DATA\n",
    "│       │   ├── [2.9K]  AUX_CAMSFO\n",
    "│       │   └── [1.6K]  AUX_ECMWFT\n",
    "│       ├── [806M]  IMG_DATA\n",
    "│       │   ├── [494M]  R10m\n",
    "│       │   │   ├── [340K]  T33UUU_20240308T100841_AOT_10m.jp2\n",
    "│       │   │   ├── [ 73M]  T33UUU_20240308T100841_B02_10m.jp2\n",
    "│       │   │   ├── [ 75M]  T33UUU_20240308T100841_B03_10m.jp2\n",
    "│       │   │   ├── [ 77M]  T33UUU_20240308T100841_B04_10m.jp2\n",
    "│       │   │   ├── [ 91M]  T33UUU_20240308T100841_B08_10m.jp2\n",
    "│       │   │   ├── [118M]  T33UUU_20240308T100841_TCI_10m.jp2\n",
    "│       │   │   └── [ 59M]  T33UUU_20240308T100841_WVP_10m.jp2\n",
    "│       │   ├── [271M]  R20m\n",
    "│       │   │   ├── [317K]  T33UUU_20240308T100841_AOT_20m.jp2\n",
    "│       │   │   ├── [ 12M]  T33UUU_20240308T100841_B01_20m.jp2\n",
    "│       │   │   ├── [ 21M]  T33UUU_20240308T100841_B02_20m.jp2\n",
    "│       │   │   ├── [ 21M]  T33UUU_20240308T100841_B03_20m.jp2\n",
    "│       │   │   ├── [ 22M]  T33UUU_20240308T100841_B04_20m.jp2\n",
    "│       │   │   ├── [ 22M]  T33UUU_20240308T100841_B05_20m.jp2\n",
    "│       │   │   ├── [ 24M]  T33UUU_20240308T100841_B06_20m.jp2\n",
    "│       │   │   ├── [ 25M]  T33UUU_20240308T100841_B07_20m.jp2\n",
    "│       │   │   ├── [ 23M]  T33UUU_20240308T100841_B11_20m.jp2\n",
    "│       │   │   ├── [ 23M]  T33UUU_20240308T100841_B12_20m.jp2\n",
    "│       │   │   ├── [ 25M]  T33UUU_20240308T100841_B8A_20m.jp2\n",
    "│       │   │   ├── [2.2M]  T33UUU_20240308T100841_SCL_20m.jp2\n",
    "│       │   │   ├── [ 31M]  T33UUU_20240308T100841_TCI_20m.jp2\n",
    "│       │   │   └── [ 19M]  T33UUU_20240308T100841_WVP_20m.jp2\n",
    "│       │   └── [ 41M]  R60m\n",
    "│       │       ├── [110K]  T33UUU_20240308T100841_AOT_60m.jp2\n",
    "│       │       ├── [2.5M]  T33UUU_20240308T100841_B01_60m.jp2\n",
    "│       │       ├── [2.8M]  T33UUU_20240308T100841_B02_60m.jp2\n",
    "│       │       ├── [2.9M]  T33UUU_20240308T100841_B03_60m.jp2\n",
    "│       │       ├── [3.0M]  T33UUU_20240308T100841_B04_60m.jp2\n",
    "│       │       ├── [3.1M]  T33UUU_20240308T100841_B05_60m.jp2\n",
    "│       │       ├── [3.3M]  T33UUU_20240308T100841_B06_60m.jp2\n",
    "│       │       ├── [3.3M]  T33UUU_20240308T100841_B07_60m.jp2\n",
    "│       │       ├── [3.3M]  T33UUU_20240308T100841_B09_60m.jp2\n",
    "│       │       ├── [3.3M]  T33UUU_20240308T100841_B11_60m.jp2\n",
    "│       │       ├── [3.3M]  T33UUU_20240308T100841_B12_60m.jp2\n",
    "│       │       ├── [3.4M]  T33UUU_20240308T100841_B8A_60m.jp2\n",
    "│       │       ├── [480K]  T33UUU_20240308T100841_SCL_60m.jp2\n",
    "│       │       ├── [3.6M]  T33UUU_20240308T100841_TCI_60m.jp2\n",
    "│       │       └── [2.7M]  T33UUU_20240308T100841_WVP_60m.jp2\n",
    "│       ├── [364K]  MTD_TL.xml\n",
    "│       └── [1.2M]  QI_DATA\n",
    "│           └── ...\n",
    "├── [166K]  HTML\n",
    "│   └── ...\n",
    "├── [ 18K]  INSPIRE.xml\n",
    "├── [ 68K]  manifest.safe\n",
    "├── [ 54K]  MTD_MSIL2A.xml\n",
    "├── [7.3K]  rep_info\n",
    "│   └── ...\n",
    "└── [ 19K]  S2A_MSIL2A_20240308T100841_N0510_R022_T33UUU_20240308T143352-ql.jpg\n",
    "\n",
    "```"
   ]
  },
  {
   "cell_type": "markdown",
   "metadata": {
    "id": "AC4NagonLouP"
   },
   "source": [
    "## Programmatically accessing bands\n",
    "\n",
    "### Test importing Python libraries"
   ]
  },
  {
   "cell_type": "code",
   "execution_count": null,
   "metadata": {
    "tags": []
   },
   "outputs": [],
   "source": [
    "import numpy as np\n",
    "import rasterio\n",
    "import requests\n",
    "from tqdm.rich import tqdm\n",
    "from pathlib import Path"
   ]
  },
  {
   "cell_type": "markdown",
   "metadata": {
    "id": "AC4NagonLouP"
   },
   "source": [
    "If the libraries aren't available, make sure that the `ip4rs` IPython Kernel is selected!\n",
    "\n",
    "If it is not, change the kernel, e.g., by starting jupyter lab in a different environment!\n"
   ]
  },
  {
   "cell_type": "markdown",
   "metadata": {
    "id": "Zl7It4oWPKRt"
   },
   "source": [
    "### Download the tile"
   ]
  },
  {
   "cell_type": "code",
   "execution_count": null,
   "metadata": {
    "tags": []
   },
   "outputs": [],
   "source": [
    "?Path"
   ]
  },
  {
   "cell_type": "code",
   "execution_count": null,
   "metadata": {
    "tags": []
   },
   "outputs": [],
   "source": [
    "??Path.mkdir"
   ]
  },
  {
   "cell_type": "code",
   "execution_count": null,
   "metadata": {
    "tags": []
   },
   "outputs": [],
   "source": [
    "data_path = Path(\"./data\")\n",
    "data_path.mkdir(exist_ok=True)\n",
    "# For quick prototyping there is on such things as _too many_ asserts!\n",
    "assert data_path.exists, \"Should exist after calling mkdir!\""
   ]
  },
  {
   "cell_type": "code",
   "execution_count": null,
   "metadata": {
    "tags": []
   },
   "outputs": [],
   "source": [
    "tile_name = Path(\"S2A_MSIL2A_20240308T100841_N0510_R022_T33UUU_20240308T143352\")\n",
    "output_filepath = data_path / tile_name.with_suffix(\".SAFE.zip\")\n",
    "output_filepath"
   ]
  },
  {
   "cell_type": "code",
   "execution_count": null,
   "metadata": {
    "tags": []
   },
   "outputs": [],
   "source": [
    "# re-hosted file on TUB-Cloud for fast download during class ~800MB before and after unpacking\n",
    "sentinel_tile_url = \"https://tubcloud.tu-berlin.de/s/2EMnZwypF2pK5XG/download/S2A_MSIL2A_20240308T100841_N0510_R022_T33UUU_20240308T143352.SAFE.zip\"\n",
    "\n",
    "# Provided template to download file; not relevant for course\n",
    "def download_file_with_progress(url: str, output_file: Path):\n",
    "    \"\"\"\n",
    "    Given a `url` as a String and an `output_file` as a file-path the item will\n",
    "    be downloaded and written to the `output_file`. If the `output_file` already\n",
    "    exists, it will be overwritten.\n",
    "    \"\"\"\n",
    "    s = requests.Session()\n",
    "    chunk_size = 2**20  # mb\n",
    "    with s.get(url, stream=True) as resp:\n",
    "        with open(output_file, \"wb\") as f:\n",
    "            print(f\"Saving to {output_file}\")\n",
    "            for data in tqdm(\n",
    "                resp.iter_content(chunk_size=chunk_size), \n",
    "                total=int(resp.headers.get(\"content-length\", 0)) // chunk_size, \n",
    "                unit=\"MB\",\n",
    "                unit_scale=True,\n",
    "                desc=\"Downloading...\",\n",
    "            ):\n",
    "                f.write(data)\n",
    "\n",
    "download_file_with_progress(url=sentinel_tile_url, output_file=output_filepath)"
   ]
  },
  {
   "cell_type": "markdown",
   "metadata": {
    "id": "_02CZZ6mPygz"
   },
   "source": [
    "### Extract zipfile"
   ]
  },
  {
   "cell_type": "code",
   "execution_count": null,
   "metadata": {
    "tags": []
   },
   "outputs": [],
   "source": [
    "import zipfile\n",
    "\n",
    "zipf = zipfile.ZipFile(output_filepath)\n",
    "zipf.extractall(path=\"data\")"
   ]
  },
  {
   "cell_type": "markdown",
   "metadata": {
    "colab": {
     "base_uri": "https://localhost:8080/"
    },
    "executionInfo": {
     "elapsed": 2726,
     "status": "ok",
     "timestamp": 1618818362347,
     "user": {
      "displayName": "Mat Rb",
      "photoUrl": "https://lh3.googleusercontent.com/a-/AOh14Gik24jvA_yZMp2z50oFh_gbhSlIRnt_v5WBVKY6REE=s64",
      "userId": "17685210069082378191"
     },
     "user_tz": -120
    },
    "id": "YBKj8TTPYGNU",
    "outputId": "b1d9c5c9-7047-42e9-dc3f-18a12b24fe53",
    "tags": []
   },
   "source": [
    "Take a look at the folder structure on your laptop / notebook file viewer and understand what happened!"
   ]
  },
  {
   "cell_type": "markdown",
   "metadata": {},
   "source": [
    "The data inside of the Zip-file is packaged into a \"root\" directory with the name of the original zip file without the `.zip` but with `.SAFE` extension.\n",
    "The data we are interested in lives inside a subdirectory called `GRANULE/*/IMG_DATA`.\n",
    "The image data is encoded as a [jpeg2000](https://de.wikipedia.org/wiki/JPEG_2000) file with the extension `jp2`.\n",
    "\n",
    "We can combine all of the information to build a [glob](https://en.wikipedia.org/wiki/Glob_(programming)) expression to quickly build a list of the files we are interested in.\n",
    "\n",
    "Note: The directory structure has changed within the last two years, depending on the selected dates, the relevant images live either directly under the `IMG_DATA` directory, or they live under a sub-directory `IMG_DATA/R{10,20,60}m/`."
   ]
  },
  {
   "cell_type": "code",
   "execution_count": null,
   "metadata": {
    "tags": []
   },
   "outputs": [],
   "source": [
    "unzipped_dir = Path(data_path / tile_name.with_suffix(\".SAFE\"))\n",
    "assert unzipped_dir.exists(), f\"{unzipped_dir} does not exist!\""
   ]
  },
  {
   "cell_type": "markdown",
   "metadata": {},
   "source": [
    "## Working with the tile data\n",
    "### Accessing the data array"
   ]
  },
  {
   "cell_type": "code",
   "execution_count": null,
   "metadata": {
    "tags": []
   },
   "outputs": [],
   "source": [
    "import rasterio\n",
    "import matplotlib.pyplot as plt\n",
    "\n",
    "\n",
    "class S2TileReader:\n",
    "    def __init__(self, directory: Path):\n",
    "        \"\"\"\n",
    "        Initialize the reader with a directory containing the SAFE file of a Sentinel-2 product.\n",
    "\n",
    "        Parameters\n",
    "        ----------\n",
    "        directory : Path\n",
    "            The directory containing the SAFE file of a Sentinel-2 product.\n",
    "        \"\"\"\n",
    "        assert directory.is_dir(), f\"{directory} is not a directory\"\n",
    "        self.image_files = list(directory.glob(f\"**/IMG_DATA/*.jp2\"))\n",
    "        if len(self.image_files) == 0:\n",
    "            self.image_files = list(directory.glob(f\"**/IMG_DATA/R60m/*.jp2\"))\n",
    "            self.image_files.extend(list(directory.glob(f\"**/IMG_DATA/R20m/*.jp2\")))\n",
    "            self.image_files.extend(list(directory.glob(f\"**/IMG_DATA/R10m/*.jp2\")))\n",
    "        self.band2file_mapping = self._bands()\n",
    "        self.bands = sorted(self.band2file_mapping.keys())\n",
    "        print(f\"{len(self.band2file_mapping)} images found in {directory}\")\n",
    "\n",
    "    def _bands(self):\n",
    "        \"\"\"\n",
    "        Extract the band names from the image files and create a mapping from band name to file path.\n",
    "\n",
    "        Example:\n",
    "        {\n",
    "            \"B01\": Path(\"path/to/B01.jp2\"),\n",
    "            \"B02\": Path(\"path/to/B02.jp2\"),\n",
    "            ...\n",
    "        }\n",
    "        or if the product has multiple resolutions:\n",
    "        {\n",
    "            \"B01_60m\": Path(\"path/to/R60m/B01.jp2\"),\n",
    "            \"B02_10m\": Path(\"path/to/R10m/B02.jp2\"),\n",
    "            ...\n",
    "        }\n",
    "        \"\"\"\n",
    "        return {\"_\".join(x.stem.split(\"_\")[2:]):x for x in self.image_files}\n",
    "\n",
    "    def read_band(self, band: str):\n",
    "        \"\"\"\n",
    "        Read the data of a specific band. The data is returned as a numpy array. If the band is a single channel,\n",
    "        the array will have shape (height, width). If the band is a multi-channel band, the array will have shape\n",
    "        (height, width, channels).\n",
    "\n",
    "        Parameters\n",
    "        ----------\n",
    "        band : str\n",
    "            The name of the band to read. Must be one of the bands in the product.\n",
    "            Use the `bands` attribute to see the available bands.\n",
    "        \"\"\"\n",
    "        assert band in self.bands, f\"Band {band} invalid. Please select one of {self.bands}\"\n",
    "        img_path = self.band2file_mapping[band]\n",
    "        with rasterio.open(self.band2file_mapping[band]) as f:\n",
    "            data = f.read()\n",
    "        if data.shape[0] == 1:\n",
    "            return data.squeeze(0)\n",
    "        elif data.shape[0] == 3:\n",
    "            return np.transpose(data, (1, 2, 0))\n",
    "\n",
    "tile = S2TileReader(unzipped_dir)\n",
    "band03_data = tile.read_band(\"B03_60m\")"
   ]
  },
  {
   "cell_type": "markdown",
   "metadata": {},
   "source": [
    "### Visualizing an individual channel"
   ]
  },
  {
   "cell_type": "markdown",
   "metadata": {},
   "source": [
    "Sentinel-2 satellite data is encoded in an uncommon format `uint16` and requires special care, when trying to visualize.\n",
    "The minimum and maximum values are given by physical properties of the sensor and are not normalize to fill the entire data range."
   ]
  },
  {
   "cell_type": "code",
   "execution_count": null,
   "metadata": {
    "tags": []
   },
   "outputs": [],
   "source": [
    "band03_data.min(), band03_data.max(), band03_data.shape, band03_data.dtype"
   ]
  },
  {
   "cell_type": "code",
   "execution_count": null,
   "metadata": {
    "tags": []
   },
   "outputs": [],
   "source": [
    "print(band03_data)"
   ]
  },
  {
   "cell_type": "code",
   "execution_count": null,
   "metadata": {
    "tags": []
   },
   "outputs": [],
   "source": [
    "plt.figure(figsize=(15, 15))\n",
    "plt.imshow(band03_data, cmap=\"gray\")"
   ]
  },
  {
   "cell_type": "code",
   "execution_count": null,
   "metadata": {
    "tags": []
   },
   "outputs": [],
   "source": [
    "plt.figure(figsize=(15, 15))\n",
    "plt.imshow(band03_data);"
   ]
  },
  {
   "cell_type": "code",
   "execution_count": null,
   "metadata": {
    "tags": []
   },
   "outputs": [],
   "source": [
    "def quant_norm_data(\n",
    "    data: np.ndarray, lower_quant: float = 0.01, upper_quant: float = 0.99\n",
    ") -> np.ndarray:\n",
    "    \"\"\"\n",
    "    Normalize the data by quantiles `lower_quant/upper_quant`.\n",
    "    The quantiles are calculated globally/*across all channels*.\n",
    "    \"\"\"\n",
    "    return np.zeros_like(data)\n",
    "\n",
    "\n",
    "# More details follow in the next lab!\n",
    "plt.figure(figsize=(15, 15))\n",
    "plt.imshow(quant_norm_data(band03_data), cmap=\"gray\")"
   ]
  },
  {
   "cell_type": "code",
   "execution_count": null,
   "metadata": {
    "tags": []
   },
   "outputs": [],
   "source": [
    "#hide\n",
    "# maybe give this as an in-course exercise for those who are interested and use the remaining time\n",
    "# to help others?\n",
    "\n",
    "\n",
    "def quant_norm_data(\n",
    "        data: np.ndarray, lower_quant: float = 0.01, upper_quant: float = 0.99\n",
    ") -> np.ndarray:\n",
    "    \"\"\"\n",
    "    Normalize the data by quantiles `lower_quant/upper_quant`.\n",
    "    The quantiles are calculated globally/*across all channels*.\n",
    "\n",
    "    Parameters\n",
    "    ----------\n",
    "    data : np.ndarray\n",
    "        The data to normalize.\n",
    "    lower_quant : float\n",
    "        The lower quantile. Default is 0.01.\n",
    "    upper_quant : float\n",
    "        The upper quantile. Default is 0.99.\n",
    "    \"\"\"\n",
    "    masked_data = np.ma.masked_equal(data, 0)\n",
    "    lq, uq = np.quantile(masked_data.compressed(), (lower_quant, upper_quant))\n",
    "    data = np.clip(data, a_min=lq, a_max=uq)\n",
    "    data = (data - lq) / (uq - lq)\n",
    "    return data\n",
    "\n",
    "\n",
    "# More details follow in the next lab!\n",
    "plt.figure(figsize=(15, 15))\n",
    "plt.imshow(quant_norm_data(band03_data), cmap=\"gray\")"
   ]
  },
  {
   "cell_type": "code",
   "execution_count": null,
   "metadata": {},
   "outputs": [],
   "source": []
  }
 ],
 "metadata": {
  "colab": {
   "collapsed_sections": [],
   "name": "Lab01.ipynb",
   "provenance": [
    {
     "file_id": "1iflYcaSB5m5qeFU5UMvFKX73OsLFVCbh",
     "timestamp": 1618818796742
    }
   ]
  },
  "interpreter": {
   "hash": "d950cc255805eca97bc9adaef38440cdd4d88c80fff2afb10853f0ffb81a073c"
  },
  "kernelspec": {
   "display_name": "Python 3 (ipykernel)",
   "language": "python",
   "name": "python3"
  },
  "language_info": {
   "codemirror_mode": {
    "name": "ipython",
    "version": 3
   },
   "file_extension": ".py",
   "mimetype": "text/x-python",
   "name": "python",
   "nbconvert_exporter": "python",
   "pygments_lexer": "ipython3",
   "version": "3.10.14"
  }
 },
 "nbformat": 4,
 "nbformat_minor": 4
}

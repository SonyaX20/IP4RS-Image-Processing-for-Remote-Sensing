{
 "cells": [
  {
   "cell_type": "markdown",
   "id": "35a831cc-5fc3-473b-934e-985c0312b65a",
   "metadata": {},
   "source": [
    "# Image Processing for Remote Sensing Homework II"
   ]
  },
  {
   "cell_type": "markdown",
   "id": "3b49430b-f52e-46c0-bdbe-154aa971a18b",
   "metadata": {},
   "source": [
    "## **1. Introduction**"
   ]
  },
  {
   "cell_type": "markdown",
   "id": "978ebded-8eb9-45cf-bf33-9d67d7f2de4a",
   "metadata": {},
   "source": [
    "The goal of this homework is to use a ResNet18 architecture for supervised scene classification on multi-label remote sensing images. During experiments different data augmentation techniques have to be investigated."
   ]
  },
  {
   "cell_type": "markdown",
   "id": "d2c24dd4-3274-4d4d-bfd6-089ecbd307c9",
   "metadata": {},
   "source": [
    "## **2. Dataset**"
   ]
  },
  {
   "cell_type": "code",
   "execution_count": 1,
   "id": "718efd28-61ed-441e-b144-1b8ab770d05d",
   "metadata": {
    "tags": []
   },
   "outputs": [],
   "source": [
    "import numpy as np\n",
    "import matplotlib.pyplot as plt\n",
    "import requests\n",
    "from tqdm.notebook import tqdm\n",
    "from pathlib import Path\n",
    "import zipfile\n",
    "from PIL import Image\n",
    "from torchvision import transforms\n",
    "from torch.utils.data import Dataset"
   ]
  },
  {
   "cell_type": "code",
   "execution_count": 2,
   "id": "b40f6534-5322-402c-af8c-cd91bc0b66e7",
   "metadata": {
    "tags": []
   },
   "outputs": [],
   "source": [
    "def download_file_with_progress(url: str, output_file: Path):\n",
    "    \"\"\"\n",
    "    method from lab07\n",
    "    --------------------\n",
    "    Given a `url` as a String and an `output_file` as a file-path the item will\n",
    "    be downloaded and written to the `output_file`. If the `output_file` already\n",
    "    exists, it will be overwritten.\n",
    "    \"\"\"\n",
    "    response = requests.get(url, stream=True)\n",
    "    total_size = int(response.headers.get(\"content-length\", 0))\n",
    "    chunk_size = 2**20  # mb\n",
    "\n",
    "    with open(output_file, \"wb\") as f:\n",
    "        for data in tqdm(\n",
    "            response.iter_content(chunk_size=chunk_size),\n",
    "            total=total_size // chunk_size,\n",
    "            unit=\"MB\",\n",
    "            unit_scale=True,\n",
    "            desc=\"Downloading\",\n",
    "        ):\n",
    "            f.write(data)"
   ]
  },
  {
   "cell_type": "code",
   "execution_count": 3,
   "id": "0bdec6ea-9d63-48ca-b974-5b29218f855e",
   "metadata": {
    "tags": []
   },
   "outputs": [],
   "source": [
    "data_path = Path(\"./data\")\n",
    "data_path.mkdir(exist_ok=True)"
   ]
  },
  {
   "cell_type": "markdown",
   "id": "83616452-d0e1-4d53-8872-d0625b59dc73",
   "metadata": {},
   "source": [
    "#### subtask: implement the instance method read_multilabels(self) of the UCMerced Dataset class"
   ]
  },
  {
   "cell_type": "code",
   "execution_count": 4,
   "id": "73eb79ab",
   "metadata": {
    "tags": []
   },
   "outputs": [],
   "source": [
    "import pandas as pd    # read multi-label\n",
    "import plotly.express as px\n",
    "import plotly.io as pio\n",
    "pio.renderers.default = 'notebook'"
   ]
  },
  {
   "cell_type": "code",
   "execution_count": 5,
   "id": "04cff224-31cd-4581-9f72-2f2e82be28f9",
   "metadata": {
    "tags": []
   },
   "outputs": [],
   "source": [
    "class UCMerced(Dataset):\n",
    "    \"\"\"\n",
    "    UCMerced class from lab07, add \"read_multilabels\" method\n",
    "    -------------\n",
    "    parse labels for each image, using LandUse_Multilabeled.xlsx\n",
    "    \"\"\"\n",
    "    def __init__(self, base_dir: Path, img_transform: transforms = None, multilabel: bool = False):\n",
    "        self.base_dir = base_dir\n",
    "        self.download_dataset()\n",
    "        self.images_path = base_dir / \"UCMerced_LandUse/Images\"\n",
    "        self.class_names = sorted(\n",
    "            [cl.name for cl in self.images_path.iterdir() if not cl.name.startswith(\".\")]\n",
    "        )\n",
    "        self.img_paths, self.targets = self.read_data()\n",
    "        self.img_transform = img_transform\n",
    "\n",
    "        if multilabel:\n",
    "            self.targets, self.class_names = self.read_multilabels()  # important for loss calculation\n",
    "            self.targets = self.targets.astype(float)\n",
    "            \n",
    "    def download_dataset(self):\n",
    "        ucmerced_path = self.base_dir / \"UCMerced.zip\"\n",
    "        if not ucmerced_path.exists():\n",
    "            print(\"Downloading UCMerced\")\n",
    "            download_file_with_progress(\n",
    "                \"https://tubcloud.tu-berlin.de/s/H4QHX5GPDY6wDog/download/UCMerced_LandUse.zip\",\n",
    "                ucmerced_path,\n",
    "            )\n",
    "            zipf = zipfile.ZipFile(ucmerced_path)\n",
    "            zipf.extractall(self.base_dir)\n",
    "\n",
    "    def read_data(self):\n",
    "        img_paths, targets = [], []\n",
    "        for cl_id, cl_name in enumerate(self.class_names):\n",
    "            cl_path = self.images_path / cl_name\n",
    "\n",
    "            for img_path in sorted(cl_path.iterdir()):\n",
    "                img_paths.append(img_path)\n",
    "                targets.append(cl_id)\n",
    "\n",
    "        return img_paths, targets\n",
    "\n",
    "    def read_multilabels(self):\n",
    "        multilabel_path = self.base_dir / \"UCMerced_LandUse/multilabels/LandUse_Multilabeled.xlsx\"\n",
    "        df = pd.read_excel(multilabel_path)    # use pandas to parse .xlsx\n",
    "        classes = df.columns[1:].tolist()\n",
    "        df.set_index('IMAGE\\LABEL', inplace=True)   # set the index in .xlsx\n",
    "        \n",
    "        multilabel_targets = []\n",
    "        for img_path in self.img_paths:\n",
    "            img_name = img_path.stem  # get file name (same in the .xlsx index)\n",
    "            multilabel_targets.append(df.loc[img_name].values)\n",
    "        return np.array(multilabel_targets), classes\n",
    "    \n",
    "    def __getitem__(self, idx: int):\n",
    "        img_path = self.img_paths[idx]\n",
    "        target = self.targets[idx]\n",
    "\n",
    "        img = Image.open(img_path).convert(\"RGB\")\n",
    "        if self.img_transform is not None:\n",
    "            img = self.img_transform(img)\n",
    "\n",
    "        return img, target\n",
    "\n",
    "    def __len__(self):\n",
    "        return len(self.img_paths)"
   ]
  },
  {
   "cell_type": "code",
   "execution_count": 6,
   "id": "ae046ba2-fa41-47aa-baf5-04e485f6a11c",
   "metadata": {
    "tags": []
   },
   "outputs": [
    {
     "data": {
      "text/plain": [
       "<__main__.UCMerced at 0x7f2d83b8ebe0>"
      ]
     },
     "execution_count": 6,
     "metadata": {},
     "output_type": "execute_result"
    }
   ],
   "source": [
    "full_dataset = UCMerced(data_path, multilabel=True)\n",
    "full_dataset"
   ]
  },
  {
   "cell_type": "markdown",
   "id": "2d6041f1-2d65-408c-b558-6956ef6a2f2a",
   "metadata": {},
   "source": [
    "#### subtask: provide a statistical analysis of the class distribution of the multi-label version. \n",
    "Instead of 21 classes, 17 classes appear in the multi-label file. Classes are stored in UCMerced.classes."
   ]
  },
  {
   "cell_type": "code",
   "execution_count": 28,
   "id": "d2a8036c-4316-4a2e-b30e-9e1f96efd508",
   "metadata": {
    "tags": []
   },
   "outputs": [
    {
     "data": {
      "text/html": [
       "<div>\n",
       "<style scoped>\n",
       "    .dataframe tbody tr th:only-of-type {\n",
       "        vertical-align: middle;\n",
       "    }\n",
       "\n",
       "    .dataframe tbody tr th {\n",
       "        vertical-align: top;\n",
       "    }\n",
       "\n",
       "    .dataframe thead th {\n",
       "        text-align: right;\n",
       "    }\n",
       "</style>\n",
       "<table border=\"1\" class=\"dataframe\">\n",
       "  <thead>\n",
       "    <tr style=\"text-align: right;\">\n",
       "      <th></th>\n",
       "      <th>airplane</th>\n",
       "      <th>bare-soil</th>\n",
       "      <th>buildings</th>\n",
       "      <th>cars</th>\n",
       "      <th>chaparral</th>\n",
       "      <th>court</th>\n",
       "      <th>dock</th>\n",
       "      <th>field</th>\n",
       "      <th>grass</th>\n",
       "      <th>mobile-home</th>\n",
       "      <th>pavement</th>\n",
       "      <th>sand</th>\n",
       "      <th>sea</th>\n",
       "      <th>ship</th>\n",
       "      <th>tanks</th>\n",
       "      <th>trees</th>\n",
       "      <th>water</th>\n",
       "    </tr>\n",
       "  </thead>\n",
       "  <tbody>\n",
       "    <tr>\n",
       "      <th>distribution</th>\n",
       "      <td>100.0000</td>\n",
       "      <td>718.0000</td>\n",
       "      <td>691.0000</td>\n",
       "      <td>886.0000</td>\n",
       "      <td>115.0000</td>\n",
       "      <td>105.000</td>\n",
       "      <td>100.0000</td>\n",
       "      <td>103.0000</td>\n",
       "      <td>975.0000</td>\n",
       "      <td>102.0000</td>\n",
       "      <td>1300.0000</td>\n",
       "      <td>294.000</td>\n",
       "      <td>100.0000</td>\n",
       "      <td>102.0000</td>\n",
       "      <td>100.0000</td>\n",
       "      <td>1009.0000</td>\n",
       "      <td>203.000</td>\n",
       "    </tr>\n",
       "    <tr>\n",
       "      <th>ratio</th>\n",
       "      <td>0.0143</td>\n",
       "      <td>0.1025</td>\n",
       "      <td>0.0987</td>\n",
       "      <td>0.1265</td>\n",
       "      <td>0.0164</td>\n",
       "      <td>0.015</td>\n",
       "      <td>0.0143</td>\n",
       "      <td>0.0147</td>\n",
       "      <td>0.1392</td>\n",
       "      <td>0.0146</td>\n",
       "      <td>0.1856</td>\n",
       "      <td>0.042</td>\n",
       "      <td>0.0143</td>\n",
       "      <td>0.0146</td>\n",
       "      <td>0.0143</td>\n",
       "      <td>0.1441</td>\n",
       "      <td>0.029</td>\n",
       "    </tr>\n",
       "    <tr>\n",
       "      <th>0</th>\n",
       "      <td>0.0000</td>\n",
       "      <td>0.0000</td>\n",
       "      <td>0.0000</td>\n",
       "      <td>0.0000</td>\n",
       "      <td>0.0000</td>\n",
       "      <td>0.000</td>\n",
       "      <td>0.0000</td>\n",
       "      <td>1.0000</td>\n",
       "      <td>0.0000</td>\n",
       "      <td>0.0000</td>\n",
       "      <td>0.0000</td>\n",
       "      <td>0.000</td>\n",
       "      <td>0.0000</td>\n",
       "      <td>0.0000</td>\n",
       "      <td>0.0000</td>\n",
       "      <td>1.0000</td>\n",
       "      <td>0.000</td>\n",
       "    </tr>\n",
       "    <tr>\n",
       "      <th>1</th>\n",
       "      <td>0.0000</td>\n",
       "      <td>0.0000</td>\n",
       "      <td>0.0000</td>\n",
       "      <td>0.0000</td>\n",
       "      <td>0.0000</td>\n",
       "      <td>0.000</td>\n",
       "      <td>0.0000</td>\n",
       "      <td>1.0000</td>\n",
       "      <td>0.0000</td>\n",
       "      <td>0.0000</td>\n",
       "      <td>0.0000</td>\n",
       "      <td>0.000</td>\n",
       "      <td>0.0000</td>\n",
       "      <td>0.0000</td>\n",
       "      <td>0.0000</td>\n",
       "      <td>0.0000</td>\n",
       "      <td>0.000</td>\n",
       "    </tr>\n",
       "    <tr>\n",
       "      <th>2</th>\n",
       "      <td>0.0000</td>\n",
       "      <td>0.0000</td>\n",
       "      <td>0.0000</td>\n",
       "      <td>0.0000</td>\n",
       "      <td>0.0000</td>\n",
       "      <td>0.000</td>\n",
       "      <td>0.0000</td>\n",
       "      <td>1.0000</td>\n",
       "      <td>0.0000</td>\n",
       "      <td>0.0000</td>\n",
       "      <td>0.0000</td>\n",
       "      <td>0.000</td>\n",
       "      <td>0.0000</td>\n",
       "      <td>0.0000</td>\n",
       "      <td>0.0000</td>\n",
       "      <td>0.0000</td>\n",
       "      <td>0.000</td>\n",
       "    </tr>\n",
       "    <tr>\n",
       "      <th>3</th>\n",
       "      <td>0.0000</td>\n",
       "      <td>0.0000</td>\n",
       "      <td>0.0000</td>\n",
       "      <td>0.0000</td>\n",
       "      <td>0.0000</td>\n",
       "      <td>0.000</td>\n",
       "      <td>0.0000</td>\n",
       "      <td>1.0000</td>\n",
       "      <td>0.0000</td>\n",
       "      <td>0.0000</td>\n",
       "      <td>0.0000</td>\n",
       "      <td>0.000</td>\n",
       "      <td>0.0000</td>\n",
       "      <td>0.0000</td>\n",
       "      <td>0.0000</td>\n",
       "      <td>0.0000</td>\n",
       "      <td>0.000</td>\n",
       "    </tr>\n",
       "    <tr>\n",
       "      <th>4</th>\n",
       "      <td>0.0000</td>\n",
       "      <td>0.0000</td>\n",
       "      <td>0.0000</td>\n",
       "      <td>0.0000</td>\n",
       "      <td>0.0000</td>\n",
       "      <td>0.000</td>\n",
       "      <td>0.0000</td>\n",
       "      <td>0.0000</td>\n",
       "      <td>0.0000</td>\n",
       "      <td>0.0000</td>\n",
       "      <td>0.0000</td>\n",
       "      <td>0.000</td>\n",
       "      <td>0.0000</td>\n",
       "      <td>0.0000</td>\n",
       "      <td>0.0000</td>\n",
       "      <td>1.0000</td>\n",
       "      <td>0.000</td>\n",
       "    </tr>\n",
       "  </tbody>\n",
       "</table>\n",
       "</div>"
      ],
      "text/plain": [
       "              airplane  bare-soil  buildings      cars  chaparral    court   \n",
       "distribution  100.0000   718.0000   691.0000  886.0000   115.0000  105.000  \\\n",
       "ratio           0.0143     0.1025     0.0987    0.1265     0.0164    0.015   \n",
       "0               0.0000     0.0000     0.0000    0.0000     0.0000    0.000   \n",
       "1               0.0000     0.0000     0.0000    0.0000     0.0000    0.000   \n",
       "2               0.0000     0.0000     0.0000    0.0000     0.0000    0.000   \n",
       "3               0.0000     0.0000     0.0000    0.0000     0.0000    0.000   \n",
       "4               0.0000     0.0000     0.0000    0.0000     0.0000    0.000   \n",
       "\n",
       "                  dock     field     grass  mobile-home   pavement     sand   \n",
       "distribution  100.0000  103.0000  975.0000     102.0000  1300.0000  294.000  \\\n",
       "ratio           0.0143    0.0147    0.1392       0.0146     0.1856    0.042   \n",
       "0               0.0000    1.0000    0.0000       0.0000     0.0000    0.000   \n",
       "1               0.0000    1.0000    0.0000       0.0000     0.0000    0.000   \n",
       "2               0.0000    1.0000    0.0000       0.0000     0.0000    0.000   \n",
       "3               0.0000    1.0000    0.0000       0.0000     0.0000    0.000   \n",
       "4               0.0000    0.0000    0.0000       0.0000     0.0000    0.000   \n",
       "\n",
       "                   sea      ship     tanks      trees    water  \n",
       "distribution  100.0000  102.0000  100.0000  1009.0000  203.000  \n",
       "ratio           0.0143    0.0146    0.0143     0.1441    0.029  \n",
       "0               0.0000    0.0000    0.0000     1.0000    0.000  \n",
       "1               0.0000    0.0000    0.0000     0.0000    0.000  \n",
       "2               0.0000    0.0000    0.0000     0.0000    0.000  \n",
       "3               0.0000    0.0000    0.0000     0.0000    0.000  \n",
       "4               0.0000    0.0000    0.0000     1.0000    0.000  "
      ]
     },
     "metadata": {},
     "output_type": "display_data"
    },
    {
     "data": {
      "image/png": "[encoded data removed]",
      "text/plain": [
       "<Figure size 1000x700 with 1 Axes>"
      ]
     },
     "metadata": {},
     "output_type": "display_data"
    }
   ],
   "source": [
    "def analyze_class_distribution(targets, classes):\n",
    "    df = pd.DataFrame(targets)\n",
    "    class_distribution = df.sum(axis=0).apply(int)  # .Series\n",
    "    total = class_distribution.sum()\n",
    "    cd_ratio = (class_distribution / total).round(4)\n",
    "    \n",
    "    cd_df = pd.DataFrame([class_distribution, cd_ratio], index=['distribution', 'ratio'])\n",
    "    df = pd.concat([cd_df, df], ignore_index=False)\n",
    "    df.loc[0] = df.loc[0].astype(int)\n",
    "    df.columns = classes[:len(classes)]    # set column indices\n",
    "    display(df.head(7))\n",
    "    \n",
    "    plt.figure(figsize=(10, 7))\n",
    "    plt.pie(class_distribution, labels=classes[:len(class_distribution)], autopct='%1.1f%%', startangle=140)\n",
    "    plt.title('Class Distribution')\n",
    "    plt.axis('equal') \n",
    "    \n",
    "class_distribution = analyze_class_distribution(full_dataset.targets, full_dataset.class_names)"
   ]
  },
  {
   "cell_type": "markdown",
   "id": "fb9e2657-edf1-4c6a-a4fd-5e4d8740bff7",
   "metadata": {},
   "source": [
    "## **3. Training Design**"
   ]
  },
  {
   "cell_type": "markdown",
   "id": "fddc060b-d81b-4283-8f43-a51067bacd78",
   "metadata": {},
   "source": [
    "#### subtask: split dataset (baseline)"
   ]
  },
  {
   "cell_type": "code",
   "execution_count": 8,
   "id": "3ea2efa7",
   "metadata": {
    "tags": []
   },
   "outputs": [],
   "source": [
    "from sklearn.model_selection import train_test_split\n",
    "from torch.utils.data import Subset, DataLoader"
   ]
  },
  {
   "cell_type": "code",
   "execution_count": 9,
   "id": "97f54f89",
   "metadata": {
    "tags": []
   },
   "outputs": [
    {
     "name": "stdout",
     "output_type": "stream",
     "text": [
      "train_len: 1469 (69.95%)\n",
      "val_len:    211 (10.05%)\n",
      "test_len:   420 (20.00%)\n"
     ]
    }
   ],
   "source": [
    "import numpy as np\n",
    "from sklearn.model_selection import train_test_split\n",
    "\n",
    "def get_split_idx(targets: np.array, train_size: float, val_size: float, test_size: float):\n",
    "    \"\"\"\n",
    "    'splitting method' from lab07\n",
    "    adjusted for multilabel classification task with random selection\n",
    "    ----------------\n",
    "    stratified sampling fails, cause: some classes have too few samples\n",
    "    \"\"\"\n",
    "    assert train_size + val_size + test_size == 1\n",
    "    \n",
    "    # Initial split to separate test set\n",
    "    full_idx = np.arange(len(targets))\n",
    "    train_val_idx, test_idx = train_test_split(\n",
    "        full_idx, test_size=test_size, random_state=42\n",
    "    )\n",
    "    \n",
    "    # Adjust sizes for train and validation splits\n",
    "    relative_val_size = val_size / (train_size + val_size)\n",
    "    train_idx, val_idx = train_test_split(\n",
    "        train_val_idx, test_size=relative_val_size, random_state=42\n",
    "    )\n",
    "    \n",
    "    return train_idx, val_idx, test_idx\n",
    "\n",
    "# splitting ratio\n",
    "train_size = 0.7\n",
    "val_size = 0.1\n",
    "test_size = 0.2\n",
    "train_idx, val_idx, test_idx = get_split_idx(full_dataset.targets, train_size, val_size, test_size)\n",
    "\n",
    "print(f'train_len: {len(train_idx):4} ({len(train_idx)/len(full_dataset.targets)*100:.2f}%)')\n",
    "print(f'val_len:   {len(val_idx):4} ({len(val_idx)/len(full_dataset.targets)*100:.2f}%)')\n",
    "print(f'test_len:  {len(test_idx):4} ({len(test_idx)/len(full_dataset.targets)*100:.2f}%)')"
   ]
  },
  {
   "cell_type": "code",
   "execution_count": 10,
   "id": "c4311143",
   "metadata": {
    "tags": []
   },
   "outputs": [],
   "source": [
    "\"\"\"\n",
    "apply baseline transformations\n",
    "\"\"\"\n",
    "ucm_mean = [0.595425, 0.3518577, 0.3225522]  \n",
    "ucm_std = [0.19303136, 0.12492529, 0.10577361]\n",
    "tr_transform_base = transforms.Compose(\n",
    "    [\n",
    "        transforms.Resize((64, 64)),\n",
    "        transforms.ToTensor(),\n",
    "        transforms.Normalize(mean=ucm_mean, std=ucm_std),\n",
    "    ]\n",
    ")\n",
    "te_transform = transforms.Compose(\n",
    "    [\n",
    "        transforms.Resize((64, 64)),\n",
    "        transforms.ToTensor(),\n",
    "        transforms.Normalize(mean=ucm_mean, std=ucm_std),\n",
    "    ]\n",
    ")\n"
   ]
  },
  {
   "cell_type": "code",
   "execution_count": 11,
   "id": "70d92060",
   "metadata": {
    "tags": []
   },
   "outputs": [],
   "source": [
    "# apply test set for all experiments\n",
    "batch_size     = 64\n",
    "full_dataset_te = UCMerced(data_path, img_transform=te_transform, multilabel=True)\n",
    "\n",
    "val_dataset = Subset(full_dataset_te, val_idx)\n",
    "val_loader = DataLoader(val_dataset, batch_size=batch_size)\n",
    "\n",
    "test_dataset = Subset(full_dataset_te, test_idx)\n",
    "test_loader = DataLoader(test_dataset, batch_size=batch_size)"
   ]
  },
  {
   "cell_type": "code",
   "execution_count": 12,
   "id": "c77a44c3",
   "metadata": {
    "tags": []
   },
   "outputs": [],
   "source": [
    "def get_split_transform_train_data(tr_transform):\n",
    "    # get full dataset\n",
    "    full_dataset_tr = UCMerced(data_path, img_transform=tr_transform, multilabel=True)\n",
    "    train_dataset = Subset(full_dataset_tr, train_idx)\n",
    "    train_loader = DataLoader(train_dataset, batch_size=batch_size, shuffle=True)\n",
    "    return train_dataset, train_loader"
   ]
  },
  {
   "cell_type": "markdown",
   "id": "0b19055c-6582-4dbf-bd7b-3835cab276a1",
   "metadata": {},
   "source": [
    "#### subtask:  apply transfer learning, choose a pre-trained ResNet18 "
   ]
  },
  {
   "cell_type": "code",
   "execution_count": 13,
   "id": "147158db",
   "metadata": {
    "tags": []
   },
   "outputs": [],
   "source": [
    "from torchvision import models\n",
    "from torchvision.models import ResNet18_Weights\n",
    "import torch.optim as optim\n",
    "import torch.nn as nn\n",
    "import torch\n",
    "import copy\n",
    "from sklearn.metrics import classification_report, confusion_matrix, accuracy_score,  f1_score, average_precision_score\n",
    "from typing import List"
   ]
  },
  {
   "cell_type": "code",
   "execution_count": 14,
   "id": "9e451cfa",
   "metadata": {
    "tags": []
   },
   "outputs": [],
   "source": [
    "def train(\n",
    "    model: nn.Module,\n",
    "    optimizer: torch.optim,\n",
    "    criterion: torch.nn.modules.loss,\n",
    "    train_loader: DataLoader,\n",
    "    epochs: int,\n",
    "    device: torch.device,\n",
    "    val_loader: DataLoader = None,\n",
    "):\n",
    "    \"\"\"\n",
    "    Training loop to optimize a network for several epochs and a specified loss.\n",
    "\n",
    "    Args:\n",
    "    -----\n",
    "    model               : a PyTorch model\n",
    "    optimizer           : a PyTorch optimizer\n",
    "    criterion           : a PyTorch-compatible loss function, e.g. nn.CrossEntropyLoss\n",
    "    train_loader        : a PyTorch trainset loader\n",
    "    epochs              : int specifying the number of training epochs\n",
    "    device              : torch device to use (defaults to CPU)\n",
    "    val_loader (opt.)   : validation dataset\n",
    "    \"\"\"\n",
    "    model.to(device)  # put model on device\n",
    "    train_losses, train_accuracies = [], []\n",
    "    val_losses, val_accuracies = [], []\n",
    "    best_model = copy.deepcopy(model)\n",
    "    best_acc = 0\n",
    "    best_epoch = 1\n",
    "\n",
    "    for epoch in tqdm(range(1, epochs + 1), desc=\"Training the network\"):\n",
    "        model.train()  # set model to training mode\n",
    "        train_losses_epoch = []\n",
    "        train_targets = []\n",
    "        train_preds = []\n",
    "\n",
    "        # Data-Loading Loop\n",
    "        with tqdm(train_loader, unit=\" batch\") as tepoch:\n",
    "            for idx, (data, targets) in enumerate(tepoch):\n",
    "                tepoch.set_description(\"Epoch {}\".format(epoch))\n",
    "\n",
    "                # put loaded data and targets on device\n",
    "                data, targets = data.to(device), targets.to(device)\n",
    "\n",
    "                # zero accumulated gradients from previous batch\n",
    "                optimizer.zero_grad()\n",
    "\n",
    "                # infer predictions for batch\n",
    "                output = model(data)\n",
    "                predictions = (output > 0.5).float() # transformed individually into probabilities, threshold of 0.5\n",
    "                \n",
    "                # compute loss from predictions, CELoss automatically applies F.log_softmax\n",
    "                loss = criterion(output, targets)\n",
    "\n",
    "                # accumulate gradients for all parameter according to batch errors\n",
    "                loss.backward()\n",
    "\n",
    "                # update paramters according to accumulated gradients\n",
    "                optimizer.step()\n",
    "\n",
    "                train_losses_epoch.append(loss.item())\n",
    "                train_targets.append(targets)\n",
    "                train_preds.append(predictions)\n",
    "            \n",
    "            curr_train_loss = np.mean(train_losses_epoch)\n",
    "            train_targets = torch.cat(train_targets)\n",
    "            train_preds = torch.cat(train_preds)\n",
    "\n",
    "            train_accuracy = accuracy_score(train_targets, train_preds)\n",
    "            train_losses.append(curr_train_loss)\n",
    "            train_accuracies.append(train_accuracy)\n",
    "            \n",
    "            print(\"Train-Loss: {:.2f}. Train-Acc: {:.2f}\".format(curr_train_loss, train_accuracy))\n",
    "\n",
    "        if val_loader is not None:\n",
    "            model.eval()\n",
    "            val_losses_epoch = []\n",
    "            val_targets = []\n",
    "            val_preds = []\n",
    "\n",
    "            with torch.no_grad():\n",
    "                for data, targets in val_loader:\n",
    "                    # put loaded data and targets on device\n",
    "                    data = data.to(device)\n",
    "                    targets = targets.to(device).float()\n",
    "                    \n",
    "                    output = model(data)\n",
    "                    loss = criterion(output, targets)\n",
    "                    predictions = (output > 0.5).float()\n",
    "    \n",
    "                    val_losses_epoch.append(loss.item())\n",
    "                    val_targets.append(targets)\n",
    "                    val_preds.append(predictions)\n",
    "            \n",
    "            curr_val_loss = np.mean(val_losses_epoch)\n",
    "            val_targets = torch.cat(val_targets)\n",
    "            val_preds = torch.cat(val_preds)\n",
    "            \n",
    "            val_accuracy = accuracy_score(val_targets, val_preds)\n",
    "            val_losses.append(curr_val_loss)\n",
    "            val_accuracies.append(val_accuracy)\n",
    "            \n",
    "            # early stopping\n",
    "            if best_acc < val_accuracy:\n",
    "                best_acc = val_accuracy\n",
    "                best_epoch = epoch\n",
    "                best_model = copy.deepcopy(model)\n",
    "\n",
    "            if epoch - best_epoch > 10:\n",
    "                print(f\"Early stopping after {epoch} epochs with best epoch in {best_epoch}\")\n",
    "                break\n",
    "            \n",
    "            print(\"Val-Loss:   {:.2f}. Val-Acc:   {:.2f}\".format(curr_val_loss, val_accuracy))\n",
    "    \n",
    "    return best_model, train_losses, val_losses, train_accuracies, val_accuracies"
   ]
  },
  {
   "cell_type": "code",
   "execution_count": 15,
   "id": "d0fb3ebc",
   "metadata": {
    "tags": []
   },
   "outputs": [],
   "source": [
    "def test(\n",
    "    model: nn.Module,\n",
    "    test_loader: DataLoader,\n",
    "    class_names: list,\n",
    "    device: torch.device,\n",
    "):\n",
    "    model.eval()\n",
    "    predictions = []\n",
    "    targets = []\n",
    "\n",
    "    with torch.no_grad():\n",
    "        for idx, (data, target) in enumerate(tqdm(test_loader, desc=\"Test: \")):\n",
    "            # put loaded data and targets on device\n",
    "            data = data.to(device)\n",
    "            target = target.to(device)\n",
    "            \n",
    "            output = model(data)\n",
    "            predicted = (output > 0.5).float()\n",
    "            predictions += predicted.tolist()\n",
    "            targets += target.tolist()\n",
    "\n",
    "    results = {}\n",
    "\n",
    "    if class_names is None:\n",
    "        class_names = range(len(np.unique(targets)))\n",
    "\n",
    "    # 计算混淆矩阵和分类报告\n",
    "#     cm = confusion_matrix(targets, predictions)\n",
    "#     results[\"cm\"] = cm\n",
    "    results[\"overall_acc\"] = accuracy_score(targets, predictions)\n",
    "    results[\"f1_micro\"] = f1_score(targets, predictions, average='micro')\n",
    "    results[\"f1_macro\"] = f1_score(targets, predictions, average='macro')\n",
    "    results[\"mAP_micro\"] = average_precision_score(targets, predictions, average='micro')\n",
    "    results[\"mAP_macro\"] = average_precision_score(targets, predictions, average='macro')\n",
    "    \n",
    "    results[\"report\"] = classification_report(\n",
    "        targets,\n",
    "        predictions,\n",
    "        target_names=class_names,\n",
    "        zero_division=0,\n",
    "        digits=2,\n",
    "    )\n",
    "\n",
    "    return results"
   ]
  },
  {
   "cell_type": "code",
   "execution_count": 16,
   "id": "69d0f20b",
   "metadata": {
    "tags": []
   },
   "outputs": [],
   "source": [
    "def show_results(results):\n",
    "    print(\"overall_acc\\t\", results[\"overall_acc\"])\n",
    "    print(\"f1_micro\\t\", results[\"f1_micro\"])\n",
    "    print(\"f1_macro\\t\", results[\"f1_macro\"])\n",
    "    print(\"mAP_micro\\t\", results[\"mAP_micro\"])\n",
    "    print(\"mAP_macro\\t\", results[\"mAP_macro\"])\n",
    "    print(results['report'])"
   ]
  },
  {
   "cell_type": "markdown",
   "id": "516a10d5",
   "metadata": {},
   "source": [
    "## 4. Experiments"
   ]
  },
  {
   "cell_type": "markdown",
   "id": "8bfa102a-3c32-40bb-b77c-11ecf098c908",
   "metadata": {},
   "source": [
    "findings"
   ]
  },
  {
   "cell_type": "code",
   "execution_count": 17,
   "id": "0581085d-9732-439e-99f6-0565b16a5a90",
   "metadata": {
    "tags": []
   },
   "outputs": [],
   "source": [
    "from matplotlib.ticker import MaxNLocator\n",
    "\n",
    "def get_device(cuda_no):\n",
    "    return torch.device('cpu') if cuda_no < 0 or not torch.cuda.is_available() else torch.device(cuda_no)\n",
    "\n",
    "device         = get_device(-1)   # cuda doesn't work\n",
    "learning_rate  = 0.1\n",
    "epochs         = 30\n",
    "criterion = nn.BCEWithLogitsLoss()"
   ]
  },
  {
   "cell_type": "code",
   "execution_count": 18,
   "id": "64548dd7-fcbb-4afa-afcf-e6c2324902f9",
   "metadata": {
    "tags": []
   },
   "outputs": [],
   "source": [
    "import json\n",
    "\n",
    "def save_results_to_json(results, filename):\n",
    "    with open(filename, 'w') as f:\n",
    "        json.dump(results, f, indent=4)\n",
    "\n",
    "def load_results_from_json(filename):\n",
    "    with open(filename, 'r') as f:\n",
    "        results = json.load(f)\n",
    "    return results\n",
    "\n",
    "results_path = Path(\"./results\")\n",
    "results_path.mkdir(exist_ok=True)"
   ]
  },
  {
   "cell_type": "markdown",
   "id": "57b4388e",
   "metadata": {
    "tags": []
   },
   "source": [
    "#### 4.1 A baseline that does not contain any data augmentation"
   ]
  },
  {
   "cell_type": "code",
   "execution_count": 20,
   "id": "41790241",
   "metadata": {
    "tags": []
   },
   "outputs": [],
   "source": [
    "tr_transform_base = transforms.Compose(\n",
    "    [\n",
    "        transforms.Resize((64, 64)),\n",
    "        transforms.ToTensor(),\n",
    "        transforms.Normalize(mean=ucm_mean, std=ucm_std),\n",
    "    ]\n",
    ")\n",
    "\n",
    "train_dataset_base, train_loader_base = get_split_transform_train_data(tr_transform_base)"
   ]
  },
  {
   "cell_type": "code",
   "execution_count": 21,
   "id": "f8ba07ed",
   "metadata": {
    "tags": []
   },
   "outputs": [],
   "source": [
    "resnet_pretrained1 = models.resnet18(weights=ResNet18_Weights.DEFAULT)\n",
    "resnet_pretrained1.fc = nn.Linear(512, 17)\n",
    "\n",
    "optimizer = optim.SGD(\n",
    "    resnet_pretrained1.parameters(),\n",
    "    lr=learning_rate,\n",
    "    momentum=0.95,\n",
    "    weight_decay=0.0001,\n",
    "    nesterov=True,\n",
    ")"
   ]
  },
  {
   "cell_type": "code",
   "execution_count": 22,
   "id": "fff31731",
   "metadata": {
    "tags": []
   },
   "outputs": [
    {
     "data": {
      "application/vnd.jupyter.widget-view+json": {
       "model_id": "4a3fe4e8d54c468cbc8d2f332e910c68",
       "version_major": 2,
       "version_minor": 0
      },
      "text/plain": [
       "Training the network:   0%|          | 0/30 [00:00<?, ?it/s]"
      ]
     },
     "metadata": {},
     "output_type": "display_data"
    },
    {
     "data": {
      "application/vnd.jupyter.widget-view+json": {
       "model_id": "5892ff1d3d9a4e63bf528636e3105b4d",
       "version_major": 2,
       "version_minor": 0
      },
      "text/plain": [
       "  0%|          | 0/23 [00:00<?, ? batch/s]"
      ]
     },
     "metadata": {},
     "output_type": "display_data"
    },
    {
     "name": "stdout",
     "output_type": "stream",
     "text": [
      "Train-Loss: 0.30. Train-Acc: 0.16\n",
      "Val-Loss:   0.70. Val-Acc:   0.19\n"
     ]
    },
    {
     "data": {
      "application/vnd.jupyter.widget-view+json": {
       "model_id": "df851b8cbc4e48bebe0d2de81e7077b5",
       "version_major": 2,
       "version_minor": 0
      },
      "text/plain": [
       "  0%|          | 0/23 [00:00<?, ? batch/s]"
      ]
     },
     "metadata": {},
     "output_type": "display_data"
    },
    {
     "name": "stdout",
     "output_type": "stream",
     "text": [
      "Train-Loss: 0.15. Train-Acc: 0.39\n",
      "Val-Loss:   0.27. Val-Acc:   0.33\n"
     ]
    },
    {
     "data": {
      "application/vnd.jupyter.widget-view+json": {
       "model_id": "a2780b0cb0a04117a643b161e6f499ff",
       "version_major": 2,
       "version_minor": 0
      },
      "text/plain": [
       "  0%|          | 0/23 [00:00<?, ? batch/s]"
      ]
     },
     "metadata": {},
     "output_type": "display_data"
    },
    {
     "name": "stdout",
     "output_type": "stream",
     "text": [
      "Train-Loss: 0.11. Train-Acc: 0.50\n",
      "Val-Loss:   0.21. Val-Acc:   0.35\n"
     ]
    },
    {
     "data": {
      "application/vnd.jupyter.widget-view+json": {
       "model_id": "b9b1b1483e664c0abfb0083c3bf49daa",
       "version_major": 2,
       "version_minor": 0
      },
      "text/plain": [
       "  0%|          | 0/23 [00:00<?, ? batch/s]"
      ]
     },
     "metadata": {},
     "output_type": "display_data"
    },
    {
     "name": "stdout",
     "output_type": "stream",
     "text": [
      "Train-Loss: 0.07. Train-Acc: 0.63\n",
      "Val-Loss:   0.19. Val-Acc:   0.39\n"
     ]
    },
    {
     "data": {
      "application/vnd.jupyter.widget-view+json": {
       "model_id": "25c3c3987f3640b29355c7163216a159",
       "version_major": 2,
       "version_minor": 0
      },
      "text/plain": [
       "  0%|          | 0/23 [00:00<?, ? batch/s]"
      ]
     },
     "metadata": {},
     "output_type": "display_data"
    },
    {
     "name": "stdout",
     "output_type": "stream",
     "text": [
      "Train-Loss: 0.04. Train-Acc: 0.75\n",
      "Val-Loss:   0.19. Val-Acc:   0.43\n"
     ]
    },
    {
     "data": {
      "application/vnd.jupyter.widget-view+json": {
       "model_id": "3c78ea1ae5244821bcf6787a277eb25e",
       "version_major": 2,
       "version_minor": 0
      },
      "text/plain": [
       "  0%|          | 0/23 [00:00<?, ? batch/s]"
      ]
     },
     "metadata": {},
     "output_type": "display_data"
    },
    {
     "name": "stdout",
     "output_type": "stream",
     "text": [
      "Train-Loss: 0.03. Train-Acc: 0.85\n",
      "Val-Loss:   0.23. Val-Acc:   0.42\n"
     ]
    },
    {
     "data": {
      "application/vnd.jupyter.widget-view+json": {
       "model_id": "094013de6e13416ebc45f566a1ebfcd3",
       "version_major": 2,
       "version_minor": 0
      },
      "text/plain": [
       "  0%|          | 0/23 [00:00<?, ? batch/s]"
      ]
     },
     "metadata": {},
     "output_type": "display_data"
    },
    {
     "name": "stdout",
     "output_type": "stream",
     "text": [
      "Train-Loss: 0.02. Train-Acc: 0.87\n",
      "Val-Loss:   0.24. Val-Acc:   0.43\n"
     ]
    },
    {
     "data": {
      "application/vnd.jupyter.widget-view+json": {
       "model_id": "b718b118adb44c2792632a61af1450bc",
       "version_major": 2,
       "version_minor": 0
      },
      "text/plain": [
       "  0%|          | 0/23 [00:00<?, ? batch/s]"
      ]
     },
     "metadata": {},
     "output_type": "display_data"
    },
    {
     "name": "stdout",
     "output_type": "stream",
     "text": [
      "Train-Loss: 0.02. Train-Acc: 0.90\n",
      "Val-Loss:   0.25. Val-Acc:   0.43\n"
     ]
    },
    {
     "data": {
      "application/vnd.jupyter.widget-view+json": {
       "model_id": "a117d66f13bf4428bd89810855577568",
       "version_major": 2,
       "version_minor": 0
      },
      "text/plain": [
       "  0%|          | 0/23 [00:00<?, ? batch/s]"
      ]
     },
     "metadata": {},
     "output_type": "display_data"
    },
    {
     "name": "stdout",
     "output_type": "stream",
     "text": [
      "Train-Loss: 0.02. Train-Acc: 0.92\n",
      "Val-Loss:   0.25. Val-Acc:   0.42\n"
     ]
    },
    {
     "data": {
      "application/vnd.jupyter.widget-view+json": {
       "model_id": "cf126dc8cde34571a67670db053275b4",
       "version_major": 2,
       "version_minor": 0
      },
      "text/plain": [
       "  0%|          | 0/23 [00:00<?, ? batch/s]"
      ]
     },
     "metadata": {},
     "output_type": "display_data"
    },
    {
     "name": "stdout",
     "output_type": "stream",
     "text": [
      "Train-Loss: 0.01. Train-Acc: 0.93\n",
      "Val-Loss:   0.23. Val-Acc:   0.43\n"
     ]
    },
    {
     "data": {
      "application/vnd.jupyter.widget-view+json": {
       "model_id": "9080272f538f45aeaf831d0a93b8dc6c",
       "version_major": 2,
       "version_minor": 0
      },
      "text/plain": [
       "  0%|          | 0/23 [00:00<?, ? batch/s]"
      ]
     },
     "metadata": {},
     "output_type": "display_data"
    },
    {
     "name": "stdout",
     "output_type": "stream",
     "text": [
      "Train-Loss: 0.01. Train-Acc: 0.94\n",
      "Val-Loss:   0.27. Val-Acc:   0.37\n"
     ]
    },
    {
     "data": {
      "application/vnd.jupyter.widget-view+json": {
       "model_id": "ea99ceb50372405facce4b91b3b4fbb7",
       "version_major": 2,
       "version_minor": 0
      },
      "text/plain": [
       "  0%|          | 0/23 [00:00<?, ? batch/s]"
      ]
     },
     "metadata": {},
     "output_type": "display_data"
    },
    {
     "name": "stdout",
     "output_type": "stream",
     "text": [
      "Train-Loss: 0.01. Train-Acc: 0.96\n",
      "Val-Loss:   0.25. Val-Acc:   0.44\n"
     ]
    },
    {
     "data": {
      "application/vnd.jupyter.widget-view+json": {
       "model_id": "5b477bd169d143c6bddc3d139776169e",
       "version_major": 2,
       "version_minor": 0
      },
      "text/plain": [
       "  0%|          | 0/23 [00:00<?, ? batch/s]"
      ]
     },
     "metadata": {},
     "output_type": "display_data"
    },
    {
     "name": "stdout",
     "output_type": "stream",
     "text": [
      "Train-Loss: 0.01. Train-Acc: 0.96\n",
      "Val-Loss:   0.28. Val-Acc:   0.41\n"
     ]
    },
    {
     "data": {
      "application/vnd.jupyter.widget-view+json": {
       "model_id": "eaba644ffea84c159494f5f74cd2aa14",
       "version_major": 2,
       "version_minor": 0
      },
      "text/plain": [
       "  0%|          | 0/23 [00:00<?, ? batch/s]"
      ]
     },
     "metadata": {},
     "output_type": "display_data"
    },
    {
     "name": "stdout",
     "output_type": "stream",
     "text": [
      "Train-Loss: 0.01. Train-Acc: 0.95\n",
      "Val-Loss:   0.28. Val-Acc:   0.43\n"
     ]
    },
    {
     "data": {
      "application/vnd.jupyter.widget-view+json": {
       "model_id": "f3d9af026e844bff8a13b987401afe2d",
       "version_major": 2,
       "version_minor": 0
      },
      "text/plain": [
       "  0%|          | 0/23 [00:00<?, ? batch/s]"
      ]
     },
     "metadata": {},
     "output_type": "display_data"
    },
    {
     "name": "stdout",
     "output_type": "stream",
     "text": [
      "Train-Loss: 0.01. Train-Acc: 0.95\n",
      "Val-Loss:   0.27. Val-Acc:   0.45\n"
     ]
    },
    {
     "data": {
      "application/vnd.jupyter.widget-view+json": {
       "model_id": "6f59b47594ba49f2a323337b812cb6df",
       "version_major": 2,
       "version_minor": 0
      },
      "text/plain": [
       "  0%|          | 0/23 [00:00<?, ? batch/s]"
      ]
     },
     "metadata": {},
     "output_type": "display_data"
    },
    {
     "name": "stdout",
     "output_type": "stream",
     "text": [
      "Train-Loss: 0.01. Train-Acc: 0.97\n",
      "Val-Loss:   0.28. Val-Acc:   0.43\n"
     ]
    },
    {
     "data": {
      "application/vnd.jupyter.widget-view+json": {
       "model_id": "6c374dc6f18042f4999906a67f30fc6f",
       "version_major": 2,
       "version_minor": 0
      },
      "text/plain": [
       "  0%|          | 0/23 [00:00<?, ? batch/s]"
      ]
     },
     "metadata": {},
     "output_type": "display_data"
    },
    {
     "name": "stdout",
     "output_type": "stream",
     "text": [
      "Train-Loss: 0.01. Train-Acc: 0.97\n",
      "Val-Loss:   0.24. Val-Acc:   0.49\n"
     ]
    },
    {
     "data": {
      "application/vnd.jupyter.widget-view+json": {
       "model_id": "63f0169537c441b2bd5438cf6a787094",
       "version_major": 2,
       "version_minor": 0
      },
      "text/plain": [
       "  0%|          | 0/23 [00:00<?, ? batch/s]"
      ]
     },
     "metadata": {},
     "output_type": "display_data"
    },
    {
     "name": "stdout",
     "output_type": "stream",
     "text": [
      "Train-Loss: 0.01. Train-Acc: 0.97\n",
      "Val-Loss:   0.27. Val-Acc:   0.46\n"
     ]
    },
    {
     "data": {
      "application/vnd.jupyter.widget-view+json": {
       "model_id": "8cd8708fb60c4ffca29ea8050a8539d0",
       "version_major": 2,
       "version_minor": 0
      },
      "text/plain": [
       "  0%|          | 0/23 [00:00<?, ? batch/s]"
      ]
     },
     "metadata": {},
     "output_type": "display_data"
    },
    {
     "name": "stdout",
     "output_type": "stream",
     "text": [
      "Train-Loss: 0.01. Train-Acc: 0.97\n",
      "Val-Loss:   0.26. Val-Acc:   0.45\n"
     ]
    },
    {
     "data": {
      "application/vnd.jupyter.widget-view+json": {
       "model_id": "6a2a91423ac7476eb1a87785d1ec4d3e",
       "version_major": 2,
       "version_minor": 0
      },
      "text/plain": [
       "  0%|          | 0/23 [00:00<?, ? batch/s]"
      ]
     },
     "metadata": {},
     "output_type": "display_data"
    },
    {
     "name": "stdout",
     "output_type": "stream",
     "text": [
      "Train-Loss: 0.00. Train-Acc: 0.98\n",
      "Val-Loss:   0.25. Val-Acc:   0.47\n"
     ]
    },
    {
     "data": {
      "application/vnd.jupyter.widget-view+json": {
       "model_id": "fd71484d1a244c53ab2d94f0e26af8da",
       "version_major": 2,
       "version_minor": 0
      },
      "text/plain": [
       "  0%|          | 0/23 [00:00<?, ? batch/s]"
      ]
     },
     "metadata": {},
     "output_type": "display_data"
    },
    {
     "name": "stdout",
     "output_type": "stream",
     "text": [
      "Train-Loss: 0.00. Train-Acc: 0.99\n",
      "Val-Loss:   0.24. Val-Acc:   0.48\n"
     ]
    },
    {
     "data": {
      "application/vnd.jupyter.widget-view+json": {
       "model_id": "e1a2cfcadb4d4d8599305f6be669394d",
       "version_major": 2,
       "version_minor": 0
      },
      "text/plain": [
       "  0%|          | 0/23 [00:00<?, ? batch/s]"
      ]
     },
     "metadata": {},
     "output_type": "display_data"
    },
    {
     "name": "stdout",
     "output_type": "stream",
     "text": [
      "Train-Loss: 0.00. Train-Acc: 0.99\n",
      "Val-Loss:   0.25. Val-Acc:   0.47\n"
     ]
    },
    {
     "data": {
      "application/vnd.jupyter.widget-view+json": {
       "model_id": "7476f909d19e459198ce523268389e97",
       "version_major": 2,
       "version_minor": 0
      },
      "text/plain": [
       "  0%|          | 0/23 [00:00<?, ? batch/s]"
      ]
     },
     "metadata": {},
     "output_type": "display_data"
    },
    {
     "name": "stdout",
     "output_type": "stream",
     "text": [
      "Train-Loss: 0.00. Train-Acc: 0.99\n",
      "Val-Loss:   0.26. Val-Acc:   0.46\n"
     ]
    },
    {
     "data": {
      "application/vnd.jupyter.widget-view+json": {
       "model_id": "8b23c5405fe3496fadde9ffd513e734c",
       "version_major": 2,
       "version_minor": 0
      },
      "text/plain": [
       "  0%|          | 0/23 [00:00<?, ? batch/s]"
      ]
     },
     "metadata": {},
     "output_type": "display_data"
    },
    {
     "name": "stdout",
     "output_type": "stream",
     "text": [
      "Train-Loss: 0.00. Train-Acc: 1.00\n",
      "Val-Loss:   0.26. Val-Acc:   0.45\n"
     ]
    },
    {
     "data": {
      "application/vnd.jupyter.widget-view+json": {
       "model_id": "e8cd238e4f8e43299fa9b1212e87de66",
       "version_major": 2,
       "version_minor": 0
      },
      "text/plain": [
       "  0%|          | 0/23 [00:00<?, ? batch/s]"
      ]
     },
     "metadata": {},
     "output_type": "display_data"
    },
    {
     "name": "stdout",
     "output_type": "stream",
     "text": [
      "Train-Loss: 0.00. Train-Acc: 0.99\n",
      "Val-Loss:   0.26. Val-Acc:   0.45\n"
     ]
    },
    {
     "data": {
      "application/vnd.jupyter.widget-view+json": {
       "model_id": "1bff808f0aee4bdcb31869b1a1d967a9",
       "version_major": 2,
       "version_minor": 0
      },
      "text/plain": [
       "  0%|          | 0/23 [00:00<?, ? batch/s]"
      ]
     },
     "metadata": {},
     "output_type": "display_data"
    },
    {
     "name": "stdout",
     "output_type": "stream",
     "text": [
      "Train-Loss: 0.00. Train-Acc: 1.00\n",
      "Val-Loss:   0.25. Val-Acc:   0.46\n"
     ]
    },
    {
     "data": {
      "application/vnd.jupyter.widget-view+json": {
       "model_id": "1a3360251748448fa87e7e14a58eb992",
       "version_major": 2,
       "version_minor": 0
      },
      "text/plain": [
       "  0%|          | 0/23 [00:00<?, ? batch/s]"
      ]
     },
     "metadata": {},
     "output_type": "display_data"
    },
    {
     "name": "stdout",
     "output_type": "stream",
     "text": [
      "Train-Loss: 0.00. Train-Acc: 1.00\n",
      "Val-Loss:   0.25. Val-Acc:   0.45\n"
     ]
    },
    {
     "data": {
      "application/vnd.jupyter.widget-view+json": {
       "model_id": "c969a119d5d34812879b03e5abdd2708",
       "version_major": 2,
       "version_minor": 0
      },
      "text/plain": [
       "  0%|          | 0/23 [00:00<?, ? batch/s]"
      ]
     },
     "metadata": {},
     "output_type": "display_data"
    },
    {
     "name": "stdout",
     "output_type": "stream",
     "text": [
      "Train-Loss: 0.00. Train-Acc: 1.00\n",
      "Early stopping after 28 epochs with best epoch in 17\n"
     ]
    }
   ],
   "source": [
    "best_model1, train_losses1, val_losses1, train_accuracies1, val_accuracies1 = train(\n",
    "    model=resnet_pretrained1,\n",
    "    optimizer=optimizer,\n",
    "    criterion=criterion,\n",
    "    train_loader=train_loader_base,\n",
    "    epochs=epochs,\n",
    "    device=device,\n",
    "    val_loader=val_loader,\n",
    ")"
   ]
  },
  {
   "cell_type": "code",
   "execution_count": 23,
   "id": "89a98a8c",
   "metadata": {
    "tags": []
   },
   "outputs": [
    {
     "data": {
      "application/vnd.jupyter.widget-view+json": {
       "model_id": "e4bc406e298f4c7a8d6cb19b14cf963e",
       "version_major": 2,
       "version_minor": 0
      },
      "text/plain": [
       "Test:   0%|          | 0/7 [00:00<?, ?it/s]"
      ]
     },
     "metadata": {},
     "output_type": "display_data"
    }
   ],
   "source": [
    "results1 = test(best_model1, test_loader, full_dataset_te.class_names, device)"
   ]
  },
  {
   "cell_type": "code",
   "execution_count": 25,
   "id": "a745d2f6",
   "metadata": {
    "tags": []
   },
   "outputs": [
    {
     "name": "stdout",
     "output_type": "stream",
     "text": [
      "overall_acc\t 0.4738095238095238\n",
      "f1_micro\t 0.854619065145381\n",
      "f1_macro\t 0.8763337749832153\n",
      "mAP_micro\t 0.7641850222601153\n",
      "mAP_macro\t 0.8153048940589729\n",
      "              precision    recall  f1-score   support\n",
      "\n",
      "    airplane       1.00      0.65      0.79        17\n",
      "   bare-soil       0.81      0.69      0.75       140\n",
      "   buildings       0.84      0.84      0.84       127\n",
      "        cars       0.82      0.83      0.83       181\n",
      "   chaparral       0.96      1.00      0.98        27\n",
      "       court       0.78      0.61      0.68        23\n",
      "        dock       0.95      1.00      0.98        20\n",
      "       field       1.00      0.95      0.98        21\n",
      "       grass       0.91      0.76      0.83       202\n",
      " mobile-home       1.00      0.93      0.96        27\n",
      "    pavement       0.92      0.88      0.90       258\n",
      "        sand       0.94      0.81      0.87        58\n",
      "         sea       1.00      1.00      1.00        20\n",
      "        ship       0.95      1.00      0.98        20\n",
      "       tanks       1.00      0.61      0.76        18\n",
      "       trees       0.84      0.88      0.86       200\n",
      "       water       0.97      0.90      0.93        39\n",
      "\n",
      "   micro avg       0.88      0.83      0.85      1398\n",
      "   macro avg       0.92      0.84      0.88      1398\n",
      "weighted avg       0.88      0.83      0.85      1398\n",
      " samples avg       0.90      0.86      0.87      1398\n",
      "\n"
     ]
    }
   ],
   "source": [
    "show_results(results1)"
   ]
  },
  {
   "cell_type": "code",
   "execution_count": 30,
   "id": "c3327640-d7dc-4ab7-a72e-104030d2d828",
   "metadata": {
    "tags": []
   },
   "outputs": [],
   "source": [
    "file_name = results_path / f\"val_accuracies1.json\"\n",
    "# save_results_to_json(val_accuracies1, file_name)"
   ]
  },
  {
   "cell_type": "markdown",
   "id": "d3c16801",
   "metadata": {
    "tags": []
   },
   "source": [
    "#### 4.2 A method that includes random affine transformation (e.g. degrees=10) and random auto-contrast"
   ]
  },
  {
   "cell_type": "code",
   "execution_count": 19,
   "id": "70e0e03b",
   "metadata": {
    "tags": []
   },
   "outputs": [],
   "source": [
    "tr_transform_affine_autocontrast = transforms.Compose(\n",
    "    [\n",
    "        transforms.Resize((64, 64)),\n",
    "        transforms.RandomAffine(degrees=10),\n",
    "        transforms.RandomAutocontrast(),\n",
    "        transforms.ToTensor(),\n",
    "        transforms.Normalize(mean=ucm_mean, std=ucm_std),\n",
    "    ]\n",
    ")\n",
    "\n",
    "train_dataset_aa, train_loader_aa = get_split_transform_train_data(tr_transform_affine_autocontrast)"
   ]
  },
  {
   "cell_type": "code",
   "execution_count": 20,
   "id": "72a73f89",
   "metadata": {
    "tags": []
   },
   "outputs": [],
   "source": [
    "resnet_pretrained2 = models.resnet18(weights=ResNet18_Weights.DEFAULT)\n",
    "resnet_pretrained2.fc = nn.Linear(512, 17)\n",
    "\n",
    "optimizer = optim.SGD(\n",
    "    resnet_pretrained2.parameters(),\n",
    "    lr=learning_rate,\n",
    "    momentum=0.95,\n",
    "    weight_decay=0.0001,\n",
    "    nesterov=True,\n",
    ")"
   ]
  },
  {
   "cell_type": "code",
   "execution_count": 21,
   "id": "6c53625b",
   "metadata": {
    "tags": []
   },
   "outputs": [
    {
     "data": {
      "application/vnd.jupyter.widget-view+json": {
       "model_id": "5326fd8f6ddf409986d4b54c26b9a749",
       "version_major": 2,
       "version_minor": 0
      },
      "text/plain": [
       "Training the network:   0%|          | 0/30 [00:00<?, ?it/s]"
      ]
     },
     "metadata": {},
     "output_type": "display_data"
    },
    {
     "data": {
      "application/vnd.jupyter.widget-view+json": {
       "model_id": "e1afc165174c4499bf8e63f45a4ccd60",
       "version_major": 2,
       "version_minor": 0
      },
      "text/plain": [
       "  0%|          | 0/23 [00:00<?, ? batch/s]"
      ]
     },
     "metadata": {},
     "output_type": "display_data"
    },
    {
     "name": "stdout",
     "output_type": "stream",
     "text": [
      "Train-Loss: 0.32. Train-Acc: 0.13\n",
      "Val-Loss:   0.48. Val-Acc:   0.14\n"
     ]
    },
    {
     "data": {
      "application/vnd.jupyter.widget-view+json": {
       "model_id": "3b2cac94154e406bb86dca673580a5cc",
       "version_major": 2,
       "version_minor": 0
      },
      "text/plain": [
       "  0%|          | 0/23 [00:00<?, ? batch/s]"
      ]
     },
     "metadata": {},
     "output_type": "display_data"
    },
    {
     "name": "stdout",
     "output_type": "stream",
     "text": [
      "Train-Loss: 0.17. Train-Acc: 0.35\n",
      "Val-Loss:   0.21. Val-Acc:   0.32\n"
     ]
    },
    {
     "data": {
      "application/vnd.jupyter.widget-view+json": {
       "model_id": "31af7247209c472796e3a16070215034",
       "version_major": 2,
       "version_minor": 0
      },
      "text/plain": [
       "  0%|          | 0/23 [00:00<?, ? batch/s]"
      ]
     },
     "metadata": {},
     "output_type": "display_data"
    },
    {
     "name": "stdout",
     "output_type": "stream",
     "text": [
      "Train-Loss: 0.13. Train-Acc: 0.45\n",
      "Val-Loss:   0.23. Val-Acc:   0.32\n"
     ]
    },
    {
     "data": {
      "application/vnd.jupyter.widget-view+json": {
       "model_id": "5f09dc541c4f41398796b687e64dd577",
       "version_major": 2,
       "version_minor": 0
      },
      "text/plain": [
       "  0%|          | 0/23 [00:00<?, ? batch/s]"
      ]
     },
     "metadata": {},
     "output_type": "display_data"
    },
    {
     "name": "stdout",
     "output_type": "stream",
     "text": [
      "Train-Loss: 0.10. Train-Acc: 0.55\n",
      "Val-Loss:   0.18. Val-Acc:   0.42\n"
     ]
    },
    {
     "data": {
      "application/vnd.jupyter.widget-view+json": {
       "model_id": "3aff26fd618f47ceac7f9386a92bdc86",
       "version_major": 2,
       "version_minor": 0
      },
      "text/plain": [
       "  0%|          | 0/23 [00:00<?, ? batch/s]"
      ]
     },
     "metadata": {},
     "output_type": "display_data"
    },
    {
     "name": "stdout",
     "output_type": "stream",
     "text": [
      "Train-Loss: 0.09. Train-Acc: 0.57\n",
      "Val-Loss:   0.20. Val-Acc:   0.39\n"
     ]
    },
    {
     "data": {
      "application/vnd.jupyter.widget-view+json": {
       "model_id": "1e95398c84da4b4395eab616731a4dd1",
       "version_major": 2,
       "version_minor": 0
      },
      "text/plain": [
       "  0%|          | 0/23 [00:00<?, ? batch/s]"
      ]
     },
     "metadata": {},
     "output_type": "display_data"
    },
    {
     "name": "stdout",
     "output_type": "stream",
     "text": [
      "Train-Loss: 0.08. Train-Acc: 0.62\n",
      "Val-Loss:   0.18. Val-Acc:   0.38\n"
     ]
    },
    {
     "data": {
      "application/vnd.jupyter.widget-view+json": {
       "model_id": "19427ca51d0d4bdf880bd6696ddbb731",
       "version_major": 2,
       "version_minor": 0
      },
      "text/plain": [
       "  0%|          | 0/23 [00:00<?, ? batch/s]"
      ]
     },
     "metadata": {},
     "output_type": "display_data"
    },
    {
     "name": "stdout",
     "output_type": "stream",
     "text": [
      "Train-Loss: 0.06. Train-Acc: 0.69\n",
      "Val-Loss:   0.18. Val-Acc:   0.39\n"
     ]
    },
    {
     "data": {
      "application/vnd.jupyter.widget-view+json": {
       "model_id": "6a73039bb4d6464fa162b4fa11a7002a",
       "version_major": 2,
       "version_minor": 0
      },
      "text/plain": [
       "  0%|          | 0/23 [00:00<?, ? batch/s]"
      ]
     },
     "metadata": {},
     "output_type": "display_data"
    },
    {
     "name": "stdout",
     "output_type": "stream",
     "text": [
      "Train-Loss: 0.05. Train-Acc: 0.75\n",
      "Val-Loss:   0.18. Val-Acc:   0.45\n"
     ]
    },
    {
     "data": {
      "application/vnd.jupyter.widget-view+json": {
       "model_id": "44614fa4d51e46a889b536ae4ac8c714",
       "version_major": 2,
       "version_minor": 0
      },
      "text/plain": [
       "  0%|          | 0/23 [00:00<?, ? batch/s]"
      ]
     },
     "metadata": {},
     "output_type": "display_data"
    },
    {
     "name": "stdout",
     "output_type": "stream",
     "text": [
      "Train-Loss: 0.04. Train-Acc: 0.80\n",
      "Val-Loss:   0.21. Val-Acc:   0.45\n"
     ]
    },
    {
     "data": {
      "application/vnd.jupyter.widget-view+json": {
       "model_id": "5e7bf4205660411bbee8f13cb020ec06",
       "version_major": 2,
       "version_minor": 0
      },
      "text/plain": [
       "  0%|          | 0/23 [00:00<?, ? batch/s]"
      ]
     },
     "metadata": {},
     "output_type": "display_data"
    },
    {
     "name": "stdout",
     "output_type": "stream",
     "text": [
      "Train-Loss: 0.03. Train-Acc: 0.82\n",
      "Val-Loss:   0.22. Val-Acc:   0.42\n"
     ]
    },
    {
     "data": {
      "application/vnd.jupyter.widget-view+json": {
       "model_id": "741e08c93aab4020ba855363cd2272cd",
       "version_major": 2,
       "version_minor": 0
      },
      "text/plain": [
       "  0%|          | 0/23 [00:00<?, ? batch/s]"
      ]
     },
     "metadata": {},
     "output_type": "display_data"
    },
    {
     "name": "stdout",
     "output_type": "stream",
     "text": [
      "Train-Loss: 0.03. Train-Acc: 0.83\n",
      "Val-Loss:   0.20. Val-Acc:   0.44\n"
     ]
    },
    {
     "data": {
      "application/vnd.jupyter.widget-view+json": {
       "model_id": "655c1cf502154dbe926ed0339186eb51",
       "version_major": 2,
       "version_minor": 0
      },
      "text/plain": [
       "  0%|          | 0/23 [00:00<?, ? batch/s]"
      ]
     },
     "metadata": {},
     "output_type": "display_data"
    },
    {
     "name": "stdout",
     "output_type": "stream",
     "text": [
      "Train-Loss: 0.03. Train-Acc: 0.86\n",
      "Val-Loss:   0.22. Val-Acc:   0.42\n"
     ]
    },
    {
     "data": {
      "application/vnd.jupyter.widget-view+json": {
       "model_id": "84743516a9fd444ebf358ece6271c4ff",
       "version_major": 2,
       "version_minor": 0
      },
      "text/plain": [
       "  0%|          | 0/23 [00:00<?, ? batch/s]"
      ]
     },
     "metadata": {},
     "output_type": "display_data"
    },
    {
     "name": "stdout",
     "output_type": "stream",
     "text": [
      "Train-Loss: 0.03. Train-Acc: 0.87\n",
      "Val-Loss:   0.23. Val-Acc:   0.44\n"
     ]
    },
    {
     "data": {
      "application/vnd.jupyter.widget-view+json": {
       "model_id": "a8f05f24aace436dbce798ed001dc958",
       "version_major": 2,
       "version_minor": 0
      },
      "text/plain": [
       "  0%|          | 0/23 [00:00<?, ? batch/s]"
      ]
     },
     "metadata": {},
     "output_type": "display_data"
    },
    {
     "name": "stdout",
     "output_type": "stream",
     "text": [
      "Train-Loss: 0.03. Train-Acc: 0.86\n",
      "Val-Loss:   0.24. Val-Acc:   0.44\n"
     ]
    },
    {
     "data": {
      "application/vnd.jupyter.widget-view+json": {
       "model_id": "838a92396cce4c238ea426b8193d3fff",
       "version_major": 2,
       "version_minor": 0
      },
      "text/plain": [
       "  0%|          | 0/23 [00:00<?, ? batch/s]"
      ]
     },
     "metadata": {},
     "output_type": "display_data"
    },
    {
     "name": "stdout",
     "output_type": "stream",
     "text": [
      "Train-Loss: 0.02. Train-Acc: 0.89\n",
      "Val-Loss:   0.23. Val-Acc:   0.40\n"
     ]
    },
    {
     "data": {
      "application/vnd.jupyter.widget-view+json": {
       "model_id": "a8f9f6536f2040619ae15d3759d62496",
       "version_major": 2,
       "version_minor": 0
      },
      "text/plain": [
       "  0%|          | 0/23 [00:00<?, ? batch/s]"
      ]
     },
     "metadata": {},
     "output_type": "display_data"
    },
    {
     "name": "stdout",
     "output_type": "stream",
     "text": [
      "Train-Loss: 0.02. Train-Acc: 0.90\n",
      "Val-Loss:   0.23. Val-Acc:   0.43\n"
     ]
    },
    {
     "data": {
      "application/vnd.jupyter.widget-view+json": {
       "model_id": "d7aa7a1a59f242bdb59930f866832b72",
       "version_major": 2,
       "version_minor": 0
      },
      "text/plain": [
       "  0%|          | 0/23 [00:00<?, ? batch/s]"
      ]
     },
     "metadata": {},
     "output_type": "display_data"
    },
    {
     "name": "stdout",
     "output_type": "stream",
     "text": [
      "Train-Loss: 0.02. Train-Acc: 0.92\n",
      "Val-Loss:   0.25. Val-Acc:   0.41\n"
     ]
    },
    {
     "data": {
      "application/vnd.jupyter.widget-view+json": {
       "model_id": "04ebaecf6eb04d9897d12cf9f593f6c4",
       "version_major": 2,
       "version_minor": 0
      },
      "text/plain": [
       "  0%|          | 0/23 [00:00<?, ? batch/s]"
      ]
     },
     "metadata": {},
     "output_type": "display_data"
    },
    {
     "name": "stdout",
     "output_type": "stream",
     "text": [
      "Train-Loss: 0.02. Train-Acc: 0.91\n",
      "Val-Loss:   0.25. Val-Acc:   0.43\n"
     ]
    },
    {
     "data": {
      "application/vnd.jupyter.widget-view+json": {
       "model_id": "60f3daa7c40c4c7eb61e9772e42759b9",
       "version_major": 2,
       "version_minor": 0
      },
      "text/plain": [
       "  0%|          | 0/23 [00:00<?, ? batch/s]"
      ]
     },
     "metadata": {},
     "output_type": "display_data"
    },
    {
     "name": "stdout",
     "output_type": "stream",
     "text": [
      "Train-Loss: 0.02. Train-Acc: 0.90\n",
      "Early stopping after 19 epochs with best epoch in 8\n"
     ]
    }
   ],
   "source": [
    "best_model2, train_losses2, val_losses2, train_accuracies2, val_accuracies2 = train(\n",
    "    model=resnet_pretrained2,\n",
    "    optimizer=optimizer,\n",
    "    criterion=criterion,\n",
    "    train_loader=train_loader_aa,\n",
    "    epochs=epochs,\n",
    "    device=device,\n",
    "    val_loader=val_loader,\n",
    ")"
   ]
  },
  {
   "cell_type": "code",
   "execution_count": 22,
   "id": "a4277fa2-fe19-4c23-8867-1ea92ac90b83",
   "metadata": {
    "tags": []
   },
   "outputs": [
    {
     "data": {
      "application/vnd.jupyter.widget-view+json": {
       "model_id": "1940a1199d5547e5bab49f470503cb70",
       "version_major": 2,
       "version_minor": 0
      },
      "text/plain": [
       "Test:   0%|          | 0/7 [00:00<?, ?it/s]"
      ]
     },
     "metadata": {},
     "output_type": "display_data"
    }
   ],
   "source": [
    "results2 = test(best_model2, test_loader, full_dataset_te.class_names, device)"
   ]
  },
  {
   "cell_type": "code",
   "execution_count": 23,
   "id": "1b7474ca-8367-48bc-abdd-dbeaaf2644e7",
   "metadata": {
    "tags": []
   },
   "outputs": [
    {
     "name": "stdout",
     "output_type": "stream",
     "text": [
      "overall_acc\t 0.45\n",
      "f1_micro\t 0.8509200150206534\n",
      "f1_macro\t 0.8799579234922112\n",
      "mAP_micro\t 0.7629903202184027\n",
      "mAP_macro\t 0.8232597665105092\n",
      "              precision    recall  f1-score   support\n",
      "\n",
      "    airplane       0.94      0.88      0.91        17\n",
      "   bare-soil       0.91      0.62      0.74       140\n",
      "   buildings       0.86      0.80      0.82       127\n",
      "        cars       0.91      0.71      0.80       181\n",
      "   chaparral       0.96      0.96      0.96        27\n",
      "       court       0.79      0.65      0.71        23\n",
      "        dock       1.00      0.95      0.97        20\n",
      "       field       0.95      0.95      0.95        21\n",
      "       grass       0.85      0.81      0.83       202\n",
      " mobile-home       1.00      0.93      0.96        27\n",
      "    pavement       0.91      0.90      0.90       258\n",
      "        sand       0.92      0.76      0.83        58\n",
      "         sea       0.95      1.00      0.98        20\n",
      "        ship       1.00      1.00      1.00        20\n",
      "       tanks       1.00      0.67      0.80        18\n",
      "       trees       0.85      0.86      0.86       200\n",
      "       water       1.00      0.87      0.93        39\n",
      "\n",
      "   micro avg       0.90      0.81      0.85      1398\n",
      "   macro avg       0.93      0.84      0.88      1398\n",
      "weighted avg       0.90      0.81      0.85      1398\n",
      " samples avg       0.91      0.84      0.86      1398\n",
      "\n"
     ]
    }
   ],
   "source": [
    "show_results(results2)"
   ]
  },
  {
   "cell_type": "code",
   "execution_count": 29,
   "id": "cc3049a2-5431-4d19-834d-bcfe696d7dec",
   "metadata": {
    "tags": []
   },
   "outputs": [],
   "source": [
    "file_name = results_path / f\"val_accuracies2.json\"\n",
    "# save_results_to_json(val_accuracies2, file_name)"
   ]
  },
  {
   "cell_type": "markdown",
   "id": "90d2d693",
   "metadata": {
    "tags": []
   },
   "source": [
    "#### 4.3 A method that consists of 3 augmentation methods that you select on your own\n",
    "* random horizontal flip\n",
    "* random rotation\n",
    "* random brightness adjustment"
   ]
  },
  {
   "cell_type": "code",
   "execution_count": 19,
   "id": "0fd0c95c",
   "metadata": {
    "tags": []
   },
   "outputs": [],
   "source": [
    "tr_transform_combined = transforms.Compose(\n",
    "    [\n",
    "        transforms.Resize((64, 64)),\n",
    "        transforms.RandomHorizontalFlip(),\n",
    "        transforms.RandomRotation(degrees=10),\n",
    "        transforms.ColorJitter(brightness=0.2, contrast=0.2, saturation=0.2, hue=0.1),\n",
    "        transforms.ToTensor(),\n",
    "        transforms.Normalize(mean=ucm_mean, std=ucm_std),\n",
    "    ]\n",
    ")\n",
    "train_dataset_c, train_loader_c = get_split_transform_train_data(tr_transform_combined)"
   ]
  },
  {
   "cell_type": "code",
   "execution_count": 20,
   "id": "a17860dc",
   "metadata": {
    "tags": []
   },
   "outputs": [],
   "source": [
    "resnet_pretrained3 = models.resnet18(weights=ResNet18_Weights.DEFAULT)\n",
    "resnet_pretrained3.fc = nn.Linear(512, 17)\n",
    "\n",
    "optimizer = optim.SGD(\n",
    "    resnet_pretrained3.parameters(),\n",
    "    lr=learning_rate,\n",
    "    momentum=0.95,\n",
    "    weight_decay=0.0001,\n",
    "    nesterov=True,\n",
    ")"
   ]
  },
  {
   "cell_type": "code",
   "execution_count": 21,
   "id": "7954c9bf",
   "metadata": {
    "tags": []
   },
   "outputs": [
    {
     "data": {
      "application/vnd.jupyter.widget-view+json": {
       "model_id": "fdb324c829964a27a9fee023c6db7a5e",
       "version_major": 2,
       "version_minor": 0
      },
      "text/plain": [
       "Training the network:   0%|          | 0/35 [00:00<?, ?it/s]"
      ]
     },
     "metadata": {},
     "output_type": "display_data"
    },
    {
     "data": {
      "application/vnd.jupyter.widget-view+json": {
       "model_id": "f7da31304d6243818cab237ccaa06949",
       "version_major": 2,
       "version_minor": 0
      },
      "text/plain": [
       "  0%|          | 0/23 [00:00<?, ? batch/s]"
      ]
     },
     "metadata": {},
     "output_type": "display_data"
    },
    {
     "name": "stdout",
     "output_type": "stream",
     "text": [
      "Train-Loss: 0.31. Train-Acc: 0.15\n",
      "Val-Loss:   0.50. Val-Acc:   0.19\n"
     ]
    },
    {
     "data": {
      "application/vnd.jupyter.widget-view+json": {
       "model_id": "cc772336e4b74f2c89da83fe01785623",
       "version_major": 2,
       "version_minor": 0
      },
      "text/plain": [
       "  0%|          | 0/23 [00:00<?, ? batch/s]"
      ]
     },
     "metadata": {},
     "output_type": "display_data"
    },
    {
     "name": "stdout",
     "output_type": "stream",
     "text": [
      "Train-Loss: 0.18. Train-Acc: 0.32\n",
      "Val-Loss:   0.25. Val-Acc:   0.30\n"
     ]
    },
    {
     "data": {
      "application/vnd.jupyter.widget-view+json": {
       "model_id": "2aa7259450614e9199b9235578a7df40",
       "version_major": 2,
       "version_minor": 0
      },
      "text/plain": [
       "  0%|          | 0/23 [00:00<?, ? batch/s]"
      ]
     },
     "metadata": {},
     "output_type": "display_data"
    },
    {
     "name": "stdout",
     "output_type": "stream",
     "text": [
      "Train-Loss: 0.16. Train-Acc: 0.37\n",
      "Val-Loss:   0.21. Val-Acc:   0.31\n"
     ]
    },
    {
     "data": {
      "application/vnd.jupyter.widget-view+json": {
       "model_id": "00ea4847bb144b249987bcb733e6625e",
       "version_major": 2,
       "version_minor": 0
      },
      "text/plain": [
       "  0%|          | 0/23 [00:00<?, ? batch/s]"
      ]
     },
     "metadata": {},
     "output_type": "display_data"
    },
    {
     "name": "stdout",
     "output_type": "stream",
     "text": [
      "Train-Loss: 0.13. Train-Acc: 0.43\n",
      "Val-Loss:   0.17. Val-Acc:   0.38\n"
     ]
    },
    {
     "data": {
      "application/vnd.jupyter.widget-view+json": {
       "model_id": "9c5da857aa444c0288487f0d43d728c5",
       "version_major": 2,
       "version_minor": 0
      },
      "text/plain": [
       "  0%|          | 0/23 [00:00<?, ? batch/s]"
      ]
     },
     "metadata": {},
     "output_type": "display_data"
    },
    {
     "name": "stdout",
     "output_type": "stream",
     "text": [
      "Train-Loss: 0.12. Train-Acc: 0.47\n",
      "Val-Loss:   0.18. Val-Acc:   0.41\n"
     ]
    },
    {
     "data": {
      "application/vnd.jupyter.widget-view+json": {
       "model_id": "019868ed9a7d4ded92fda520cdaffa92",
       "version_major": 2,
       "version_minor": 0
      },
      "text/plain": [
       "  0%|          | 0/23 [00:00<?, ? batch/s]"
      ]
     },
     "metadata": {},
     "output_type": "display_data"
    },
    {
     "name": "stdout",
     "output_type": "stream",
     "text": [
      "Train-Loss: 0.10. Train-Acc: 0.52\n",
      "Val-Loss:   0.16. Val-Acc:   0.43\n"
     ]
    },
    {
     "data": {
      "application/vnd.jupyter.widget-view+json": {
       "model_id": "2defd9a7be02410a952f91e58c5e30f2",
       "version_major": 2,
       "version_minor": 0
      },
      "text/plain": [
       "  0%|          | 0/23 [00:00<?, ? batch/s]"
      ]
     },
     "metadata": {},
     "output_type": "display_data"
    },
    {
     "name": "stdout",
     "output_type": "stream",
     "text": [
      "Train-Loss: 0.09. Train-Acc: 0.55\n",
      "Val-Loss:   0.16. Val-Acc:   0.41\n"
     ]
    },
    {
     "data": {
      "application/vnd.jupyter.widget-view+json": {
       "model_id": "ca8767807e374f1786dd2d19bd581649",
       "version_major": 2,
       "version_minor": 0
      },
      "text/plain": [
       "  0%|          | 0/23 [00:00<?, ? batch/s]"
      ]
     },
     "metadata": {},
     "output_type": "display_data"
    },
    {
     "name": "stdout",
     "output_type": "stream",
     "text": [
      "Train-Loss: 0.08. Train-Acc: 0.58\n",
      "Val-Loss:   0.16. Val-Acc:   0.40\n"
     ]
    },
    {
     "data": {
      "application/vnd.jupyter.widget-view+json": {
       "model_id": "8e21482f01df4217a72aea88df51242a",
       "version_major": 2,
       "version_minor": 0
      },
      "text/plain": [
       "  0%|          | 0/23 [00:00<?, ? batch/s]"
      ]
     },
     "metadata": {},
     "output_type": "display_data"
    },
    {
     "name": "stdout",
     "output_type": "stream",
     "text": [
      "Train-Loss: 0.08. Train-Acc: 0.61\n",
      "Val-Loss:   0.17. Val-Acc:   0.41\n"
     ]
    },
    {
     "data": {
      "application/vnd.jupyter.widget-view+json": {
       "model_id": "075b8e3617b14d50b2669e5b61317efe",
       "version_major": 2,
       "version_minor": 0
      },
      "text/plain": [
       "  0%|          | 0/23 [00:00<?, ? batch/s]"
      ]
     },
     "metadata": {},
     "output_type": "display_data"
    },
    {
     "name": "stdout",
     "output_type": "stream",
     "text": [
      "Train-Loss: 0.07. Train-Acc: 0.64\n",
      "Val-Loss:   0.18. Val-Acc:   0.41\n"
     ]
    },
    {
     "data": {
      "application/vnd.jupyter.widget-view+json": {
       "model_id": "81c4a7d2295848c1bfa2e9be4cc04793",
       "version_major": 2,
       "version_minor": 0
      },
      "text/plain": [
       "  0%|          | 0/23 [00:00<?, ? batch/s]"
      ]
     },
     "metadata": {},
     "output_type": "display_data"
    },
    {
     "name": "stdout",
     "output_type": "stream",
     "text": [
      "Train-Loss: 0.06. Train-Acc: 0.69\n",
      "Val-Loss:   0.21. Val-Acc:   0.40\n"
     ]
    },
    {
     "data": {
      "application/vnd.jupyter.widget-view+json": {
       "model_id": "6ea360291b37457ab3225bae81f83eae",
       "version_major": 2,
       "version_minor": 0
      },
      "text/plain": [
       "  0%|          | 0/23 [00:00<?, ? batch/s]"
      ]
     },
     "metadata": {},
     "output_type": "display_data"
    },
    {
     "name": "stdout",
     "output_type": "stream",
     "text": [
      "Train-Loss: 0.06. Train-Acc: 0.70\n",
      "Val-Loss:   0.17. Val-Acc:   0.46\n"
     ]
    },
    {
     "data": {
      "application/vnd.jupyter.widget-view+json": {
       "model_id": "d2a891a8cea448f3a27e834d39f8216d",
       "version_major": 2,
       "version_minor": 0
      },
      "text/plain": [
       "  0%|          | 0/23 [00:00<?, ? batch/s]"
      ]
     },
     "metadata": {},
     "output_type": "display_data"
    },
    {
     "name": "stdout",
     "output_type": "stream",
     "text": [
      "Train-Loss: 0.05. Train-Acc: 0.75\n",
      "Val-Loss:   0.18. Val-Acc:   0.43\n"
     ]
    },
    {
     "data": {
      "application/vnd.jupyter.widget-view+json": {
       "model_id": "124e1809bab74bd6a7fd9a316e00f139",
       "version_major": 2,
       "version_minor": 0
      },
      "text/plain": [
       "  0%|          | 0/23 [00:00<?, ? batch/s]"
      ]
     },
     "metadata": {},
     "output_type": "display_data"
    },
    {
     "name": "stdout",
     "output_type": "stream",
     "text": [
      "Train-Loss: 0.04. Train-Acc: 0.77\n",
      "Val-Loss:   0.20. Val-Acc:   0.44\n"
     ]
    },
    {
     "data": {
      "application/vnd.jupyter.widget-view+json": {
       "model_id": "e6430d36134e4c76990c3c68fd10f124",
       "version_major": 2,
       "version_minor": 0
      },
      "text/plain": [
       "  0%|          | 0/23 [00:00<?, ? batch/s]"
      ]
     },
     "metadata": {},
     "output_type": "display_data"
    },
    {
     "name": "stdout",
     "output_type": "stream",
     "text": [
      "Train-Loss: 0.04. Train-Acc: 0.77\n",
      "Val-Loss:   0.18. Val-Acc:   0.42\n"
     ]
    },
    {
     "data": {
      "application/vnd.jupyter.widget-view+json": {
       "model_id": "cfcca855086543b093ca2117ed9eedfe",
       "version_major": 2,
       "version_minor": 0
      },
      "text/plain": [
       "  0%|          | 0/23 [00:00<?, ? batch/s]"
      ]
     },
     "metadata": {},
     "output_type": "display_data"
    },
    {
     "name": "stdout",
     "output_type": "stream",
     "text": [
      "Train-Loss: 0.04. Train-Acc: 0.79\n",
      "Val-Loss:   0.20. Val-Acc:   0.44\n"
     ]
    },
    {
     "data": {
      "application/vnd.jupyter.widget-view+json": {
       "model_id": "d860fd11d4f44982a7fa13c8f8cf58d7",
       "version_major": 2,
       "version_minor": 0
      },
      "text/plain": [
       "  0%|          | 0/23 [00:00<?, ? batch/s]"
      ]
     },
     "metadata": {},
     "output_type": "display_data"
    },
    {
     "name": "stdout",
     "output_type": "stream",
     "text": [
      "Train-Loss: 0.04. Train-Acc: 0.81\n",
      "Val-Loss:   0.21. Val-Acc:   0.40\n"
     ]
    },
    {
     "data": {
      "application/vnd.jupyter.widget-view+json": {
       "model_id": "78b24cbe71cd4364b828618698b409d7",
       "version_major": 2,
       "version_minor": 0
      },
      "text/plain": [
       "  0%|          | 0/23 [00:00<?, ? batch/s]"
      ]
     },
     "metadata": {},
     "output_type": "display_data"
    },
    {
     "name": "stdout",
     "output_type": "stream",
     "text": [
      "Train-Loss: 0.03. Train-Acc: 0.82\n",
      "Val-Loss:   0.20. Val-Acc:   0.47\n"
     ]
    },
    {
     "data": {
      "application/vnd.jupyter.widget-view+json": {
       "model_id": "2322aac564954ce5a59ed22aa8efa0ae",
       "version_major": 2,
       "version_minor": 0
      },
      "text/plain": [
       "  0%|          | 0/23 [00:00<?, ? batch/s]"
      ]
     },
     "metadata": {},
     "output_type": "display_data"
    },
    {
     "name": "stdout",
     "output_type": "stream",
     "text": [
      "Train-Loss: 0.03. Train-Acc: 0.83\n",
      "Val-Loss:   0.21. Val-Acc:   0.43\n"
     ]
    },
    {
     "data": {
      "application/vnd.jupyter.widget-view+json": {
       "model_id": "23703f85e5d644ef9ffdf8f5553d47f3",
       "version_major": 2,
       "version_minor": 0
      },
      "text/plain": [
       "  0%|          | 0/23 [00:00<?, ? batch/s]"
      ]
     },
     "metadata": {},
     "output_type": "display_data"
    },
    {
     "name": "stdout",
     "output_type": "stream",
     "text": [
      "Train-Loss: 0.03. Train-Acc: 0.84\n",
      "Val-Loss:   0.20. Val-Acc:   0.43\n"
     ]
    },
    {
     "data": {
      "application/vnd.jupyter.widget-view+json": {
       "model_id": "9789393c3e3c4c86aeb6761c1fba73cc",
       "version_major": 2,
       "version_minor": 0
      },
      "text/plain": [
       "  0%|          | 0/23 [00:00<?, ? batch/s]"
      ]
     },
     "metadata": {},
     "output_type": "display_data"
    },
    {
     "name": "stdout",
     "output_type": "stream",
     "text": [
      "Train-Loss: 0.03. Train-Acc: 0.84\n",
      "Val-Loss:   0.20. Val-Acc:   0.46\n"
     ]
    },
    {
     "data": {
      "application/vnd.jupyter.widget-view+json": {
       "model_id": "21e3c605bc69435e8682ffe0f01ba618",
       "version_major": 2,
       "version_minor": 0
      },
      "text/plain": [
       "  0%|          | 0/23 [00:00<?, ? batch/s]"
      ]
     },
     "metadata": {},
     "output_type": "display_data"
    },
    {
     "name": "stdout",
     "output_type": "stream",
     "text": [
      "Train-Loss: 0.04. Train-Acc: 0.81\n",
      "Val-Loss:   0.23. Val-Acc:   0.43\n"
     ]
    },
    {
     "data": {
      "application/vnd.jupyter.widget-view+json": {
       "model_id": "54bccc0f25f64c7fbea0d5ec6ca7a811",
       "version_major": 2,
       "version_minor": 0
      },
      "text/plain": [
       "  0%|          | 0/23 [00:00<?, ? batch/s]"
      ]
     },
     "metadata": {},
     "output_type": "display_data"
    },
    {
     "name": "stdout",
     "output_type": "stream",
     "text": [
      "Train-Loss: 0.03. Train-Acc: 0.84\n",
      "Val-Loss:   0.24. Val-Acc:   0.48\n"
     ]
    },
    {
     "data": {
      "application/vnd.jupyter.widget-view+json": {
       "model_id": "938cae2215fc482e9b56268036ed5b7a",
       "version_major": 2,
       "version_minor": 0
      },
      "text/plain": [
       "  0%|          | 0/23 [00:00<?, ? batch/s]"
      ]
     },
     "metadata": {},
     "output_type": "display_data"
    },
    {
     "name": "stdout",
     "output_type": "stream",
     "text": [
      "Train-Loss: 0.03. Train-Acc: 0.84\n",
      "Val-Loss:   0.24. Val-Acc:   0.44\n"
     ]
    },
    {
     "data": {
      "application/vnd.jupyter.widget-view+json": {
       "model_id": "e3401ca58ef140068b0a91893356d88e",
       "version_major": 2,
       "version_minor": 0
      },
      "text/plain": [
       "  0%|          | 0/23 [00:00<?, ? batch/s]"
      ]
     },
     "metadata": {},
     "output_type": "display_data"
    },
    {
     "name": "stdout",
     "output_type": "stream",
     "text": [
      "Train-Loss: 0.03. Train-Acc: 0.86\n",
      "Val-Loss:   0.22. Val-Acc:   0.46\n"
     ]
    },
    {
     "data": {
      "application/vnd.jupyter.widget-view+json": {
       "model_id": "37f768c1c89847e3ba0a8b4d0fd5a6c7",
       "version_major": 2,
       "version_minor": 0
      },
      "text/plain": [
       "  0%|          | 0/23 [00:00<?, ? batch/s]"
      ]
     },
     "metadata": {},
     "output_type": "display_data"
    },
    {
     "name": "stdout",
     "output_type": "stream",
     "text": [
      "Train-Loss: 0.02. Train-Acc: 0.87\n",
      "Val-Loss:   0.24. Val-Acc:   0.44\n"
     ]
    },
    {
     "data": {
      "application/vnd.jupyter.widget-view+json": {
       "model_id": "9daa73a1d9644da0a531cf7352a4e453",
       "version_major": 2,
       "version_minor": 0
      },
      "text/plain": [
       "  0%|          | 0/23 [00:00<?, ? batch/s]"
      ]
     },
     "metadata": {},
     "output_type": "display_data"
    },
    {
     "name": "stdout",
     "output_type": "stream",
     "text": [
      "Train-Loss: 0.02. Train-Acc: 0.90\n",
      "Val-Loss:   0.24. Val-Acc:   0.42\n"
     ]
    },
    {
     "data": {
      "application/vnd.jupyter.widget-view+json": {
       "model_id": "36ef12bbca0b4201b45de627b444365d",
       "version_major": 2,
       "version_minor": 0
      },
      "text/plain": [
       "  0%|          | 0/23 [00:00<?, ? batch/s]"
      ]
     },
     "metadata": {},
     "output_type": "display_data"
    },
    {
     "name": "stdout",
     "output_type": "stream",
     "text": [
      "Train-Loss: 0.02. Train-Acc: 0.90\n",
      "Val-Loss:   0.26. Val-Acc:   0.40\n"
     ]
    },
    {
     "data": {
      "application/vnd.jupyter.widget-view+json": {
       "model_id": "a2597c0d099c4b02ae8760743702b20f",
       "version_major": 2,
       "version_minor": 0
      },
      "text/plain": [
       "  0%|          | 0/23 [00:00<?, ? batch/s]"
      ]
     },
     "metadata": {},
     "output_type": "display_data"
    },
    {
     "name": "stdout",
     "output_type": "stream",
     "text": [
      "Train-Loss: 0.02. Train-Acc: 0.90\n",
      "Val-Loss:   0.24. Val-Acc:   0.42\n"
     ]
    },
    {
     "data": {
      "application/vnd.jupyter.widget-view+json": {
       "model_id": "fcfecb019dfc4cff9d54d8c94020ac0a",
       "version_major": 2,
       "version_minor": 0
      },
      "text/plain": [
       "  0%|          | 0/23 [00:00<?, ? batch/s]"
      ]
     },
     "metadata": {},
     "output_type": "display_data"
    },
    {
     "name": "stdout",
     "output_type": "stream",
     "text": [
      "Train-Loss: 0.02. Train-Acc: 0.90\n",
      "Val-Loss:   0.26. Val-Acc:   0.44\n"
     ]
    },
    {
     "data": {
      "application/vnd.jupyter.widget-view+json": {
       "model_id": "6d686345cdb04e2588d5b532f279ee83",
       "version_major": 2,
       "version_minor": 0
      },
      "text/plain": [
       "  0%|          | 0/23 [00:00<?, ? batch/s]"
      ]
     },
     "metadata": {},
     "output_type": "display_data"
    },
    {
     "name": "stdout",
     "output_type": "stream",
     "text": [
      "Train-Loss: 0.02. Train-Acc: 0.90\n",
      "Val-Loss:   0.25. Val-Acc:   0.46\n"
     ]
    },
    {
     "data": {
      "application/vnd.jupyter.widget-view+json": {
       "model_id": "1d4dec1940234026b3eb5b9d728afac1",
       "version_major": 2,
       "version_minor": 0
      },
      "text/plain": [
       "  0%|          | 0/23 [00:00<?, ? batch/s]"
      ]
     },
     "metadata": {},
     "output_type": "display_data"
    },
    {
     "name": "stdout",
     "output_type": "stream",
     "text": [
      "Train-Loss: 0.02. Train-Acc: 0.90\n",
      "Val-Loss:   0.24. Val-Acc:   0.46\n"
     ]
    },
    {
     "data": {
      "application/vnd.jupyter.widget-view+json": {
       "model_id": "7c7b0fa38e0d4771a9f2c965cd26acb0",
       "version_major": 2,
       "version_minor": 0
      },
      "text/plain": [
       "  0%|          | 0/23 [00:00<?, ? batch/s]"
      ]
     },
     "metadata": {},
     "output_type": "display_data"
    },
    {
     "name": "stdout",
     "output_type": "stream",
     "text": [
      "Train-Loss: 0.02. Train-Acc: 0.92\n",
      "Val-Loss:   0.26. Val-Acc:   0.43\n"
     ]
    },
    {
     "data": {
      "application/vnd.jupyter.widget-view+json": {
       "model_id": "0a692c8e0fea49c0ac8b145ce8170918",
       "version_major": 2,
       "version_minor": 0
      },
      "text/plain": [
       "  0%|          | 0/23 [00:00<?, ? batch/s]"
      ]
     },
     "metadata": {},
     "output_type": "display_data"
    },
    {
     "name": "stdout",
     "output_type": "stream",
     "text": [
      "Train-Loss: 0.02. Train-Acc: 0.91\n",
      "Early stopping after 34 epochs with best epoch in 23\n"
     ]
    }
   ],
   "source": [
    "best_model3, train_losses3, val_losses3, train_accuracies3, val_accuracies3 = train(\n",
    "    model=resnet_pretrained3,\n",
    "    optimizer=optimizer,\n",
    "    criterion=criterion,\n",
    "    train_loader=train_loader_c,\n",
    "    epochs=35,\n",
    "    device=device,\n",
    "    val_loader=val_loader,\n",
    ")"
   ]
  },
  {
   "cell_type": "code",
   "execution_count": 22,
   "id": "7d7550a7-dc59-4f4d-9766-761ce74e91a0",
   "metadata": {
    "tags": []
   },
   "outputs": [
    {
     "data": {
      "application/vnd.jupyter.widget-view+json": {
       "model_id": "9238a77fa013484f85c8f8ebd3fcc490",
       "version_major": 2,
       "version_minor": 0
      },
      "text/plain": [
       "Test:   0%|          | 0/7 [00:00<?, ?it/s]"
      ]
     },
     "metadata": {},
     "output_type": "display_data"
    }
   ],
   "source": [
    "results3 = test(best_model3, test_loader, full_dataset_te.class_names, device)"
   ]
  },
  {
   "cell_type": "code",
   "execution_count": 23,
   "id": "c77bf1c0-6693-4d2b-8d05-1bcd0aa0076e",
   "metadata": {
    "tags": []
   },
   "outputs": [
    {
     "name": "stdout",
     "output_type": "stream",
     "text": [
      "overall_acc\t 0.4595238095238095\n",
      "f1_micro\t 0.8449757190885321\n",
      "f1_macro\t 0.8626527615627333\n",
      "mAP_micro\t 0.7527925828711993\n",
      "mAP_macro\t 0.796185431763285\n",
      "              precision    recall  f1-score   support\n",
      "\n",
      "    airplane       0.92      0.71      0.80        17\n",
      "   bare-soil       0.82      0.70      0.76       140\n",
      "   buildings       0.88      0.87      0.88       127\n",
      "        cars       0.86      0.72      0.78       181\n",
      "   chaparral       0.96      1.00      0.98        27\n",
      "       court       0.75      0.65      0.70        23\n",
      "        dock       0.95      1.00      0.98        20\n",
      "       field       0.91      0.95      0.93        21\n",
      "       grass       0.87      0.80      0.83       202\n",
      " mobile-home       1.00      0.81      0.90        27\n",
      "    pavement       0.90      0.84      0.87       258\n",
      "        sand       0.91      0.83      0.86        58\n",
      "         sea       1.00      0.95      0.97        20\n",
      "        ship       0.95      1.00      0.98        20\n",
      "       tanks       1.00      0.50      0.67        18\n",
      "       trees       0.86      0.83      0.84       200\n",
      "       water       1.00      0.87      0.93        39\n",
      "\n",
      "   micro avg       0.88      0.81      0.84      1398\n",
      "   macro avg       0.91      0.83      0.86      1398\n",
      "weighted avg       0.88      0.81      0.84      1398\n",
      " samples avg       0.90      0.84      0.86      1398\n",
      "\n"
     ]
    }
   ],
   "source": [
    "show_results(results3)"
   ]
  },
  {
   "cell_type": "code",
   "execution_count": 31,
   "id": "4466ebd6-7698-42a4-98b5-3c08ad234f3f",
   "metadata": {
    "tags": []
   },
   "outputs": [],
   "source": [
    "file_name = results_path / f\"val_accuracies3.json\"\n",
    "# save_results_to_json(val_accuracies3, file_name)"
   ]
  },
  {
   "cell_type": "markdown",
   "id": "e7bd7600",
   "metadata": {},
   "source": [
    "#### 4.4 A method that includes the composed data augmentation technique RandAugment "
   ]
  },
  {
   "cell_type": "code",
   "execution_count": 19,
   "id": "8e11cb47",
   "metadata": {
    "tags": []
   },
   "outputs": [],
   "source": [
    "from torchvision.transforms import RandAugment\n",
    "\n",
    "tr_transform_randaugment = transforms.Compose(\n",
    "    [\n",
    "        transforms.Resize((64, 64)),\n",
    "        RandAugment(),\n",
    "        transforms.ToTensor(),\n",
    "        transforms.Normalize(mean=ucm_mean, std=ucm_std),\n",
    "    ]\n",
    ")\n",
    "\n",
    "train_dataset_r, train_loader_r = get_split_transform_train_data(tr_transform_randaugment)"
   ]
  },
  {
   "cell_type": "code",
   "execution_count": 20,
   "id": "0bc458b2",
   "metadata": {
    "tags": []
   },
   "outputs": [
    {
     "data": {
      "application/vnd.jupyter.widget-view+json": {
       "model_id": "6de9c8dc3d83422e8f30964d40fe9557",
       "version_major": 2,
       "version_minor": 0
      },
      "text/plain": [
       "Training the network:   0%|          | 0/40 [00:00<?, ?it/s]"
      ]
     },
     "metadata": {},
     "output_type": "display_data"
    },
    {
     "data": {
      "application/vnd.jupyter.widget-view+json": {
       "model_id": "c8dda21d850c45499feb05b1ca1b0ccb",
       "version_major": 2,
       "version_minor": 0
      },
      "text/plain": [
       "  0%|          | 0/23 [00:00<?, ? batch/s]"
      ]
     },
     "metadata": {},
     "output_type": "display_data"
    },
    {
     "name": "stdout",
     "output_type": "stream",
     "text": [
      "Train-Loss: 0.34. Train-Acc: 0.11\n",
      "Val-Loss:   0.33. Val-Acc:   0.16\n"
     ]
    },
    {
     "data": {
      "application/vnd.jupyter.widget-view+json": {
       "model_id": "8a54ed5f5c484b14aaf868510ef82e49",
       "version_major": 2,
       "version_minor": 0
      },
      "text/plain": [
       "  0%|          | 0/23 [00:00<?, ? batch/s]"
      ]
     },
     "metadata": {},
     "output_type": "display_data"
    },
    {
     "name": "stdout",
     "output_type": "stream",
     "text": [
      "Train-Loss: 0.20. Train-Acc: 0.29\n",
      "Val-Loss:   0.28. Val-Acc:   0.29\n"
     ]
    },
    {
     "data": {
      "application/vnd.jupyter.widget-view+json": {
       "model_id": "50519f7d33584216ad973875bebd6e03",
       "version_major": 2,
       "version_minor": 0
      },
      "text/plain": [
       "  0%|          | 0/23 [00:00<?, ? batch/s]"
      ]
     },
     "metadata": {},
     "output_type": "display_data"
    },
    {
     "name": "stdout",
     "output_type": "stream",
     "text": [
      "Train-Loss: 0.18. Train-Acc: 0.36\n",
      "Val-Loss:   0.23. Val-Acc:   0.31\n"
     ]
    },
    {
     "data": {
      "application/vnd.jupyter.widget-view+json": {
       "model_id": "3d9e7699bfa34bb4b8f3eb62695c2b3c",
       "version_major": 2,
       "version_minor": 0
      },
      "text/plain": [
       "  0%|          | 0/23 [00:00<?, ? batch/s]"
      ]
     },
     "metadata": {},
     "output_type": "display_data"
    },
    {
     "name": "stdout",
     "output_type": "stream",
     "text": [
      "Train-Loss: 0.15. Train-Acc: 0.42\n",
      "Val-Loss:   0.20. Val-Acc:   0.38\n"
     ]
    },
    {
     "data": {
      "application/vnd.jupyter.widget-view+json": {
       "model_id": "3159182237144a6181843c6358a7957f",
       "version_major": 2,
       "version_minor": 0
      },
      "text/plain": [
       "  0%|          | 0/23 [00:00<?, ? batch/s]"
      ]
     },
     "metadata": {},
     "output_type": "display_data"
    },
    {
     "name": "stdout",
     "output_type": "stream",
     "text": [
      "Train-Loss: 0.13. Train-Acc: 0.42\n",
      "Val-Loss:   0.17. Val-Acc:   0.39\n"
     ]
    },
    {
     "data": {
      "application/vnd.jupyter.widget-view+json": {
       "model_id": "f8b1cef8d88e49babef76d384c4d1d9b",
       "version_major": 2,
       "version_minor": 0
      },
      "text/plain": [
       "  0%|          | 0/23 [00:00<?, ? batch/s]"
      ]
     },
     "metadata": {},
     "output_type": "display_data"
    },
    {
     "name": "stdout",
     "output_type": "stream",
     "text": [
      "Train-Loss: 0.12. Train-Acc: 0.49\n",
      "Val-Loss:   0.19. Val-Acc:   0.39\n"
     ]
    },
    {
     "data": {
      "application/vnd.jupyter.widget-view+json": {
       "model_id": "5c348f2757db4f9199ec2d5f2bc45a65",
       "version_major": 2,
       "version_minor": 0
      },
      "text/plain": [
       "  0%|          | 0/23 [00:00<?, ? batch/s]"
      ]
     },
     "metadata": {},
     "output_type": "display_data"
    },
    {
     "name": "stdout",
     "output_type": "stream",
     "text": [
      "Train-Loss: 0.10. Train-Acc: 0.54\n",
      "Val-Loss:   0.18. Val-Acc:   0.38\n"
     ]
    },
    {
     "data": {
      "application/vnd.jupyter.widget-view+json": {
       "model_id": "28f406ca3ec8403dbaf9aa346cf5646a",
       "version_major": 2,
       "version_minor": 0
      },
      "text/plain": [
       "  0%|          | 0/23 [00:00<?, ? batch/s]"
      ]
     },
     "metadata": {},
     "output_type": "display_data"
    },
    {
     "name": "stdout",
     "output_type": "stream",
     "text": [
      "Train-Loss: 0.10. Train-Acc: 0.57\n",
      "Val-Loss:   0.18. Val-Acc:   0.43\n"
     ]
    },
    {
     "data": {
      "application/vnd.jupyter.widget-view+json": {
       "model_id": "1d30401b394e43dc8ec38870fc5f22b4",
       "version_major": 2,
       "version_minor": 0
      },
      "text/plain": [
       "  0%|          | 0/23 [00:00<?, ? batch/s]"
      ]
     },
     "metadata": {},
     "output_type": "display_data"
    },
    {
     "name": "stdout",
     "output_type": "stream",
     "text": [
      "Train-Loss: 0.09. Train-Acc: 0.61\n",
      "Val-Loss:   0.20. Val-Acc:   0.39\n"
     ]
    },
    {
     "data": {
      "application/vnd.jupyter.widget-view+json": {
       "model_id": "b5fba66286864c72a2e710e85e845aed",
       "version_major": 2,
       "version_minor": 0
      },
      "text/plain": [
       "  0%|          | 0/23 [00:00<?, ? batch/s]"
      ]
     },
     "metadata": {},
     "output_type": "display_data"
    },
    {
     "name": "stdout",
     "output_type": "stream",
     "text": [
      "Train-Loss: 0.07. Train-Acc: 0.64\n",
      "Val-Loss:   0.20. Val-Acc:   0.41\n"
     ]
    },
    {
     "data": {
      "application/vnd.jupyter.widget-view+json": {
       "model_id": "7494ea82e28343bd93a501700ce1fa69",
       "version_major": 2,
       "version_minor": 0
      },
      "text/plain": [
       "  0%|          | 0/23 [00:00<?, ? batch/s]"
      ]
     },
     "metadata": {},
     "output_type": "display_data"
    },
    {
     "name": "stdout",
     "output_type": "stream",
     "text": [
      "Train-Loss: 0.07. Train-Acc: 0.70\n",
      "Val-Loss:   0.22. Val-Acc:   0.38\n"
     ]
    },
    {
     "data": {
      "application/vnd.jupyter.widget-view+json": {
       "model_id": "4ad7019c7d6f414e9111ee721eed258a",
       "version_major": 2,
       "version_minor": 0
      },
      "text/plain": [
       "  0%|          | 0/23 [00:00<?, ? batch/s]"
      ]
     },
     "metadata": {},
     "output_type": "display_data"
    },
    {
     "name": "stdout",
     "output_type": "stream",
     "text": [
      "Train-Loss: 0.06. Train-Acc: 0.69\n",
      "Val-Loss:   0.23. Val-Acc:   0.45\n"
     ]
    },
    {
     "data": {
      "application/vnd.jupyter.widget-view+json": {
       "model_id": "e42fccf7bc6d4576b5fff0bc83add3aa",
       "version_major": 2,
       "version_minor": 0
      },
      "text/plain": [
       "  0%|          | 0/23 [00:00<?, ? batch/s]"
      ]
     },
     "metadata": {},
     "output_type": "display_data"
    },
    {
     "name": "stdout",
     "output_type": "stream",
     "text": [
      "Train-Loss: 0.06. Train-Acc: 0.70\n",
      "Val-Loss:   0.23. Val-Acc:   0.41\n"
     ]
    },
    {
     "data": {
      "application/vnd.jupyter.widget-view+json": {
       "model_id": "d123ec2a0ba94e67b6a0d87de307a8e1",
       "version_major": 2,
       "version_minor": 0
      },
      "text/plain": [
       "  0%|          | 0/23 [00:00<?, ? batch/s]"
      ]
     },
     "metadata": {},
     "output_type": "display_data"
    },
    {
     "name": "stdout",
     "output_type": "stream",
     "text": [
      "Train-Loss: 0.06. Train-Acc: 0.71\n",
      "Val-Loss:   0.23. Val-Acc:   0.40\n"
     ]
    },
    {
     "data": {
      "application/vnd.jupyter.widget-view+json": {
       "model_id": "cc00007c26884b35a40409dd7a100cac",
       "version_major": 2,
       "version_minor": 0
      },
      "text/plain": [
       "  0%|          | 0/23 [00:00<?, ? batch/s]"
      ]
     },
     "metadata": {},
     "output_type": "display_data"
    },
    {
     "name": "stdout",
     "output_type": "stream",
     "text": [
      "Train-Loss: 0.05. Train-Acc: 0.74\n",
      "Val-Loss:   0.23. Val-Acc:   0.44\n"
     ]
    },
    {
     "data": {
      "application/vnd.jupyter.widget-view+json": {
       "model_id": "eb8b6438c5d94dca960d7075ed37cfe4",
       "version_major": 2,
       "version_minor": 0
      },
      "text/plain": [
       "  0%|          | 0/23 [00:00<?, ? batch/s]"
      ]
     },
     "metadata": {},
     "output_type": "display_data"
    },
    {
     "name": "stdout",
     "output_type": "stream",
     "text": [
      "Train-Loss: 0.05. Train-Acc: 0.75\n",
      "Val-Loss:   0.22. Val-Acc:   0.41\n"
     ]
    },
    {
     "data": {
      "application/vnd.jupyter.widget-view+json": {
       "model_id": "9b81a3286b754355a8520458ab18bff5",
       "version_major": 2,
       "version_minor": 0
      },
      "text/plain": [
       "  0%|          | 0/23 [00:00<?, ? batch/s]"
      ]
     },
     "metadata": {},
     "output_type": "display_data"
    },
    {
     "name": "stdout",
     "output_type": "stream",
     "text": [
      "Train-Loss: 0.05. Train-Acc: 0.76\n",
      "Val-Loss:   0.23. Val-Acc:   0.42\n"
     ]
    },
    {
     "data": {
      "application/vnd.jupyter.widget-view+json": {
       "model_id": "625f6916c75e438ebde9bbc9bd9594bb",
       "version_major": 2,
       "version_minor": 0
      },
      "text/plain": [
       "  0%|          | 0/23 [00:00<?, ? batch/s]"
      ]
     },
     "metadata": {},
     "output_type": "display_data"
    },
    {
     "name": "stdout",
     "output_type": "stream",
     "text": [
      "Train-Loss: 0.05. Train-Acc: 0.75\n",
      "Val-Loss:   0.25. Val-Acc:   0.44\n"
     ]
    },
    {
     "data": {
      "application/vnd.jupyter.widget-view+json": {
       "model_id": "4ab018f1349e4cb0a6f16759971a392c",
       "version_major": 2,
       "version_minor": 0
      },
      "text/plain": [
       "  0%|          | 0/23 [00:00<?, ? batch/s]"
      ]
     },
     "metadata": {},
     "output_type": "display_data"
    },
    {
     "name": "stdout",
     "output_type": "stream",
     "text": [
      "Train-Loss: 0.05. Train-Acc: 0.76\n",
      "Val-Loss:   0.23. Val-Acc:   0.45\n"
     ]
    },
    {
     "data": {
      "application/vnd.jupyter.widget-view+json": {
       "model_id": "11ecd396ff6a4bd78cffa1b25f077ce8",
       "version_major": 2,
       "version_minor": 0
      },
      "text/plain": [
       "  0%|          | 0/23 [00:00<?, ? batch/s]"
      ]
     },
     "metadata": {},
     "output_type": "display_data"
    },
    {
     "name": "stdout",
     "output_type": "stream",
     "text": [
      "Train-Loss: 0.04. Train-Acc: 0.80\n",
      "Val-Loss:   0.22. Val-Acc:   0.42\n"
     ]
    },
    {
     "data": {
      "application/vnd.jupyter.widget-view+json": {
       "model_id": "04cf9a9b86714495849f46b38642e422",
       "version_major": 2,
       "version_minor": 0
      },
      "text/plain": [
       "  0%|          | 0/23 [00:00<?, ? batch/s]"
      ]
     },
     "metadata": {},
     "output_type": "display_data"
    },
    {
     "name": "stdout",
     "output_type": "stream",
     "text": [
      "Train-Loss: 0.04. Train-Acc: 0.81\n",
      "Val-Loss:   0.24. Val-Acc:   0.44\n"
     ]
    },
    {
     "data": {
      "application/vnd.jupyter.widget-view+json": {
       "model_id": "6f36280893444e3b8d469425a9418c80",
       "version_major": 2,
       "version_minor": 0
      },
      "text/plain": [
       "  0%|          | 0/23 [00:00<?, ? batch/s]"
      ]
     },
     "metadata": {},
     "output_type": "display_data"
    },
    {
     "name": "stdout",
     "output_type": "stream",
     "text": [
      "Train-Loss: 0.03. Train-Acc: 0.84\n",
      "Val-Loss:   0.23. Val-Acc:   0.41\n"
     ]
    },
    {
     "data": {
      "application/vnd.jupyter.widget-view+json": {
       "model_id": "404580d4106d47ae96678aad3c62e4b0",
       "version_major": 2,
       "version_minor": 0
      },
      "text/plain": [
       "  0%|          | 0/23 [00:00<?, ? batch/s]"
      ]
     },
     "metadata": {},
     "output_type": "display_data"
    },
    {
     "name": "stdout",
     "output_type": "stream",
     "text": [
      "Train-Loss: 0.04. Train-Acc: 0.82\n",
      "Early stopping after 23 epochs with best epoch in 12\n"
     ]
    }
   ],
   "source": [
    "resnet_pretrained4 = models.resnet18(weights=ResNet18_Weights.DEFAULT)\n",
    "resnet_pretrained4.fc = nn.Linear(512, 17)\n",
    "\n",
    "optimizer = optim.SGD(\n",
    "    resnet_pretrained4.parameters(),\n",
    "    lr=learning_rate,\n",
    "    momentum=0.95,\n",
    "    weight_decay=0.0001,\n",
    "    nesterov=True,\n",
    ")\n",
    "\n",
    "best_model4, train_losses4, val_losses4, train_accuracies4, val_accuracies4 = train(\n",
    "    model=resnet_pretrained4,\n",
    "    optimizer=optimizer,\n",
    "    criterion=criterion,\n",
    "    train_loader=train_loader_r,\n",
    "    epochs=40,\n",
    "    device=device,\n",
    "    val_loader=val_loader,\n",
    ")"
   ]
  },
  {
   "cell_type": "code",
   "execution_count": 21,
   "id": "4b2444c0-19a6-4cdf-821d-7cd5b4b8a7fd",
   "metadata": {
    "tags": []
   },
   "outputs": [
    {
     "data": {
      "application/vnd.jupyter.widget-view+json": {
       "model_id": "13a1052de8c54708a3f144b8f5244ede",
       "version_major": 2,
       "version_minor": 0
      },
      "text/plain": [
       "Test:   0%|          | 0/7 [00:00<?, ?it/s]"
      ]
     },
     "metadata": {},
     "output_type": "display_data"
    }
   ],
   "source": [
    "results4 = test(best_model4, test_loader, full_dataset_te.class_names, device)"
   ]
  },
  {
   "cell_type": "code",
   "execution_count": 22,
   "id": "481d651e-f67c-41a0-b86d-e5086a5bccaa",
   "metadata": {
    "tags": []
   },
   "outputs": [
    {
     "name": "stdout",
     "output_type": "stream",
     "text": [
      "overall_acc\t 0.4166666666666667\n",
      "f1_micro\t 0.8269817073170732\n",
      "f1_macro\t 0.8523864977796413\n",
      "mAP_micro\t 0.730687427776213\n",
      "mAP_macro\t 0.785701250658819\n",
      "              precision    recall  f1-score   support\n",
      "\n",
      "    airplane       1.00      0.88      0.94        17\n",
      "   bare-soil       0.81      0.73      0.77       140\n",
      "   buildings       0.91      0.53      0.67       127\n",
      "        cars       0.86      0.70      0.77       181\n",
      "   chaparral       1.00      0.96      0.98        27\n",
      "       court       0.78      0.61      0.68        23\n",
      "        dock       1.00      0.80      0.89        20\n",
      "       field       1.00      0.95      0.98        21\n",
      "       grass       0.88      0.79      0.83       202\n",
      " mobile-home       0.96      0.85      0.90        27\n",
      "    pavement       0.88      0.95      0.91       258\n",
      "        sand       0.83      0.90      0.86        58\n",
      "         sea       1.00      0.85      0.92        20\n",
      "        ship       1.00      0.85      0.92        20\n",
      "       tanks       0.92      0.67      0.77        18\n",
      "       trees       0.89      0.70      0.78       200\n",
      "       water       1.00      0.85      0.92        39\n",
      "\n",
      "   micro avg       0.88      0.78      0.83      1398\n",
      "   macro avg       0.92      0.80      0.85      1398\n",
      "weighted avg       0.89      0.78      0.82      1398\n",
      " samples avg       0.90      0.81      0.83      1398\n",
      "\n"
     ]
    }
   ],
   "source": [
    "show_results(results4)"
   ]
  },
  {
   "cell_type": "code",
   "execution_count": 24,
   "id": "18ad520c-1e94-4f7f-b191-e0bed894cadc",
   "metadata": {
    "tags": []
   },
   "outputs": [],
   "source": [
    "file_name = results_path / f\"val_accuracies4.json\"\n",
    "# save_results_to_json(val_accuracies4, file_name)"
   ]
  },
  {
   "cell_type": "markdown",
   "id": "7b9d41c8-2958-4326-b7af-223345e78afa",
   "metadata": {},
   "source": [
    "#### Summary"
   ]
  },
  {
   "cell_type": "code",
   "execution_count": 25,
   "id": "5bc4213c-34ed-4129-87e2-ac29d1a974a9",
   "metadata": {
    "tags": []
   },
   "outputs": [],
   "source": [
    "file_name = results_path / f\"val_accuracies1.json\"\n",
    "val_accu1 = load_results_from_json(file_name)\n",
    "file_name = results_path / f\"val_accuracies2.json\"\n",
    "val_accu2 = load_results_from_json(file_name)\n",
    "file_name = results_path / f\"val_accuracies3.json\"\n",
    "val_accu3 = load_results_from_json(file_name)\n",
    "file_name = results_path / f\"val_accuracies4.json\"\n",
    "val_accu4 = load_results_from_json(file_name)"
   ]
  },
  {
   "cell_type": "code",
   "execution_count": 27,
   "id": "95a8de80-8f85-4689-8af5-14e3f3258230",
   "metadata": {
    "tags": []
   },
   "outputs": [
    {
     "data": {
      "text/plain": [
       "<matplotlib.legend.Legend at 0x7f2d598680d0>"
      ]
     },
     "execution_count": 27,
     "metadata": {},
     "output_type": "execute_result"
    },
    {
     "data": {
      "image/png": "[encoded data removed]",
      "text/plain": [
       "<Figure size 640x480 with 1 Axes>"
      ]
     },
     "metadata": {},
     "output_type": "display_data"
    }
   ],
   "source": [
    "fig, ax = plt.subplots(1, 1)\n",
    "ax.xaxis.set_major_locator(MaxNLocator(integer=True))\n",
    "ax.plot(\n",
    "    np.arange(1, len(val_accu1) + 1), val_accu1, label=\"baseline\"\n",
    ")\n",
    "ax.plot(\n",
    "    np.arange(1, len(val_accu2) + 1), val_accu2, label=\"affine transformation and random auto-contrast\"\n",
    ")\n",
    "ax.plot(\n",
    "    np.arange(1, len(val_accu3) + 1), val_accu3, label=\"combined\"\n",
    ")\n",
    "ax.plot(\n",
    "    np.arange(1, len(val_accu4) + 1), val_accu4, label=\"RandAugment\"\n",
    ")\n",
    "ax.set_xlabel(\"epochs\")\n",
    "ax.set_ylabel(\"accuracy\")\n",
    "ax.legend()"
   ]
  },
  {
   "cell_type": "markdown",
   "id": "56bdbc6c-d7b0-4d69-ba7c-0f76dcb7a489",
   "metadata": {},
   "source": [
    "#### Analysis\n",
    "\n",
    "In conclusion, the results are not so good. As the training in lab07, ResNet18 on multi-class classification tasks has the validation accuracy above 90%, but here showing a validation accuracies below 50%. To compare different methods:\n",
    "* Baseline(without data augmentation): has the most rapid initial growth and exhibits stable performance.\n",
    "* Affine Transformation and Random Auto-contrast: has fast initial growth and shows a trend similar to the baseline. The early stop is at 18th eppoch which has the fastest convergence.\n",
    "* Combined Augmentation: the overall accuracy is slightly higher than both baseline and affine transformation methods.\n",
    "* RandAugment: has slow initial growth, lagging behind other strategies and the performance improves in later stages. \n",
    "<br><br>\n",
    "Overall, the combined augmentation method demonstrated the best performance in terms of validation accuracy."
   ]
  },
  {
   "cell_type": "code",
   "execution_count": null,
   "id": "b0f62c6a-cab6-43ac-8244-35fe29498633",
   "metadata": {},
   "outputs": [],
   "source": []
  }
 ],
 "metadata": {
  "kernelspec": {
   "display_name": "Python 3 (ipykernel)",
   "language": "python",
   "name": "python3"
  },
  "language_info": {
   "codemirror_mode": {
    "name": "ipython",
    "version": 3
   },
   "file_extension": ".py",
   "mimetype": "text/x-python",
   "name": "python",
   "nbconvert_exporter": "python",
   "pygments_lexer": "ipython3",
   "version": "3.9.16"
  }
 },
 "nbformat": 4,
 "nbformat_minor": 5
}

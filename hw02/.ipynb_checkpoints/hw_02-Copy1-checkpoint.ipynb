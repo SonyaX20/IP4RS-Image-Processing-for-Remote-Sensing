{
 "cells": [
  {
   "cell_type": "markdown",
   "id": "35a831cc-5fc3-473b-934e-985c0312b65a",
   "metadata": {},
   "source": [
    "# Image Processing for Remote Sensing Homework II"
   ]
  },
  {
   "cell_type": "markdown",
   "id": "3b49430b-f52e-46c0-bdbe-154aa971a18b",
   "metadata": {},
   "source": [
    "## **1. Introduction**"
   ]
  },
  {
   "cell_type": "markdown",
   "id": "978ebded-8eb9-45cf-bf33-9d67d7f2de4a",
   "metadata": {},
   "source": [
    "The goal of this homework is to use a ResNet18 architecture for supervised scene classification on multi-label remote sensing images. During experiments different data augmentation techniques have to be investigated."
   ]
  },
  {
   "cell_type": "markdown",
   "id": "d2c24dd4-3274-4d4d-bfd6-089ecbd307c9",
   "metadata": {},
   "source": [
    "## **2. Dataset**"
   ]
  },
  {
   "cell_type": "code",
   "execution_count": 1,
   "id": "718efd28-61ed-441e-b144-1b8ab770d05d",
   "metadata": {
    "tags": []
   },
   "outputs": [],
   "source": [
    "import numpy as np\n",
    "import matplotlib.pyplot as plt\n",
    "import requests\n",
    "from tqdm.notebook import tqdm\n",
    "from pathlib import Path\n",
    "import zipfile\n",
    "from PIL import Image\n",
    "from torchvision import transforms\n",
    "from torch.utils.data import Dataset"
   ]
  },
  {
   "cell_type": "code",
   "execution_count": 2,
   "id": "b40f6534-5322-402c-af8c-cd91bc0b66e7",
   "metadata": {
    "tags": []
   },
   "outputs": [],
   "source": [
    "def download_file_with_progress(url: str, output_file: Path):\n",
    "    \"\"\"\n",
    "    method from lab07\n",
    "    --------------------\n",
    "    Given a `url` as a String and an `output_file` as a file-path the item will\n",
    "    be downloaded and written to the `output_file`. If the `output_file` already\n",
    "    exists, it will be overwritten.\n",
    "    \"\"\"\n",
    "    response = requests.get(url, stream=True)\n",
    "    total_size = int(response.headers.get(\"content-length\", 0))\n",
    "    chunk_size = 2**20  # mb\n",
    "\n",
    "    with open(output_file, \"wb\") as f:\n",
    "        for data in tqdm(\n",
    "            response.iter_content(chunk_size=chunk_size),\n",
    "            total=total_size // chunk_size,\n",
    "            unit=\"MB\",\n",
    "            unit_scale=True,\n",
    "            desc=\"Downloading\",\n",
    "        ):\n",
    "            f.write(data)"
   ]
  },
  {
   "cell_type": "code",
   "execution_count": 3,
   "id": "0bdec6ea-9d63-48ca-b974-5b29218f855e",
   "metadata": {
    "tags": []
   },
   "outputs": [],
   "source": [
    "data_path = Path(\"./data\")\n",
    "data_path.mkdir(exist_ok=True)"
   ]
  },
  {
   "cell_type": "markdown",
   "id": "83616452-d0e1-4d53-8872-d0625b59dc73",
   "metadata": {},
   "source": [
    "#### subtask: implement the instance method read_multilabels(self) of the UCMerced Dataset class"
   ]
  },
  {
   "cell_type": "code",
   "execution_count": 4,
   "id": "73eb79ab",
   "metadata": {
    "tags": []
   },
   "outputs": [],
   "source": [
    "import pandas as pd    # read multi-label"
   ]
  },
  {
   "cell_type": "code",
   "execution_count": 5,
   "id": "04cff224-31cd-4581-9f72-2f2e82be28f9",
   "metadata": {
    "tags": []
   },
   "outputs": [],
   "source": [
    "class UCMerced(Dataset):\n",
    "    \"\"\"\n",
    "    UCMerced class from lab07, add \"read_multilabels\" method\n",
    "    -------------\n",
    "    parse labels for each image, using LandUse_Multilabeled.xlsx\n",
    "    \"\"\"\n",
    "    def __init__(self, base_dir: Path, img_transform: transforms = None, multilabel: bool = False):\n",
    "        self.base_dir = base_dir\n",
    "        self.download_dataset()\n",
    "        self.images_path = base_dir / \"UCMerced_LandUse/Images\"\n",
    "        self.class_names = sorted(\n",
    "            [cl.name for cl in self.images_path.iterdir() if not cl.name.startswith(\".\")]\n",
    "        )\n",
    "        self.img_paths, self.targets = self.read_data()\n",
    "        self.img_transform = img_transform\n",
    "\n",
    "        if multilabel:\n",
    "            self.targets, self.class_names = self.read_multilabels()  # important for loss calculation\n",
    "            self.targets = self.targets.astype(float)\n",
    "            \n",
    "    def download_dataset(self):\n",
    "        ucmerced_path = self.base_dir / \"UCMerced.zip\"\n",
    "        if not ucmerced_path.exists():\n",
    "            print(\"Downloading UCMerced\")\n",
    "            download_file_with_progress(\n",
    "                \"https://tubcloud.tu-berlin.de/s/H4QHX5GPDY6wDog/download/UCMerced_LandUse.zip\",\n",
    "                ucmerced_path,\n",
    "            )\n",
    "            zipf = zipfile.ZipFile(ucmerced_path)\n",
    "            zipf.extractall(self.base_dir)\n",
    "\n",
    "    def read_data(self):\n",
    "        img_paths, targets = [], []\n",
    "        for cl_id, cl_name in enumerate(self.class_names):\n",
    "            cl_path = self.images_path / cl_name\n",
    "\n",
    "            for img_path in sorted(cl_path.iterdir()):\n",
    "                img_paths.append(img_path)\n",
    "                targets.append(cl_id)\n",
    "\n",
    "        return img_paths, targets\n",
    "\n",
    "    def read_multilabels(self):\n",
    "        multilabel_path = self.base_dir / \"UCMerced_LandUse/multilabels/LandUse_Multilabeled.xlsx\"\n",
    "        df = pd.read_excel(multilabel_path)    # use pandas to parse .xlsx\n",
    "        classes = df.columns[1:].tolist()\n",
    "        df.set_index('IMAGE\\LABEL', inplace=True)   # set the index in .xlsx\n",
    "        \n",
    "        multilabel_targets = []\n",
    "        for img_path in self.img_paths:\n",
    "            img_name = img_path.stem  # get file name (same in the .xlsx index)\n",
    "            multilabel_targets.append(df.loc[img_name].values)\n",
    "        return np.array(multilabel_targets), classes\n",
    "    \n",
    "    def __getitem__(self, idx: int):\n",
    "        img_path = self.img_paths[idx]\n",
    "        target = self.targets[idx]\n",
    "\n",
    "        img = Image.open(img_path).convert(\"RGB\")\n",
    "        if self.img_transform is not None:\n",
    "            img = self.img_transform(img)\n",
    "\n",
    "        return img, target\n",
    "\n",
    "    def __len__(self):\n",
    "        return len(self.img_paths)"
   ]
  },
  {
   "cell_type": "code",
   "execution_count": 6,
   "id": "ae046ba2-fa41-47aa-baf5-04e485f6a11c",
   "metadata": {
    "tags": []
   },
   "outputs": [
    {
     "data": {
      "text/plain": [
       "<__main__.UCMerced at 0x7f85659d1dc0>"
      ]
     },
     "execution_count": 6,
     "metadata": {},
     "output_type": "execute_result"
    }
   ],
   "source": [
    "full_dataset = UCMerced(data_path, multilabel=True)\n",
    "full_dataset"
   ]
  },
  {
   "cell_type": "markdown",
   "id": "2d6041f1-2d65-408c-b558-6956ef6a2f2a",
   "metadata": {},
   "source": [
    "#### subtask: provide a statistical analysis of the class distribution of the multi-label version. \n",
    "Instead of 21 classes, 17 classes appear in the multi-label file. Classes are stored in UCMerced.classes."
   ]
  },
  {
   "cell_type": "code",
   "execution_count": 7,
   "id": "d2a8036c-4316-4a2e-b30e-9e1f96efd508",
   "metadata": {
    "tags": []
   },
   "outputs": [
    {
     "data": {
      "text/html": [
       "<div>\n",
       "<style scoped>\n",
       "    .dataframe tbody tr th:only-of-type {\n",
       "        vertical-align: middle;\n",
       "    }\n",
       "\n",
       "    .dataframe tbody tr th {\n",
       "        vertical-align: top;\n",
       "    }\n",
       "\n",
       "    .dataframe thead th {\n",
       "        text-align: right;\n",
       "    }\n",
       "</style>\n",
       "<table border=\"1\" class=\"dataframe\">\n",
       "  <thead>\n",
       "    <tr style=\"text-align: right;\">\n",
       "      <th></th>\n",
       "      <th>airplane</th>\n",
       "      <th>bare-soil</th>\n",
       "      <th>buildings</th>\n",
       "      <th>cars</th>\n",
       "      <th>chaparral</th>\n",
       "      <th>court</th>\n",
       "      <th>dock</th>\n",
       "      <th>field</th>\n",
       "      <th>grass</th>\n",
       "      <th>mobile-home</th>\n",
       "      <th>pavement</th>\n",
       "      <th>sand</th>\n",
       "      <th>sea</th>\n",
       "      <th>ship</th>\n",
       "      <th>tanks</th>\n",
       "      <th>trees</th>\n",
       "      <th>water</th>\n",
       "    </tr>\n",
       "  </thead>\n",
       "  <tbody>\n",
       "    <tr>\n",
       "      <th>distribution</th>\n",
       "      <td>100.0000</td>\n",
       "      <td>718.0000</td>\n",
       "      <td>691.0000</td>\n",
       "      <td>886.0000</td>\n",
       "      <td>115.0000</td>\n",
       "      <td>105.000</td>\n",
       "      <td>100.0000</td>\n",
       "      <td>103.0000</td>\n",
       "      <td>975.0000</td>\n",
       "      <td>102.0000</td>\n",
       "      <td>1300.0000</td>\n",
       "      <td>294.000</td>\n",
       "      <td>100.0000</td>\n",
       "      <td>102.0000</td>\n",
       "      <td>100.0000</td>\n",
       "      <td>1009.0000</td>\n",
       "      <td>203.000</td>\n",
       "    </tr>\n",
       "    <tr>\n",
       "      <th>ratio</th>\n",
       "      <td>0.0143</td>\n",
       "      <td>0.1025</td>\n",
       "      <td>0.0987</td>\n",
       "      <td>0.1265</td>\n",
       "      <td>0.0164</td>\n",
       "      <td>0.015</td>\n",
       "      <td>0.0143</td>\n",
       "      <td>0.0147</td>\n",
       "      <td>0.1392</td>\n",
       "      <td>0.0146</td>\n",
       "      <td>0.1856</td>\n",
       "      <td>0.042</td>\n",
       "      <td>0.0143</td>\n",
       "      <td>0.0146</td>\n",
       "      <td>0.0143</td>\n",
       "      <td>0.1441</td>\n",
       "      <td>0.029</td>\n",
       "    </tr>\n",
       "    <tr>\n",
       "      <th>0</th>\n",
       "      <td>0.0000</td>\n",
       "      <td>0.0000</td>\n",
       "      <td>0.0000</td>\n",
       "      <td>0.0000</td>\n",
       "      <td>0.0000</td>\n",
       "      <td>0.000</td>\n",
       "      <td>0.0000</td>\n",
       "      <td>1.0000</td>\n",
       "      <td>0.0000</td>\n",
       "      <td>0.0000</td>\n",
       "      <td>0.0000</td>\n",
       "      <td>0.000</td>\n",
       "      <td>0.0000</td>\n",
       "      <td>0.0000</td>\n",
       "      <td>0.0000</td>\n",
       "      <td>1.0000</td>\n",
       "      <td>0.000</td>\n",
       "    </tr>\n",
       "    <tr>\n",
       "      <th>1</th>\n",
       "      <td>0.0000</td>\n",
       "      <td>0.0000</td>\n",
       "      <td>0.0000</td>\n",
       "      <td>0.0000</td>\n",
       "      <td>0.0000</td>\n",
       "      <td>0.000</td>\n",
       "      <td>0.0000</td>\n",
       "      <td>1.0000</td>\n",
       "      <td>0.0000</td>\n",
       "      <td>0.0000</td>\n",
       "      <td>0.0000</td>\n",
       "      <td>0.000</td>\n",
       "      <td>0.0000</td>\n",
       "      <td>0.0000</td>\n",
       "      <td>0.0000</td>\n",
       "      <td>0.0000</td>\n",
       "      <td>0.000</td>\n",
       "    </tr>\n",
       "    <tr>\n",
       "      <th>2</th>\n",
       "      <td>0.0000</td>\n",
       "      <td>0.0000</td>\n",
       "      <td>0.0000</td>\n",
       "      <td>0.0000</td>\n",
       "      <td>0.0000</td>\n",
       "      <td>0.000</td>\n",
       "      <td>0.0000</td>\n",
       "      <td>1.0000</td>\n",
       "      <td>0.0000</td>\n",
       "      <td>0.0000</td>\n",
       "      <td>0.0000</td>\n",
       "      <td>0.000</td>\n",
       "      <td>0.0000</td>\n",
       "      <td>0.0000</td>\n",
       "      <td>0.0000</td>\n",
       "      <td>0.0000</td>\n",
       "      <td>0.000</td>\n",
       "    </tr>\n",
       "    <tr>\n",
       "      <th>3</th>\n",
       "      <td>0.0000</td>\n",
       "      <td>0.0000</td>\n",
       "      <td>0.0000</td>\n",
       "      <td>0.0000</td>\n",
       "      <td>0.0000</td>\n",
       "      <td>0.000</td>\n",
       "      <td>0.0000</td>\n",
       "      <td>1.0000</td>\n",
       "      <td>0.0000</td>\n",
       "      <td>0.0000</td>\n",
       "      <td>0.0000</td>\n",
       "      <td>0.000</td>\n",
       "      <td>0.0000</td>\n",
       "      <td>0.0000</td>\n",
       "      <td>0.0000</td>\n",
       "      <td>0.0000</td>\n",
       "      <td>0.000</td>\n",
       "    </tr>\n",
       "    <tr>\n",
       "      <th>4</th>\n",
       "      <td>0.0000</td>\n",
       "      <td>0.0000</td>\n",
       "      <td>0.0000</td>\n",
       "      <td>0.0000</td>\n",
       "      <td>0.0000</td>\n",
       "      <td>0.000</td>\n",
       "      <td>0.0000</td>\n",
       "      <td>0.0000</td>\n",
       "      <td>0.0000</td>\n",
       "      <td>0.0000</td>\n",
       "      <td>0.0000</td>\n",
       "      <td>0.000</td>\n",
       "      <td>0.0000</td>\n",
       "      <td>0.0000</td>\n",
       "      <td>0.0000</td>\n",
       "      <td>1.0000</td>\n",
       "      <td>0.000</td>\n",
       "    </tr>\n",
       "  </tbody>\n",
       "</table>\n",
       "</div>"
      ],
      "text/plain": [
       "              airplane  bare-soil  buildings      cars  chaparral    court   \n",
       "distribution  100.0000   718.0000   691.0000  886.0000   115.0000  105.000  \\\n",
       "ratio           0.0143     0.1025     0.0987    0.1265     0.0164    0.015   \n",
       "0               0.0000     0.0000     0.0000    0.0000     0.0000    0.000   \n",
       "1               0.0000     0.0000     0.0000    0.0000     0.0000    0.000   \n",
       "2               0.0000     0.0000     0.0000    0.0000     0.0000    0.000   \n",
       "3               0.0000     0.0000     0.0000    0.0000     0.0000    0.000   \n",
       "4               0.0000     0.0000     0.0000    0.0000     0.0000    0.000   \n",
       "\n",
       "                  dock     field     grass  mobile-home   pavement     sand   \n",
       "distribution  100.0000  103.0000  975.0000     102.0000  1300.0000  294.000  \\\n",
       "ratio           0.0143    0.0147    0.1392       0.0146     0.1856    0.042   \n",
       "0               0.0000    1.0000    0.0000       0.0000     0.0000    0.000   \n",
       "1               0.0000    1.0000    0.0000       0.0000     0.0000    0.000   \n",
       "2               0.0000    1.0000    0.0000       0.0000     0.0000    0.000   \n",
       "3               0.0000    1.0000    0.0000       0.0000     0.0000    0.000   \n",
       "4               0.0000    0.0000    0.0000       0.0000     0.0000    0.000   \n",
       "\n",
       "                   sea      ship     tanks      trees    water  \n",
       "distribution  100.0000  102.0000  100.0000  1009.0000  203.000  \n",
       "ratio           0.0143    0.0146    0.0143     0.1441    0.029  \n",
       "0               0.0000    0.0000    0.0000     1.0000    0.000  \n",
       "1               0.0000    0.0000    0.0000     0.0000    0.000  \n",
       "2               0.0000    0.0000    0.0000     0.0000    0.000  \n",
       "3               0.0000    0.0000    0.0000     0.0000    0.000  \n",
       "4               0.0000    0.0000    0.0000     1.0000    0.000  "
      ]
     },
     "metadata": {},
     "output_type": "display_data"
    },
    {
     "data": {
      "image/png": "[encoded data removed]",
      "text/plain": [
       "<Figure size 1000x700 with 1 Axes>"
      ]
     },
     "metadata": {},
     "output_type": "display_data"
    }
   ],
   "source": [
    "def analyze_class_distribution(targets, classes):\n",
    "    df = pd.DataFrame(targets)\n",
    "    class_distribution = df.sum(axis=0).apply(int)  # .Series\n",
    "    total = class_distribution.sum()\n",
    "    cd_ratio = (class_distribution / total).round(4)\n",
    "    \n",
    "    cd_df = pd.DataFrame([class_distribution, cd_ratio], index=['distribution', 'ratio'])\n",
    "    df = pd.concat([cd_df, df], ignore_index=False)\n",
    "    df.loc[0] = df.loc[0].astype(int)\n",
    "    df.columns = classes[:len(classes)]    # set column indices\n",
    "    display(df.head(7))\n",
    "    \n",
    "    plt.figure(figsize=(10, 7))\n",
    "    plt.pie(class_distribution, labels=classes[:len(class_distribution)], autopct='%1.1f%%', startangle=140)\n",
    "    plt.title('Class Distribution')\n",
    "    plt.axis('equal') \n",
    "    \n",
    "class_distribution = analyze_class_distribution(full_dataset.targets, full_dataset.class_names)"
   ]
  },
  {
   "cell_type": "markdown",
   "id": "fb9e2657-edf1-4c6a-a4fd-5e4d8740bff7",
   "metadata": {},
   "source": [
    "## **3. Training Design**"
   ]
  },
  {
   "cell_type": "markdown",
   "id": "fddc060b-d81b-4283-8f43-a51067bacd78",
   "metadata": {},
   "source": [
    "#### subtask: split dataset (baseline)"
   ]
  },
  {
   "cell_type": "code",
   "execution_count": 8,
   "id": "3ea2efa7",
   "metadata": {
    "tags": []
   },
   "outputs": [],
   "source": [
    "from sklearn.model_selection import train_test_split\n",
    "from torch.utils.data import Subset, DataLoader"
   ]
  },
  {
   "cell_type": "code",
   "execution_count": 9,
   "id": "97f54f89",
   "metadata": {
    "tags": []
   },
   "outputs": [
    {
     "name": "stdout",
     "output_type": "stream",
     "text": [
      "train_len: 1469 (69.95%)\n",
      "val_len:    211 (10.05%)\n",
      "test_len:   420 (20.00%)\n"
     ]
    }
   ],
   "source": [
    "import numpy as np\n",
    "from sklearn.model_selection import train_test_split\n",
    "\n",
    "def get_split_idx(targets: np.array, train_size: float, val_size: float, test_size: float):\n",
    "    \"\"\"\n",
    "    'splitting method' from lab07\n",
    "    adjusted for multilabel classification task with random selection\n",
    "    ----------------\n",
    "    stratified sampling fails, cause: some classes have too few samples\n",
    "    \"\"\"\n",
    "    assert train_size + val_size + test_size == 1\n",
    "    \n",
    "    # Initial split to separate test set\n",
    "    full_idx = np.arange(len(targets))\n",
    "    train_val_idx, test_idx = train_test_split(\n",
    "        full_idx, test_size=test_size, random_state=42\n",
    "    )\n",
    "    \n",
    "    # Adjust sizes for train and validation splits\n",
    "    relative_val_size = val_size / (train_size + val_size)\n",
    "    train_idx, val_idx = train_test_split(\n",
    "        train_val_idx, test_size=relative_val_size, random_state=42\n",
    "    )\n",
    "    \n",
    "    return train_idx, val_idx, test_idx\n",
    "\n",
    "# splitting ratio\n",
    "train_size = 0.7\n",
    "val_size = 0.1\n",
    "test_size = 0.2\n",
    "train_idx, val_idx, test_idx = get_split_idx(full_dataset.targets, train_size, val_size, test_size)\n",
    "\n",
    "print(f'train_len: {len(train_idx):4} ({len(train_idx)/len(full_dataset.targets)*100:.2f}%)')\n",
    "print(f'val_len:   {len(val_idx):4} ({len(val_idx)/len(full_dataset.targets)*100:.2f}%)')\n",
    "print(f'test_len:  {len(test_idx):4} ({len(test_idx)/len(full_dataset.targets)*100:.2f}%)')"
   ]
  },
  {
   "cell_type": "code",
   "execution_count": 10,
   "id": "c4311143",
   "metadata": {
    "tags": []
   },
   "outputs": [],
   "source": [
    "\"\"\"\n",
    "apply baseline transformations\n",
    "\"\"\"\n",
    "ucm_mean = [0.595425, 0.3518577, 0.3225522]  \n",
    "ucm_std = [0.19303136, 0.12492529, 0.10577361]\n",
    "tr_transform_base = transforms.Compose(\n",
    "    [\n",
    "        transforms.Resize((64, 64)),\n",
    "        transforms.ToTensor(),\n",
    "        transforms.Normalize(mean=ucm_mean, std=ucm_std),\n",
    "    ]\n",
    ")\n",
    "te_transform = transforms.Compose(\n",
    "    [\n",
    "        transforms.Resize((64, 64)),\n",
    "        transforms.ToTensor(),\n",
    "        transforms.Normalize(mean=ucm_mean, std=ucm_std),\n",
    "    ]\n",
    ")\n"
   ]
  },
  {
   "cell_type": "code",
   "execution_count": 11,
   "id": "70d92060",
   "metadata": {
    "tags": []
   },
   "outputs": [],
   "source": [
    "# apply test set for all experiments\n",
    "batch_size     = 64\n",
    "full_dataset_te = UCMerced(data_path, img_transform=te_transform, multilabel=True)\n",
    "\n",
    "val_dataset = Subset(full_dataset_te, val_idx)\n",
    "val_loader = DataLoader(val_dataset, batch_size=batch_size)\n",
    "\n",
    "test_dataset = Subset(full_dataset_te, test_idx)\n",
    "test_loader = DataLoader(test_dataset, batch_size=batch_size)"
   ]
  },
  {
   "cell_type": "code",
   "execution_count": 12,
   "id": "c77a44c3",
   "metadata": {
    "tags": []
   },
   "outputs": [],
   "source": [
    "def get_split_transform_train_data(tr_transform):\n",
    "    # get full dataset\n",
    "    full_dataset_tr = UCMerced(data_path, img_transform=tr_transform, multilabel=True)\n",
    "    train_dataset = Subset(full_dataset_tr, train_idx)\n",
    "    train_loader = DataLoader(train_dataset, batch_size=batch_size, shuffle=True)\n",
    "    return train_dataset, train_loader"
   ]
  },
  {
   "cell_type": "markdown",
   "id": "0b19055c-6582-4dbf-bd7b-3835cab276a1",
   "metadata": {},
   "source": [
    "#### subtask:  apply transfer learning, choose a pre-trained ResNet18 "
   ]
  },
  {
   "cell_type": "code",
   "execution_count": 13,
   "id": "147158db",
   "metadata": {
    "tags": []
   },
   "outputs": [],
   "source": [
    "from torchvision import models\n",
    "from torchvision.models import ResNet18_Weights\n",
    "import torch.optim as optim\n",
    "import torch.nn as nn\n",
    "import torch\n",
    "import copy\n",
    "from sklearn.metrics import classification_report, confusion_matrix, accuracy_score,  f1_score, average_precision_score\n",
    "from typing import List"
   ]
  },
  {
   "cell_type": "code",
   "execution_count": 14,
   "id": "9e451cfa",
   "metadata": {
    "tags": []
   },
   "outputs": [],
   "source": [
    "def train(\n",
    "    model: nn.Module,\n",
    "    optimizer: torch.optim,\n",
    "    criterion: torch.nn.modules.loss,\n",
    "    train_loader: DataLoader,\n",
    "    epochs: int,\n",
    "    device: torch.device,\n",
    "    val_loader: DataLoader = None,\n",
    "):\n",
    "    \"\"\"\n",
    "    Training loop to optimize a network for several epochs and a specified loss.\n",
    "\n",
    "    Args:\n",
    "    -----\n",
    "    model               : a PyTorch model\n",
    "    optimizer           : a PyTorch optimizer\n",
    "    criterion           : a PyTorch-compatible loss function, e.g. nn.CrossEntropyLoss\n",
    "    train_loader        : a PyTorch trainset loader\n",
    "    epochs              : int specifying the number of training epochs\n",
    "    device              : torch device to use (defaults to CPU)\n",
    "    val_loader (opt.)   : validation dataset\n",
    "    \"\"\"\n",
    "    model.to(device)  # put model on device\n",
    "    train_losses, train_accuracies = [], []\n",
    "    val_losses, val_accuracies = [], []\n",
    "    best_model = copy.deepcopy(model)\n",
    "    best_acc = 0\n",
    "    best_epoch = 1\n",
    "\n",
    "    for epoch in tqdm(range(1, epochs + 1), desc=\"Training the network\"):\n",
    "        model.train()  # set model to training mode\n",
    "        train_losses_epoch = []\n",
    "        train_targets = []\n",
    "        train_preds = []\n",
    "\n",
    "        # Data-Loading Loop\n",
    "        with tqdm(train_loader, unit=\" batch\") as tepoch:\n",
    "            for idx, (data, targets) in enumerate(tepoch):\n",
    "                tepoch.set_description(\"Epoch {}\".format(epoch))\n",
    "\n",
    "                # put loaded data and targets on device\n",
    "                data, targets = data.to(device), targets.to(device)\n",
    "\n",
    "                # zero accumulated gradients from previous batch\n",
    "                optimizer.zero_grad()\n",
    "\n",
    "                # infer predictions for batch\n",
    "                output = model(data)\n",
    "                predictions = (output > 0.5).float() # transformed individually into probabilities, threshold of 0.5\n",
    "                \n",
    "                # compute loss from predictions, CELoss automatically applies F.log_softmax\n",
    "                loss = criterion(output, targets)\n",
    "\n",
    "                # accumulate gradients for all parameter according to batch errors\n",
    "                loss.backward()\n",
    "\n",
    "                # update paramters according to accumulated gradients\n",
    "                optimizer.step()\n",
    "\n",
    "                train_losses_epoch.append(loss.item())\n",
    "                train_targets.append(targets)\n",
    "                train_preds.append(predictions)\n",
    "            \n",
    "            curr_train_loss = np.mean(train_losses_epoch)\n",
    "            train_targets = torch.cat(train_targets)\n",
    "            train_preds = torch.cat(train_preds)\n",
    "\n",
    "            train_accuracy = accuracy_score(train_targets, train_preds)\n",
    "            train_losses.append(curr_train_loss)\n",
    "            train_accuracies.append(train_accuracy)\n",
    "            \n",
    "            print(\"Train-Loss: {:.2f}. Train-Acc: {:.2f}\".format(curr_train_loss, train_accuracy))\n",
    "\n",
    "        if val_loader is not None:\n",
    "            model.eval()\n",
    "            val_losses_epoch = []\n",
    "            val_targets = []\n",
    "            val_preds = []\n",
    "\n",
    "            with torch.no_grad():\n",
    "                for data, targets in val_loader:\n",
    "                    # put loaded data and targets on device\n",
    "                    data = data.to(device)\n",
    "                    targets = targets.to(device).float()\n",
    "                    \n",
    "                    output = model(data)\n",
    "                    loss = criterion(output, targets)\n",
    "                    predictions = (output > 0.5).float()\n",
    "    \n",
    "                    val_losses_epoch.append(loss.item())\n",
    "                    val_targets.append(targets)\n",
    "                    val_preds.append(predictions)\n",
    "            \n",
    "            curr_val_loss = np.mean(val_losses_epoch)\n",
    "            val_targets = torch.cat(val_targets)\n",
    "            val_preds = torch.cat(val_preds)\n",
    "            \n",
    "            val_accuracy = accuracy_score(val_targets, val_preds)\n",
    "            val_losses.append(curr_val_loss)\n",
    "            val_accuracies.append(val_accuracy)\n",
    "            \n",
    "            # early stopping\n",
    "            if best_acc < val_accuracy:\n",
    "                best_acc = val_accuracy\n",
    "                best_epoch = epoch\n",
    "                best_model = copy.deepcopy(model)\n",
    "\n",
    "            if epoch - best_epoch > 10:\n",
    "                print(f\"Early stopping after {epoch} epochs with best epoch in {best_epoch}\")\n",
    "                break\n",
    "            \n",
    "            print(\"Val-Loss:   {:.2f}. Val-Acc:   {:.2f}\".format(curr_val_loss, val_accuracy))\n",
    "    \n",
    "    return best_model, train_losses, val_losses, train_accuracies, val_accuracies"
   ]
  },
  {
   "cell_type": "code",
   "execution_count": 15,
   "id": "d0fb3ebc",
   "metadata": {
    "tags": []
   },
   "outputs": [],
   "source": [
    "def test(\n",
    "    model: nn.Module,\n",
    "    test_loader: DataLoader,\n",
    "    class_names: list,\n",
    "    device: torch.device,\n",
    "):\n",
    "    model.eval()\n",
    "    predictions = []\n",
    "    targets = []\n",
    "\n",
    "    with torch.no_grad():\n",
    "        for idx, (data, target) in enumerate(tqdm(test_loader, desc=\"Test: \")):\n",
    "            # put loaded data and targets on device\n",
    "            data = data.to(device)\n",
    "            target = target.to(device)\n",
    "            \n",
    "            output = model(data)\n",
    "            predicted = (output > 0.5).float()\n",
    "            predictions += predicted.tolist()\n",
    "            targets += target.tolist()\n",
    "\n",
    "    results = {}\n",
    "\n",
    "    if class_names is None:\n",
    "        class_names = range(len(np.unique(targets)))\n",
    "\n",
    "#     cm = confusion_matrix(targets, predictions)\n",
    "#     results[\"cm\"] = cm\n",
    "    results[\"overall_acc\"] = accuracy_score(targets, predictions)\n",
    "    results[\"f1_micro\"] = f1_score(targets, predictions, average='micro')\n",
    "    results[\"f1_macro\"] = f1_score(targets, predictions, average='macro')\n",
    "    results[\"mAP_micro\"] = average_precision_score(targets, predictions, average='micro')\n",
    "    results[\"mAP_macro\"] = average_precision_score(targets, predictions, average='macro')\n",
    "    \n",
    "    results[\"report\"] = classification_report(\n",
    "        targets,\n",
    "        predictions,\n",
    "        target_names=class_names,\n",
    "        zero_division=0,\n",
    "        digits=2,\n",
    "    )\n",
    "\n",
    "    return results"
   ]
  },
  {
   "cell_type": "code",
   "execution_count": 16,
   "id": "69d0f20b",
   "metadata": {
    "tags": []
   },
   "outputs": [],
   "source": [
    "def show_results(results):\n",
    "    print(\"overall_acc\\t\", results[\"overall_acc\"])\n",
    "    print(\"f1_micro\\t\", results[\"f1_micro\"])\n",
    "    print(\"f1_macro\\t\", results[\"f1_macro\"])\n",
    "    print(\"mAP_micro\\t\", results[\"mAP_micro\"])\n",
    "    print(\"mAP_macro\\t\", results[\"mAP_macro\"])\n",
    "    print(results['report'])"
   ]
  },
  {
   "cell_type": "markdown",
   "id": "516a10d5",
   "metadata": {},
   "source": [
    "## 4. Experiments"
   ]
  },
  {
   "cell_type": "code",
   "execution_count": 17,
   "id": "0581085d-9732-439e-99f6-0565b16a5a90",
   "metadata": {
    "tags": []
   },
   "outputs": [],
   "source": [
    "from matplotlib.ticker import MaxNLocator\n",
    "\n",
    "def get_device(cuda_no):\n",
    "    return torch.device('cpu') if cuda_no < 0 or not torch.cuda.is_available() else torch.device(cuda_no)\n",
    "\n",
    "device         = get_device(-1)   # cuda doesn't work\n",
    "learning_rate  = 0.01\n",
    "epochs         = 60\n",
    "momentum       = 0.9\n",
    "criterion = nn.BCEWithLogitsLoss()"
   ]
  },
  {
   "cell_type": "code",
   "execution_count": 18,
   "id": "64548dd7-fcbb-4afa-afcf-e6c2324902f9",
   "metadata": {
    "tags": []
   },
   "outputs": [],
   "source": [
    "import json\n",
    "\n",
    "def save_results_to_json(results, filename):\n",
    "    with open(filename, 'w') as f:\n",
    "        json.dump(results, f, indent=4)\n",
    "\n",
    "def load_results_from_json(filename):\n",
    "    with open(filename, 'r') as f:\n",
    "        results = json.load(f)\n",
    "    return results\n",
    "\n",
    "results_path = Path(\"./results0\")\n",
    "results_path.mkdir(exist_ok=True)"
   ]
  },
  {
   "cell_type": "markdown",
   "id": "57b4388e",
   "metadata": {
    "tags": []
   },
   "source": [
    "#### 4.1 A baseline that does not contain any data augmentation"
   ]
  },
  {
   "cell_type": "code",
   "execution_count": 19,
   "id": "41790241",
   "metadata": {
    "tags": []
   },
   "outputs": [],
   "source": [
    "tr_transform_base = transforms.Compose(\n",
    "    [\n",
    "        transforms.Resize((64, 64)),\n",
    "        transforms.ToTensor(),\n",
    "        transforms.Normalize(mean=ucm_mean, std=ucm_std),\n",
    "    ]\n",
    ")\n",
    "\n",
    "train_dataset_base, train_loader_base = get_split_transform_train_data(tr_transform_base)"
   ]
  },
  {
   "cell_type": "code",
   "execution_count": 20,
   "id": "f8ba07ed",
   "metadata": {
    "tags": []
   },
   "outputs": [],
   "source": [
    "resnet_pretrained1 = models.resnet18(weights=ResNet18_Weights.DEFAULT)\n",
    "resnet_pretrained1.fc = nn.Linear(512, 17)\n",
    "\n",
    "optimizer = optim.SGD(\n",
    "    resnet_pretrained1.parameters(),\n",
    "    lr=learning_rate,\n",
    "    momentum=momentum,\n",
    "    weight_decay=0.0001,\n",
    "    nesterov=True,\n",
    ")"
   ]
  },
  {
   "cell_type": "code",
   "execution_count": 21,
   "id": "fff31731",
   "metadata": {
    "tags": []
   },
   "outputs": [
    {
     "data": {
      "application/vnd.jupyter.widget-view+json": {
       "model_id": "7832296c0f6f4a818b3480117c8775a7",
       "version_major": 2,
       "version_minor": 0
      },
      "text/plain": [
       "Training the network:   0%|          | 0/50 [00:00<?, ?it/s]"
      ]
     },
     "metadata": {},
     "output_type": "display_data"
    },
    {
     "data": {
      "application/vnd.jupyter.widget-view+json": {
       "model_id": "ab15ce144fd245fbb74a4422c167e73f",
       "version_major": 2,
       "version_minor": 0
      },
      "text/plain": [
       "  0%|          | 0/23 [00:00<?, ? batch/s]"
      ]
     },
     "metadata": {},
     "output_type": "display_data"
    },
    {
     "name": "stdout",
     "output_type": "stream",
     "text": [
      "Train-Loss: 0.44. Train-Acc: 0.03\n",
      "Val-Loss:   0.33. Val-Acc:   0.09\n"
     ]
    },
    {
     "data": {
      "application/vnd.jupyter.widget-view+json": {
       "model_id": "7028123941bc4bcf9b50ec2e8bb55706",
       "version_major": 2,
       "version_minor": 0
      },
      "text/plain": [
       "  0%|          | 0/23 [00:00<?, ? batch/s]"
      ]
     },
     "metadata": {},
     "output_type": "display_data"
    },
    {
     "name": "stdout",
     "output_type": "stream",
     "text": [
      "Train-Loss: 0.25. Train-Acc: 0.13\n",
      "Val-Loss:   0.26. Val-Acc:   0.17\n"
     ]
    },
    {
     "data": {
      "application/vnd.jupyter.widget-view+json": {
       "model_id": "4f02a584fbe845429b5f77dc8e6328ae",
       "version_major": 2,
       "version_minor": 0
      },
      "text/plain": [
       "  0%|          | 0/23 [00:00<?, ? batch/s]"
      ]
     },
     "metadata": {},
     "output_type": "display_data"
    },
    {
     "name": "stdout",
     "output_type": "stream",
     "text": [
      "Train-Loss: 0.19. Train-Acc: 0.28\n",
      "Val-Loss:   0.23. Val-Acc:   0.23\n"
     ]
    },
    {
     "data": {
      "application/vnd.jupyter.widget-view+json": {
       "model_id": "dff63fd823bd43b8994221b4e3c9049d",
       "version_major": 2,
       "version_minor": 0
      },
      "text/plain": [
       "  0%|          | 0/23 [00:00<?, ? batch/s]"
      ]
     },
     "metadata": {},
     "output_type": "display_data"
    },
    {
     "name": "stdout",
     "output_type": "stream",
     "text": [
      "Train-Loss: 0.15. Train-Acc: 0.40\n",
      "Val-Loss:   0.21. Val-Acc:   0.30\n"
     ]
    },
    {
     "data": {
      "application/vnd.jupyter.widget-view+json": {
       "model_id": "12395ba9abeb49acb9ceee582ac7dfec",
       "version_major": 2,
       "version_minor": 0
      },
      "text/plain": [
       "  0%|          | 0/23 [00:00<?, ? batch/s]"
      ]
     },
     "metadata": {},
     "output_type": "display_data"
    },
    {
     "name": "stdout",
     "output_type": "stream",
     "text": [
      "Train-Loss: 0.12. Train-Acc: 0.48\n",
      "Val-Loss:   0.20. Val-Acc:   0.31\n"
     ]
    },
    {
     "data": {
      "application/vnd.jupyter.widget-view+json": {
       "model_id": "a515e69398464051b138b2d8e700462d",
       "version_major": 2,
       "version_minor": 0
      },
      "text/plain": [
       "  0%|          | 0/23 [00:00<?, ? batch/s]"
      ]
     },
     "metadata": {},
     "output_type": "display_data"
    },
    {
     "name": "stdout",
     "output_type": "stream",
     "text": [
      "Train-Loss: 0.10. Train-Acc: 0.57\n",
      "Val-Loss:   0.19. Val-Acc:   0.33\n"
     ]
    },
    {
     "data": {
      "application/vnd.jupyter.widget-view+json": {
       "model_id": "b5092408670e4f01b326406cc7d092d2",
       "version_major": 2,
       "version_minor": 0
      },
      "text/plain": [
       "  0%|          | 0/23 [00:00<?, ? batch/s]"
      ]
     },
     "metadata": {},
     "output_type": "display_data"
    },
    {
     "name": "stdout",
     "output_type": "stream",
     "text": [
      "Train-Loss: 0.09. Train-Acc: 0.64\n",
      "Val-Loss:   0.19. Val-Acc:   0.35\n"
     ]
    },
    {
     "data": {
      "application/vnd.jupyter.widget-view+json": {
       "model_id": "19c5f25aa0a8421bb10f482ef46f0677",
       "version_major": 2,
       "version_minor": 0
      },
      "text/plain": [
       "  0%|          | 0/23 [00:00<?, ? batch/s]"
      ]
     },
     "metadata": {},
     "output_type": "display_data"
    },
    {
     "name": "stdout",
     "output_type": "stream",
     "text": [
      "Train-Loss: 0.07. Train-Acc: 0.69\n",
      "Val-Loss:   0.19. Val-Acc:   0.35\n"
     ]
    },
    {
     "data": {
      "application/vnd.jupyter.widget-view+json": {
       "model_id": "4ac341fb586845969b1d8f6b62d2975a",
       "version_major": 2,
       "version_minor": 0
      },
      "text/plain": [
       "  0%|          | 0/23 [00:00<?, ? batch/s]"
      ]
     },
     "metadata": {},
     "output_type": "display_data"
    },
    {
     "name": "stdout",
     "output_type": "stream",
     "text": [
      "Train-Loss: 0.06. Train-Acc: 0.74\n",
      "Val-Loss:   0.19. Val-Acc:   0.35\n"
     ]
    },
    {
     "data": {
      "application/vnd.jupyter.widget-view+json": {
       "model_id": "35c7760a6053444aa780956086f39e7c",
       "version_major": 2,
       "version_minor": 0
      },
      "text/plain": [
       "  0%|          | 0/23 [00:00<?, ? batch/s]"
      ]
     },
     "metadata": {},
     "output_type": "display_data"
    },
    {
     "name": "stdout",
     "output_type": "stream",
     "text": [
      "Train-Loss: 0.06. Train-Acc: 0.80\n",
      "Val-Loss:   0.19. Val-Acc:   0.36\n"
     ]
    },
    {
     "data": {
      "application/vnd.jupyter.widget-view+json": {
       "model_id": "55b2a295b515477985aef064917fb937",
       "version_major": 2,
       "version_minor": 0
      },
      "text/plain": [
       "  0%|          | 0/23 [00:00<?, ? batch/s]"
      ]
     },
     "metadata": {},
     "output_type": "display_data"
    },
    {
     "name": "stdout",
     "output_type": "stream",
     "text": [
      "Train-Loss: 0.05. Train-Acc: 0.83\n",
      "Val-Loss:   0.19. Val-Acc:   0.37\n"
     ]
    },
    {
     "data": {
      "application/vnd.jupyter.widget-view+json": {
       "model_id": "9e3eba9e75ee4a7b8bbc17aec43c4ea6",
       "version_major": 2,
       "version_minor": 0
      },
      "text/plain": [
       "  0%|          | 0/23 [00:00<?, ? batch/s]"
      ]
     },
     "metadata": {},
     "output_type": "display_data"
    },
    {
     "name": "stdout",
     "output_type": "stream",
     "text": [
      "Train-Loss: 0.04. Train-Acc: 0.86\n",
      "Val-Loss:   0.19. Val-Acc:   0.38\n"
     ]
    },
    {
     "data": {
      "application/vnd.jupyter.widget-view+json": {
       "model_id": "008a96c276584408a13cbfe8cd67518a",
       "version_major": 2,
       "version_minor": 0
      },
      "text/plain": [
       "  0%|          | 0/23 [00:00<?, ? batch/s]"
      ]
     },
     "metadata": {},
     "output_type": "display_data"
    },
    {
     "name": "stdout",
     "output_type": "stream",
     "text": [
      "Train-Loss: 0.04. Train-Acc: 0.87\n",
      "Val-Loss:   0.19. Val-Acc:   0.36\n"
     ]
    },
    {
     "data": {
      "application/vnd.jupyter.widget-view+json": {
       "model_id": "780ded1dfddf41c88349f756e3ca2234",
       "version_major": 2,
       "version_minor": 0
      },
      "text/plain": [
       "  0%|          | 0/23 [00:00<?, ? batch/s]"
      ]
     },
     "metadata": {},
     "output_type": "display_data"
    },
    {
     "name": "stdout",
     "output_type": "stream",
     "text": [
      "Train-Loss: 0.03. Train-Acc: 0.90\n",
      "Val-Loss:   0.19. Val-Acc:   0.37\n"
     ]
    },
    {
     "data": {
      "application/vnd.jupyter.widget-view+json": {
       "model_id": "59b3d0b59be74631a981fc36fac5cbcf",
       "version_major": 2,
       "version_minor": 0
      },
      "text/plain": [
       "  0%|          | 0/23 [00:00<?, ? batch/s]"
      ]
     },
     "metadata": {},
     "output_type": "display_data"
    },
    {
     "name": "stdout",
     "output_type": "stream",
     "text": [
      "Train-Loss: 0.03. Train-Acc: 0.92\n",
      "Val-Loss:   0.19. Val-Acc:   0.38\n"
     ]
    },
    {
     "data": {
      "application/vnd.jupyter.widget-view+json": {
       "model_id": "739bed1a61cb4e05a6f463e98e5ee5e7",
       "version_major": 2,
       "version_minor": 0
      },
      "text/plain": [
       "  0%|          | 0/23 [00:00<?, ? batch/s]"
      ]
     },
     "metadata": {},
     "output_type": "display_data"
    },
    {
     "name": "stdout",
     "output_type": "stream",
     "text": [
      "Train-Loss: 0.03. Train-Acc: 0.94\n",
      "Val-Loss:   0.20. Val-Acc:   0.39\n"
     ]
    },
    {
     "data": {
      "application/vnd.jupyter.widget-view+json": {
       "model_id": "b6478b6fa5964c0f884b9bc284f342a1",
       "version_major": 2,
       "version_minor": 0
      },
      "text/plain": [
       "  0%|          | 0/23 [00:00<?, ? batch/s]"
      ]
     },
     "metadata": {},
     "output_type": "display_data"
    },
    {
     "name": "stdout",
     "output_type": "stream",
     "text": [
      "Train-Loss: 0.02. Train-Acc: 0.93\n",
      "Val-Loss:   0.20. Val-Acc:   0.39\n"
     ]
    },
    {
     "data": {
      "application/vnd.jupyter.widget-view+json": {
       "model_id": "284470a583214ec8b7df794e77b48fd2",
       "version_major": 2,
       "version_minor": 0
      },
      "text/plain": [
       "  0%|          | 0/23 [00:00<?, ? batch/s]"
      ]
     },
     "metadata": {},
     "output_type": "display_data"
    },
    {
     "name": "stdout",
     "output_type": "stream",
     "text": [
      "Train-Loss: 0.02. Train-Acc: 0.94\n",
      "Val-Loss:   0.20. Val-Acc:   0.38\n"
     ]
    },
    {
     "data": {
      "application/vnd.jupyter.widget-view+json": {
       "model_id": "3e1ef60436f24e9cb6813e36b291db4e",
       "version_major": 2,
       "version_minor": 0
      },
      "text/plain": [
       "  0%|          | 0/23 [00:00<?, ? batch/s]"
      ]
     },
     "metadata": {},
     "output_type": "display_data"
    },
    {
     "name": "stdout",
     "output_type": "stream",
     "text": [
      "Train-Loss: 0.02. Train-Acc: 0.95\n",
      "Val-Loss:   0.20. Val-Acc:   0.39\n"
     ]
    },
    {
     "data": {
      "application/vnd.jupyter.widget-view+json": {
       "model_id": "5064ca53b6d8474b83b398195ef5051b",
       "version_major": 2,
       "version_minor": 0
      },
      "text/plain": [
       "  0%|          | 0/23 [00:00<?, ? batch/s]"
      ]
     },
     "metadata": {},
     "output_type": "display_data"
    },
    {
     "name": "stdout",
     "output_type": "stream",
     "text": [
      "Train-Loss: 0.02. Train-Acc: 0.96\n",
      "Val-Loss:   0.20. Val-Acc:   0.39\n"
     ]
    },
    {
     "data": {
      "application/vnd.jupyter.widget-view+json": {
       "model_id": "695d26d7578c40d7b9093119bf2adc08",
       "version_major": 2,
       "version_minor": 0
      },
      "text/plain": [
       "  0%|          | 0/23 [00:00<?, ? batch/s]"
      ]
     },
     "metadata": {},
     "output_type": "display_data"
    },
    {
     "name": "stdout",
     "output_type": "stream",
     "text": [
      "Train-Loss: 0.02. Train-Acc: 0.96\n",
      "Val-Loss:   0.20. Val-Acc:   0.41\n"
     ]
    },
    {
     "data": {
      "application/vnd.jupyter.widget-view+json": {
       "model_id": "04e92e790cae4a31a586581e58c750f6",
       "version_major": 2,
       "version_minor": 0
      },
      "text/plain": [
       "  0%|          | 0/23 [00:00<?, ? batch/s]"
      ]
     },
     "metadata": {},
     "output_type": "display_data"
    },
    {
     "name": "stdout",
     "output_type": "stream",
     "text": [
      "Train-Loss: 0.02. Train-Acc: 0.98\n",
      "Val-Loss:   0.20. Val-Acc:   0.40\n"
     ]
    },
    {
     "data": {
      "application/vnd.jupyter.widget-view+json": {
       "model_id": "a4ecdd5af6c147f4aab4b53426ecb66e",
       "version_major": 2,
       "version_minor": 0
      },
      "text/plain": [
       "  0%|          | 0/23 [00:00<?, ? batch/s]"
      ]
     },
     "metadata": {},
     "output_type": "display_data"
    },
    {
     "name": "stdout",
     "output_type": "stream",
     "text": [
      "Train-Loss: 0.02. Train-Acc: 0.98\n",
      "Val-Loss:   0.21. Val-Acc:   0.41\n"
     ]
    },
    {
     "data": {
      "application/vnd.jupyter.widget-view+json": {
       "model_id": "17c95e83a8e845949ea86a7d5c0081ac",
       "version_major": 2,
       "version_minor": 0
      },
      "text/plain": [
       "  0%|          | 0/23 [00:00<?, ? batch/s]"
      ]
     },
     "metadata": {},
     "output_type": "display_data"
    },
    {
     "name": "stdout",
     "output_type": "stream",
     "text": [
      "Train-Loss: 0.01. Train-Acc: 0.98\n",
      "Val-Loss:   0.21. Val-Acc:   0.40\n"
     ]
    },
    {
     "data": {
      "application/vnd.jupyter.widget-view+json": {
       "model_id": "f6939226448b4ac2be63919b8ef6f502",
       "version_major": 2,
       "version_minor": 0
      },
      "text/plain": [
       "  0%|          | 0/23 [00:00<?, ? batch/s]"
      ]
     },
     "metadata": {},
     "output_type": "display_data"
    },
    {
     "name": "stdout",
     "output_type": "stream",
     "text": [
      "Train-Loss: 0.01. Train-Acc: 0.97\n",
      "Val-Loss:   0.20. Val-Acc:   0.41\n"
     ]
    },
    {
     "data": {
      "application/vnd.jupyter.widget-view+json": {
       "model_id": "0b14d7dfcfcb4500aa93b1acea3630ad",
       "version_major": 2,
       "version_minor": 0
      },
      "text/plain": [
       "  0%|          | 0/23 [00:00<?, ? batch/s]"
      ]
     },
     "metadata": {},
     "output_type": "display_data"
    },
    {
     "name": "stdout",
     "output_type": "stream",
     "text": [
      "Train-Loss: 0.01. Train-Acc: 0.98\n",
      "Val-Loss:   0.21. Val-Acc:   0.39\n"
     ]
    },
    {
     "data": {
      "application/vnd.jupyter.widget-view+json": {
       "model_id": "a5d40fd5f67e4aa9828b16f563f2e48c",
       "version_major": 2,
       "version_minor": 0
      },
      "text/plain": [
       "  0%|          | 0/23 [00:00<?, ? batch/s]"
      ]
     },
     "metadata": {},
     "output_type": "display_data"
    },
    {
     "name": "stdout",
     "output_type": "stream",
     "text": [
      "Train-Loss: 0.01. Train-Acc: 0.99\n",
      "Val-Loss:   0.21. Val-Acc:   0.41\n"
     ]
    },
    {
     "data": {
      "application/vnd.jupyter.widget-view+json": {
       "model_id": "84bccf5b6f5b43939fe792db654bc3be",
       "version_major": 2,
       "version_minor": 0
      },
      "text/plain": [
       "  0%|          | 0/23 [00:00<?, ? batch/s]"
      ]
     },
     "metadata": {},
     "output_type": "display_data"
    },
    {
     "name": "stdout",
     "output_type": "stream",
     "text": [
      "Train-Loss: 0.01. Train-Acc: 0.99\n",
      "Val-Loss:   0.21. Val-Acc:   0.41\n"
     ]
    },
    {
     "data": {
      "application/vnd.jupyter.widget-view+json": {
       "model_id": "fc6339dfb1e347d891b9ee13f5dba428",
       "version_major": 2,
       "version_minor": 0
      },
      "text/plain": [
       "  0%|          | 0/23 [00:00<?, ? batch/s]"
      ]
     },
     "metadata": {},
     "output_type": "display_data"
    },
    {
     "name": "stdout",
     "output_type": "stream",
     "text": [
      "Train-Loss: 0.01. Train-Acc: 0.99\n",
      "Val-Loss:   0.21. Val-Acc:   0.40\n"
     ]
    },
    {
     "data": {
      "application/vnd.jupyter.widget-view+json": {
       "model_id": "3edc4e911a00457cb32cbf080060ca50",
       "version_major": 2,
       "version_minor": 0
      },
      "text/plain": [
       "  0%|          | 0/23 [00:00<?, ? batch/s]"
      ]
     },
     "metadata": {},
     "output_type": "display_data"
    },
    {
     "name": "stdout",
     "output_type": "stream",
     "text": [
      "Train-Loss: 0.01. Train-Acc: 0.99\n",
      "Val-Loss:   0.21. Val-Acc:   0.40\n"
     ]
    },
    {
     "data": {
      "application/vnd.jupyter.widget-view+json": {
       "model_id": "20132ec268604ef0afef5cc687ef07f8",
       "version_major": 2,
       "version_minor": 0
      },
      "text/plain": [
       "  0%|          | 0/23 [00:00<?, ? batch/s]"
      ]
     },
     "metadata": {},
     "output_type": "display_data"
    },
    {
     "name": "stdout",
     "output_type": "stream",
     "text": [
      "Train-Loss: 0.01. Train-Acc: 0.99\n",
      "Val-Loss:   0.21. Val-Acc:   0.40\n"
     ]
    },
    {
     "data": {
      "application/vnd.jupyter.widget-view+json": {
       "model_id": "a1c438269e304e6092065a5b44d86b05",
       "version_major": 2,
       "version_minor": 0
      },
      "text/plain": [
       "  0%|          | 0/23 [00:00<?, ? batch/s]"
      ]
     },
     "metadata": {},
     "output_type": "display_data"
    },
    {
     "name": "stdout",
     "output_type": "stream",
     "text": [
      "Train-Loss: 0.01. Train-Acc: 0.99\n",
      "Val-Loss:   0.21. Val-Acc:   0.39\n"
     ]
    },
    {
     "data": {
      "application/vnd.jupyter.widget-view+json": {
       "model_id": "1ed873afe23949a68a16b47fbf088c27",
       "version_major": 2,
       "version_minor": 0
      },
      "text/plain": [
       "  0%|          | 0/23 [00:00<?, ? batch/s]"
      ]
     },
     "metadata": {},
     "output_type": "display_data"
    },
    {
     "name": "stdout",
     "output_type": "stream",
     "text": [
      "Train-Loss: 0.01. Train-Acc: 0.99\n",
      "Val-Loss:   0.21. Val-Acc:   0.40\n"
     ]
    },
    {
     "data": {
      "application/vnd.jupyter.widget-view+json": {
       "model_id": "48a802a0fd324f1ba2a2b16d6cdd257d",
       "version_major": 2,
       "version_minor": 0
      },
      "text/plain": [
       "  0%|          | 0/23 [00:00<?, ? batch/s]"
      ]
     },
     "metadata": {},
     "output_type": "display_data"
    },
    {
     "name": "stdout",
     "output_type": "stream",
     "text": [
      "Train-Loss: 0.01. Train-Acc: 1.00\n",
      "Val-Loss:   0.21. Val-Acc:   0.41\n"
     ]
    },
    {
     "data": {
      "application/vnd.jupyter.widget-view+json": {
       "model_id": "fe38919febdc44a9abcd58421f84315b",
       "version_major": 2,
       "version_minor": 0
      },
      "text/plain": [
       "  0%|          | 0/23 [00:00<?, ? batch/s]"
      ]
     },
     "metadata": {},
     "output_type": "display_data"
    },
    {
     "name": "stdout",
     "output_type": "stream",
     "text": [
      "Train-Loss: 0.01. Train-Acc: 0.99\n",
      "Val-Loss:   0.22. Val-Acc:   0.39\n"
     ]
    },
    {
     "data": {
      "application/vnd.jupyter.widget-view+json": {
       "model_id": "e4beaef55e974b508e37ba5acd7792a8",
       "version_major": 2,
       "version_minor": 0
      },
      "text/plain": [
       "  0%|          | 0/23 [00:00<?, ? batch/s]"
      ]
     },
     "metadata": {},
     "output_type": "display_data"
    },
    {
     "name": "stdout",
     "output_type": "stream",
     "text": [
      "Train-Loss: 0.01. Train-Acc: 0.99\n",
      "Early stopping after 36 epochs with best epoch in 25\n"
     ]
    }
   ],
   "source": [
    "best_model1, train_losses1, val_losses1, train_accuracies1, val_accuracies1 = train(\n",
    "    model=resnet_pretrained1,\n",
    "    optimizer=optimizer,\n",
    "    criterion=criterion,\n",
    "    train_loader=train_loader_base,\n",
    "    epochs=epochs,\n",
    "    device=device,\n",
    "    val_loader=val_loader,\n",
    ")"
   ]
  },
  {
   "cell_type": "code",
   "execution_count": 22,
   "id": "89a98a8c",
   "metadata": {
    "tags": []
   },
   "outputs": [
    {
     "data": {
      "application/vnd.jupyter.widget-view+json": {
       "model_id": "5662f84ce1984ce697bfa08d67eb26cf",
       "version_major": 2,
       "version_minor": 0
      },
      "text/plain": [
       "Test:   0%|          | 0/7 [00:00<?, ?it/s]"
      ]
     },
     "metadata": {},
     "output_type": "display_data"
    }
   ],
   "source": [
    "results1 = test(best_model1, test_loader, full_dataset_te.class_names, device)"
   ]
  },
  {
   "cell_type": "code",
   "execution_count": 24,
   "id": "a745d2f6",
   "metadata": {
    "tags": []
   },
   "outputs": [
    {
     "name": "stdout",
     "output_type": "stream",
     "text": [
      "overall_acc\t 0.4023809523809524\n",
      "f1_micro\t 0.8186646433990895\n",
      "f1_macro\t 0.8080345210017872\n",
      "mAP_micro\t 0.7173680285623508\n",
      "mAP_macro\t 0.73430816161051\n",
      "              precision    recall  f1-score   support\n",
      "\n",
      "    airplane       0.91      0.59      0.71        17\n",
      "   bare-soil       0.79      0.61      0.69       140\n",
      "   buildings       0.80      0.83      0.81       127\n",
      "        cars       0.84      0.76      0.80       181\n",
      "   chaparral       1.00      0.93      0.96        27\n",
      "       court       0.75      0.26      0.39        23\n",
      "        dock       1.00      0.95      0.97        20\n",
      "       field       1.00      0.95      0.98        21\n",
      "       grass       0.91      0.72      0.80       202\n",
      " mobile-home       0.95      0.67      0.78        27\n",
      "    pavement       0.90      0.91      0.91       258\n",
      "        sand       0.85      0.57      0.68        58\n",
      "         sea       1.00      1.00      1.00        20\n",
      "        ship       1.00      0.95      0.97        20\n",
      "       tanks       1.00      0.44      0.62        18\n",
      "       trees       0.84      0.81      0.83       200\n",
      "       water       1.00      0.72      0.84        39\n",
      "\n",
      "   micro avg       0.87      0.77      0.82      1398\n",
      "   macro avg       0.91      0.75      0.81      1398\n",
      "weighted avg       0.87      0.77      0.81      1398\n",
      " samples avg       0.89      0.81      0.83      1398\n",
      "\n"
     ]
    }
   ],
   "source": [
    "show_results(results1)"
   ]
  },
  {
   "cell_type": "code",
   "execution_count": 26,
   "id": "c3327640-d7dc-4ab7-a72e-104030d2d828",
   "metadata": {
    "tags": []
   },
   "outputs": [],
   "source": [
    "file_name = results_path / f\"val_accuracies1.json\"\n",
    "save_results_to_json(val_accuracies1, file_name)"
   ]
  },
  {
   "cell_type": "markdown",
   "id": "d3c16801",
   "metadata": {
    "tags": []
   },
   "source": [
    "#### 4.2 A method that includes random affine transformation (e.g. degrees=10) and random auto-contrast"
   ]
  },
  {
   "cell_type": "code",
   "execution_count": 19,
   "id": "70e0e03b",
   "metadata": {
    "tags": []
   },
   "outputs": [],
   "source": [
    "tr_transform_affine_autocontrast = transforms.Compose(\n",
    "    [\n",
    "        transforms.Resize((64, 64)),\n",
    "        transforms.RandomAffine(degrees=10),\n",
    "        transforms.RandomAutocontrast(),\n",
    "        transforms.ToTensor(),\n",
    "        transforms.Normalize(mean=ucm_mean, std=ucm_std),\n",
    "    ]\n",
    ")\n",
    "\n",
    "train_dataset_aa, train_loader_aa = get_split_transform_train_data(tr_transform_affine_autocontrast)"
   ]
  },
  {
   "cell_type": "code",
   "execution_count": 20,
   "id": "72a73f89",
   "metadata": {
    "tags": []
   },
   "outputs": [],
   "source": [
    "resnet_pretrained2 = models.resnet18(weights=ResNet18_Weights.DEFAULT)\n",
    "resnet_pretrained2.fc = nn.Linear(512, 17)\n",
    "\n",
    "optimizer = optim.SGD(\n",
    "    resnet_pretrained2.parameters(),\n",
    "    lr=learning_rate,\n",
    "    momentum=momentum,\n",
    "    weight_decay=0.0001,\n",
    "    nesterov=True,\n",
    ")"
   ]
  },
  {
   "cell_type": "code",
   "execution_count": 21,
   "id": "6c53625b",
   "metadata": {
    "tags": []
   },
   "outputs": [
    {
     "data": {
      "application/vnd.jupyter.widget-view+json": {
       "model_id": "e0656aa35b7f42f681a1109a786b4413",
       "version_major": 2,
       "version_minor": 0
      },
      "text/plain": [
       "Training the network:   0%|          | 0/60 [00:00<?, ?it/s]"
      ]
     },
     "metadata": {},
     "output_type": "display_data"
    },
    {
     "data": {
      "application/vnd.jupyter.widget-view+json": {
       "model_id": "ec90408cc6f34694a41e198d5937196e",
       "version_major": 2,
       "version_minor": 0
      },
      "text/plain": [
       "  0%|          | 0/23 [00:00<?, ? batch/s]"
      ]
     },
     "metadata": {},
     "output_type": "display_data"
    },
    {
     "name": "stdout",
     "output_type": "stream",
     "text": [
      "Train-Loss: 0.45. Train-Acc: 0.02\n",
      "Val-Loss:   0.34. Val-Acc:   0.07\n"
     ]
    },
    {
     "data": {
      "application/vnd.jupyter.widget-view+json": {
       "model_id": "29df796aec284a889c0864ff4d4b3ef2",
       "version_major": 2,
       "version_minor": 0
      },
      "text/plain": [
       "  0%|          | 0/23 [00:00<?, ? batch/s]"
      ]
     },
     "metadata": {},
     "output_type": "display_data"
    },
    {
     "name": "stdout",
     "output_type": "stream",
     "text": [
      "Train-Loss: 0.29. Train-Acc: 0.07\n",
      "Val-Loss:   0.28. Val-Acc:   0.11\n"
     ]
    },
    {
     "data": {
      "application/vnd.jupyter.widget-view+json": {
       "model_id": "d55585d651024ebaad5d5160fc96bfcc",
       "version_major": 2,
       "version_minor": 0
      },
      "text/plain": [
       "  0%|          | 0/23 [00:00<?, ? batch/s]"
      ]
     },
     "metadata": {},
     "output_type": "display_data"
    },
    {
     "name": "stdout",
     "output_type": "stream",
     "text": [
      "Train-Loss: 0.23. Train-Acc: 0.17\n",
      "Val-Loss:   0.24. Val-Acc:   0.22\n"
     ]
    },
    {
     "data": {
      "application/vnd.jupyter.widget-view+json": {
       "model_id": "8ab15a2a88ff441bb3054683ed3bf3bd",
       "version_major": 2,
       "version_minor": 0
      },
      "text/plain": [
       "  0%|          | 0/23 [00:00<?, ? batch/s]"
      ]
     },
     "metadata": {},
     "output_type": "display_data"
    },
    {
     "name": "stdout",
     "output_type": "stream",
     "text": [
      "Train-Loss: 0.19. Train-Acc: 0.27\n",
      "Val-Loss:   0.22. Val-Acc:   0.29\n"
     ]
    },
    {
     "data": {
      "application/vnd.jupyter.widget-view+json": {
       "model_id": "f19e37885eec468586c1fb31fe73ae8d",
       "version_major": 2,
       "version_minor": 0
      },
      "text/plain": [
       "  0%|          | 0/23 [00:00<?, ? batch/s]"
      ]
     },
     "metadata": {},
     "output_type": "display_data"
    },
    {
     "name": "stdout",
     "output_type": "stream",
     "text": [
      "Train-Loss: 0.16. Train-Acc: 0.35\n",
      "Val-Loss:   0.20. Val-Acc:   0.31\n"
     ]
    },
    {
     "data": {
      "application/vnd.jupyter.widget-view+json": {
       "model_id": "49dbd331b8584ae89b329695b67a7a99",
       "version_major": 2,
       "version_minor": 0
      },
      "text/plain": [
       "  0%|          | 0/23 [00:00<?, ? batch/s]"
      ]
     },
     "metadata": {},
     "output_type": "display_data"
    },
    {
     "name": "stdout",
     "output_type": "stream",
     "text": [
      "Train-Loss: 0.15. Train-Acc: 0.39\n",
      "Val-Loss:   0.19. Val-Acc:   0.33\n"
     ]
    },
    {
     "data": {
      "application/vnd.jupyter.widget-view+json": {
       "model_id": "304d16f665e546618518794a8e2cfb90",
       "version_major": 2,
       "version_minor": 0
      },
      "text/plain": [
       "  0%|          | 0/23 [00:00<?, ? batch/s]"
      ]
     },
     "metadata": {},
     "output_type": "display_data"
    },
    {
     "name": "stdout",
     "output_type": "stream",
     "text": [
      "Train-Loss: 0.13. Train-Acc: 0.43\n",
      "Val-Loss:   0.19. Val-Acc:   0.33\n"
     ]
    },
    {
     "data": {
      "application/vnd.jupyter.widget-view+json": {
       "model_id": "e45a8a3cd8064118b40eca4fddc376ba",
       "version_major": 2,
       "version_minor": 0
      },
      "text/plain": [
       "  0%|          | 0/23 [00:00<?, ? batch/s]"
      ]
     },
     "metadata": {},
     "output_type": "display_data"
    },
    {
     "name": "stdout",
     "output_type": "stream",
     "text": [
      "Train-Loss: 0.12. Train-Acc: 0.47\n",
      "Val-Loss:   0.18. Val-Acc:   0.35\n"
     ]
    },
    {
     "data": {
      "application/vnd.jupyter.widget-view+json": {
       "model_id": "34ea99f1e28048508edaa3e0d7c18ed0",
       "version_major": 2,
       "version_minor": 0
      },
      "text/plain": [
       "  0%|          | 0/23 [00:00<?, ? batch/s]"
      ]
     },
     "metadata": {},
     "output_type": "display_data"
    },
    {
     "name": "stdout",
     "output_type": "stream",
     "text": [
      "Train-Loss: 0.11. Train-Acc: 0.49\n",
      "Val-Loss:   0.18. Val-Acc:   0.36\n"
     ]
    },
    {
     "data": {
      "application/vnd.jupyter.widget-view+json": {
       "model_id": "c2d9e495ebaa45739cb11fbe61092c07",
       "version_major": 2,
       "version_minor": 0
      },
      "text/plain": [
       "  0%|          | 0/23 [00:00<?, ? batch/s]"
      ]
     },
     "metadata": {},
     "output_type": "display_data"
    },
    {
     "name": "stdout",
     "output_type": "stream",
     "text": [
      "Train-Loss: 0.11. Train-Acc: 0.52\n",
      "Val-Loss:   0.18. Val-Acc:   0.35\n"
     ]
    },
    {
     "data": {
      "application/vnd.jupyter.widget-view+json": {
       "model_id": "64ced2d0785a4e59a38a94c39e98bcd2",
       "version_major": 2,
       "version_minor": 0
      },
      "text/plain": [
       "  0%|          | 0/23 [00:00<?, ? batch/s]"
      ]
     },
     "metadata": {},
     "output_type": "display_data"
    },
    {
     "name": "stdout",
     "output_type": "stream",
     "text": [
      "Train-Loss: 0.10. Train-Acc: 0.57\n",
      "Val-Loss:   0.17. Val-Acc:   0.36\n"
     ]
    },
    {
     "data": {
      "application/vnd.jupyter.widget-view+json": {
       "model_id": "c842d293deed4f1ba4533e25eb837586",
       "version_major": 2,
       "version_minor": 0
      },
      "text/plain": [
       "  0%|          | 0/23 [00:00<?, ? batch/s]"
      ]
     },
     "metadata": {},
     "output_type": "display_data"
    },
    {
     "name": "stdout",
     "output_type": "stream",
     "text": [
      "Train-Loss: 0.09. Train-Acc: 0.58\n",
      "Val-Loss:   0.17. Val-Acc:   0.37\n"
     ]
    },
    {
     "data": {
      "application/vnd.jupyter.widget-view+json": {
       "model_id": "ee459a60d9c84bd58e89ffc94be3e1fe",
       "version_major": 2,
       "version_minor": 0
      },
      "text/plain": [
       "  0%|          | 0/23 [00:00<?, ? batch/s]"
      ]
     },
     "metadata": {},
     "output_type": "display_data"
    },
    {
     "name": "stdout",
     "output_type": "stream",
     "text": [
      "Train-Loss: 0.08. Train-Acc: 0.61\n",
      "Val-Loss:   0.17. Val-Acc:   0.37\n"
     ]
    },
    {
     "data": {
      "application/vnd.jupyter.widget-view+json": {
       "model_id": "0763cca5bdad478b99b7dadb8ef49751",
       "version_major": 2,
       "version_minor": 0
      },
      "text/plain": [
       "  0%|          | 0/23 [00:00<?, ? batch/s]"
      ]
     },
     "metadata": {},
     "output_type": "display_data"
    },
    {
     "name": "stdout",
     "output_type": "stream",
     "text": [
      "Train-Loss: 0.08. Train-Acc: 0.63\n",
      "Val-Loss:   0.17. Val-Acc:   0.38\n"
     ]
    },
    {
     "data": {
      "application/vnd.jupyter.widget-view+json": {
       "model_id": "cf125b9355114f04b0d7cd689819d0d6",
       "version_major": 2,
       "version_minor": 0
      },
      "text/plain": [
       "  0%|          | 0/23 [00:00<?, ? batch/s]"
      ]
     },
     "metadata": {},
     "output_type": "display_data"
    },
    {
     "name": "stdout",
     "output_type": "stream",
     "text": [
      "Train-Loss: 0.08. Train-Acc: 0.64\n",
      "Val-Loss:   0.17. Val-Acc:   0.41\n"
     ]
    },
    {
     "data": {
      "application/vnd.jupyter.widget-view+json": {
       "model_id": "e7af6bbedf3e450ebbfa8c888e23e031",
       "version_major": 2,
       "version_minor": 0
      },
      "text/plain": [
       "  0%|          | 0/23 [00:00<?, ? batch/s]"
      ]
     },
     "metadata": {},
     "output_type": "display_data"
    },
    {
     "name": "stdout",
     "output_type": "stream",
     "text": [
      "Train-Loss: 0.07. Train-Acc: 0.69\n",
      "Val-Loss:   0.17. Val-Acc:   0.36\n"
     ]
    },
    {
     "data": {
      "application/vnd.jupyter.widget-view+json": {
       "model_id": "51371572d3f449fca2e318bfff2a7b1e",
       "version_major": 2,
       "version_minor": 0
      },
      "text/plain": [
       "  0%|          | 0/23 [00:00<?, ? batch/s]"
      ]
     },
     "metadata": {},
     "output_type": "display_data"
    },
    {
     "name": "stdout",
     "output_type": "stream",
     "text": [
      "Train-Loss: 0.07. Train-Acc: 0.69\n",
      "Val-Loss:   0.17. Val-Acc:   0.38\n"
     ]
    },
    {
     "data": {
      "application/vnd.jupyter.widget-view+json": {
       "model_id": "b9065f24d198407faabf747ca9e51b61",
       "version_major": 2,
       "version_minor": 0
      },
      "text/plain": [
       "  0%|          | 0/23 [00:00<?, ? batch/s]"
      ]
     },
     "metadata": {},
     "output_type": "display_data"
    },
    {
     "name": "stdout",
     "output_type": "stream",
     "text": [
      "Train-Loss: 0.06. Train-Acc: 0.72\n",
      "Val-Loss:   0.17. Val-Acc:   0.40\n"
     ]
    },
    {
     "data": {
      "application/vnd.jupyter.widget-view+json": {
       "model_id": "d342a3d95ee74d6ca66aae4566450a34",
       "version_major": 2,
       "version_minor": 0
      },
      "text/plain": [
       "  0%|          | 0/23 [00:00<?, ? batch/s]"
      ]
     },
     "metadata": {},
     "output_type": "display_data"
    },
    {
     "name": "stdout",
     "output_type": "stream",
     "text": [
      "Train-Loss: 0.05. Train-Acc: 0.75\n",
      "Val-Loss:   0.17. Val-Acc:   0.39\n"
     ]
    },
    {
     "data": {
      "application/vnd.jupyter.widget-view+json": {
       "model_id": "952680f16baa44b9bb385600f8b9e9a8",
       "version_major": 2,
       "version_minor": 0
      },
      "text/plain": [
       "  0%|          | 0/23 [00:00<?, ? batch/s]"
      ]
     },
     "metadata": {},
     "output_type": "display_data"
    },
    {
     "name": "stdout",
     "output_type": "stream",
     "text": [
      "Train-Loss: 0.05. Train-Acc: 0.75\n",
      "Val-Loss:   0.18. Val-Acc:   0.39\n"
     ]
    },
    {
     "data": {
      "application/vnd.jupyter.widget-view+json": {
       "model_id": "a398881bf1a248438809135444083b77",
       "version_major": 2,
       "version_minor": 0
      },
      "text/plain": [
       "  0%|          | 0/23 [00:00<?, ? batch/s]"
      ]
     },
     "metadata": {},
     "output_type": "display_data"
    },
    {
     "name": "stdout",
     "output_type": "stream",
     "text": [
      "Train-Loss: 0.05. Train-Acc: 0.77\n",
      "Val-Loss:   0.18. Val-Acc:   0.39\n"
     ]
    },
    {
     "data": {
      "application/vnd.jupyter.widget-view+json": {
       "model_id": "c31595bea4e1422ba7f8450f19ddecd2",
       "version_major": 2,
       "version_minor": 0
      },
      "text/plain": [
       "  0%|          | 0/23 [00:00<?, ? batch/s]"
      ]
     },
     "metadata": {},
     "output_type": "display_data"
    },
    {
     "name": "stdout",
     "output_type": "stream",
     "text": [
      "Train-Loss: 0.05. Train-Acc: 0.79\n",
      "Val-Loss:   0.18. Val-Acc:   0.39\n"
     ]
    },
    {
     "data": {
      "application/vnd.jupyter.widget-view+json": {
       "model_id": "e1b16039493044de94147caaec3e802d",
       "version_major": 2,
       "version_minor": 0
      },
      "text/plain": [
       "  0%|          | 0/23 [00:00<?, ? batch/s]"
      ]
     },
     "metadata": {},
     "output_type": "display_data"
    },
    {
     "name": "stdout",
     "output_type": "stream",
     "text": [
      "Train-Loss: 0.04. Train-Acc: 0.80\n",
      "Val-Loss:   0.18. Val-Acc:   0.39\n"
     ]
    },
    {
     "data": {
      "application/vnd.jupyter.widget-view+json": {
       "model_id": "3e7eb5d50d05486faeff741b7750cb66",
       "version_major": 2,
       "version_minor": 0
      },
      "text/plain": [
       "  0%|          | 0/23 [00:00<?, ? batch/s]"
      ]
     },
     "metadata": {},
     "output_type": "display_data"
    },
    {
     "name": "stdout",
     "output_type": "stream",
     "text": [
      "Train-Loss: 0.04. Train-Acc: 0.83\n",
      "Val-Loss:   0.18. Val-Acc:   0.40\n"
     ]
    },
    {
     "data": {
      "application/vnd.jupyter.widget-view+json": {
       "model_id": "8c404321e4f54a579878bc91ec739901",
       "version_major": 2,
       "version_minor": 0
      },
      "text/plain": [
       "  0%|          | 0/23 [00:00<?, ? batch/s]"
      ]
     },
     "metadata": {},
     "output_type": "display_data"
    },
    {
     "name": "stdout",
     "output_type": "stream",
     "text": [
      "Train-Loss: 0.04. Train-Acc: 0.84\n",
      "Val-Loss:   0.18. Val-Acc:   0.39\n"
     ]
    },
    {
     "data": {
      "application/vnd.jupyter.widget-view+json": {
       "model_id": "583ba4e26cfc4cc4a09559c81fc9a194",
       "version_major": 2,
       "version_minor": 0
      },
      "text/plain": [
       "  0%|          | 0/23 [00:00<?, ? batch/s]"
      ]
     },
     "metadata": {},
     "output_type": "display_data"
    },
    {
     "name": "stdout",
     "output_type": "stream",
     "text": [
      "Train-Loss: 0.03. Train-Acc: 0.86\n",
      "Early stopping after 26 epochs with best epoch in 15\n"
     ]
    }
   ],
   "source": [
    "best_model2, train_losses2, val_losses2, train_accuracies2, val_accuracies2 = train(\n",
    "    model=resnet_pretrained2,\n",
    "    optimizer=optimizer,\n",
    "    criterion=criterion,\n",
    "    train_loader=train_loader_aa,\n",
    "    epochs=epochs,\n",
    "    device=device,\n",
    "    val_loader=val_loader,\n",
    ")"
   ]
  },
  {
   "cell_type": "code",
   "execution_count": 22,
   "id": "a4277fa2-fe19-4c23-8867-1ea92ac90b83",
   "metadata": {
    "tags": []
   },
   "outputs": [
    {
     "data": {
      "application/vnd.jupyter.widget-view+json": {
       "model_id": "300768ed2f1d44cca24f26bb5f725076",
       "version_major": 2,
       "version_minor": 0
      },
      "text/plain": [
       "Test:   0%|          | 0/7 [00:00<?, ?it/s]"
      ]
     },
     "metadata": {},
     "output_type": "display_data"
    }
   ],
   "source": [
    "results2 = test(best_model2, test_loader, full_dataset_te.class_names, device)"
   ]
  },
  {
   "cell_type": "code",
   "execution_count": 24,
   "id": "1b7474ca-8367-48bc-abdd-dbeaaf2644e7",
   "metadata": {
    "tags": []
   },
   "outputs": [
    {
     "name": "stdout",
     "output_type": "stream",
     "text": [
      "overall_acc\t 0.42857142857142855\n",
      "f1_micro\t 0.8341555977229601\n",
      "f1_macro\t 0.8429539994670496\n",
      "mAP_micro\t 0.7402997201114841\n",
      "mAP_macro\t 0.7744065396348563\n",
      "              precision    recall  f1-score   support\n",
      "\n",
      "    airplane       0.93      0.82      0.87        17\n",
      "   bare-soil       0.84      0.66      0.74       140\n",
      "   buildings       0.85      0.76      0.80       127\n",
      "        cars       0.87      0.79      0.83       181\n",
      "   chaparral       1.00      0.93      0.96        27\n",
      "       court       1.00      0.43      0.61        23\n",
      "        dock       1.00      1.00      1.00        20\n",
      "       field       1.00      0.95      0.98        21\n",
      "       grass       0.88      0.79      0.83       202\n",
      " mobile-home       1.00      0.70      0.83        27\n",
      "    pavement       0.90      0.91      0.91       258\n",
      "        sand       0.92      0.62      0.74        58\n",
      "         sea       0.94      0.85      0.89        20\n",
      "        ship       1.00      1.00      1.00        20\n",
      "       tanks       0.91      0.56      0.69        18\n",
      "       trees       0.84      0.77      0.80       200\n",
      "       water       1.00      0.74      0.85        39\n",
      "\n",
      "   micro avg       0.89      0.79      0.83      1398\n",
      "   macro avg       0.93      0.78      0.84      1398\n",
      "weighted avg       0.89      0.79      0.83      1398\n",
      " samples avg       0.90      0.82      0.84      1398\n",
      "\n"
     ]
    }
   ],
   "source": [
    "show_results(results2)"
   ]
  },
  {
   "cell_type": "code",
   "execution_count": 25,
   "id": "cc3049a2-5431-4d19-834d-bcfe696d7dec",
   "metadata": {
    "tags": []
   },
   "outputs": [],
   "source": [
    "file_name = results_path / f\"val_accuracies2.json\"\n",
    "save_results_to_json(val_accuracies2, file_name)"
   ]
  },
  {
   "cell_type": "markdown",
   "id": "90d2d693",
   "metadata": {
    "tags": []
   },
   "source": [
    "#### 4.3 A method that consists of 3 augmentation methods that you select on your own\n",
    "* random horizontal flip\n",
    "* random rotation\n",
    "* random brightness adjustment"
   ]
  },
  {
   "cell_type": "code",
   "execution_count": 20,
   "id": "0fd0c95c",
   "metadata": {
    "tags": []
   },
   "outputs": [],
   "source": [
    "tr_transform_combined = transforms.Compose(\n",
    "    [\n",
    "        transforms.Resize((64, 64)),\n",
    "        transforms.RandomHorizontalFlip(),\n",
    "        transforms.RandomRotation(degrees=10),\n",
    "        transforms.ColorJitter(brightness=0.2, contrast=0.2, saturation=0.2, hue=0.1),\n",
    "        transforms.ToTensor(),\n",
    "        transforms.Normalize(mean=ucm_mean, std=ucm_std),\n",
    "    ]\n",
    ")\n",
    "train_dataset_c, train_loader_c = get_split_transform_train_data(tr_transform_combined)"
   ]
  },
  {
   "cell_type": "code",
   "execution_count": 21,
   "id": "a17860dc",
   "metadata": {
    "tags": []
   },
   "outputs": [],
   "source": [
    "resnet_pretrained3 = models.resnet18(weights=ResNet18_Weights.DEFAULT)\n",
    "resnet_pretrained3.fc = nn.Linear(512, 17)\n",
    "\n",
    "optimizer = optim.SGD(\n",
    "    resnet_pretrained3.parameters(),\n",
    "    lr=learning_rate,\n",
    "    momentum=momentum,\n",
    "    weight_decay=0.0001,\n",
    "    nesterov=True,\n",
    ")"
   ]
  },
  {
   "cell_type": "code",
   "execution_count": 22,
   "id": "7954c9bf",
   "metadata": {
    "tags": []
   },
   "outputs": [
    {
     "data": {
      "application/vnd.jupyter.widget-view+json": {
       "model_id": "5a59da97a1214c84ba203e3f03bc84ba",
       "version_major": 2,
       "version_minor": 0
      },
      "text/plain": [
       "Training the network:   0%|          | 0/60 [00:00<?, ?it/s]"
      ]
     },
     "metadata": {},
     "output_type": "display_data"
    },
    {
     "data": {
      "application/vnd.jupyter.widget-view+json": {
       "model_id": "57280c67cc83420d97701ebd639b3586",
       "version_major": 2,
       "version_minor": 0
      },
      "text/plain": [
       "  0%|          | 0/23 [00:00<?, ? batch/s]"
      ]
     },
     "metadata": {},
     "output_type": "display_data"
    },
    {
     "name": "stdout",
     "output_type": "stream",
     "text": [
      "Train-Loss: 0.43. Train-Acc: 0.02\n",
      "Val-Loss:   0.34. Val-Acc:   0.05\n"
     ]
    },
    {
     "data": {
      "application/vnd.jupyter.widget-view+json": {
       "model_id": "2be8217d99744be7a4baea884c66e6a3",
       "version_major": 2,
       "version_minor": 0
      },
      "text/plain": [
       "  0%|          | 0/23 [00:00<?, ? batch/s]"
      ]
     },
     "metadata": {},
     "output_type": "display_data"
    },
    {
     "name": "stdout",
     "output_type": "stream",
     "text": [
      "Train-Loss: 0.29. Train-Acc: 0.07\n",
      "Val-Loss:   0.28. Val-Acc:   0.14\n"
     ]
    },
    {
     "data": {
      "application/vnd.jupyter.widget-view+json": {
       "model_id": "47219808aac142e99a2f0314a7b45e65",
       "version_major": 2,
       "version_minor": 0
      },
      "text/plain": [
       "  0%|          | 0/23 [00:00<?, ? batch/s]"
      ]
     },
     "metadata": {},
     "output_type": "display_data"
    },
    {
     "name": "stdout",
     "output_type": "stream",
     "text": [
      "Train-Loss: 0.24. Train-Acc: 0.18\n",
      "Val-Loss:   0.24. Val-Acc:   0.21\n"
     ]
    },
    {
     "data": {
      "application/vnd.jupyter.widget-view+json": {
       "model_id": "24859eb9484f4376b031a189e5d65076",
       "version_major": 2,
       "version_minor": 0
      },
      "text/plain": [
       "  0%|          | 0/23 [00:00<?, ? batch/s]"
      ]
     },
     "metadata": {},
     "output_type": "display_data"
    },
    {
     "name": "stdout",
     "output_type": "stream",
     "text": [
      "Train-Loss: 0.20. Train-Acc: 0.24\n",
      "Val-Loss:   0.21. Val-Acc:   0.27\n"
     ]
    },
    {
     "data": {
      "application/vnd.jupyter.widget-view+json": {
       "model_id": "2a5f374d76854398bb44277cfa897d41",
       "version_major": 2,
       "version_minor": 0
      },
      "text/plain": [
       "  0%|          | 0/23 [00:00<?, ? batch/s]"
      ]
     },
     "metadata": {},
     "output_type": "display_data"
    },
    {
     "name": "stdout",
     "output_type": "stream",
     "text": [
      "Train-Loss: 0.18. Train-Acc: 0.31\n",
      "Val-Loss:   0.20. Val-Acc:   0.29\n"
     ]
    },
    {
     "data": {
      "application/vnd.jupyter.widget-view+json": {
       "model_id": "12c3c648f5d4417ab5eeced0e7aa9fc3",
       "version_major": 2,
       "version_minor": 0
      },
      "text/plain": [
       "  0%|          | 0/23 [00:00<?, ? batch/s]"
      ]
     },
     "metadata": {},
     "output_type": "display_data"
    },
    {
     "name": "stdout",
     "output_type": "stream",
     "text": [
      "Train-Loss: 0.17. Train-Acc: 0.35\n",
      "Val-Loss:   0.19. Val-Acc:   0.32\n"
     ]
    },
    {
     "data": {
      "application/vnd.jupyter.widget-view+json": {
       "model_id": "db62c54251e24ba2a916ce7967c04066",
       "version_major": 2,
       "version_minor": 0
      },
      "text/plain": [
       "  0%|          | 0/23 [00:00<?, ? batch/s]"
      ]
     },
     "metadata": {},
     "output_type": "display_data"
    },
    {
     "name": "stdout",
     "output_type": "stream",
     "text": [
      "Train-Loss: 0.15. Train-Acc: 0.38\n",
      "Val-Loss:   0.18. Val-Acc:   0.34\n"
     ]
    },
    {
     "data": {
      "application/vnd.jupyter.widget-view+json": {
       "model_id": "fea0e55d647a478586cadcab03462d1a",
       "version_major": 2,
       "version_minor": 0
      },
      "text/plain": [
       "  0%|          | 0/23 [00:00<?, ? batch/s]"
      ]
     },
     "metadata": {},
     "output_type": "display_data"
    },
    {
     "name": "stdout",
     "output_type": "stream",
     "text": [
      "Train-Loss: 0.14. Train-Acc: 0.40\n",
      "Val-Loss:   0.17. Val-Acc:   0.36\n"
     ]
    },
    {
     "data": {
      "application/vnd.jupyter.widget-view+json": {
       "model_id": "7877d1d6c28d4f028d8f16192c62070d",
       "version_major": 2,
       "version_minor": 0
      },
      "text/plain": [
       "  0%|          | 0/23 [00:00<?, ? batch/s]"
      ]
     },
     "metadata": {},
     "output_type": "display_data"
    },
    {
     "name": "stdout",
     "output_type": "stream",
     "text": [
      "Train-Loss: 0.13. Train-Acc: 0.43\n",
      "Val-Loss:   0.17. Val-Acc:   0.38\n"
     ]
    },
    {
     "data": {
      "application/vnd.jupyter.widget-view+json": {
       "model_id": "94e5442c1b0442109f783af1913efeaf",
       "version_major": 2,
       "version_minor": 0
      },
      "text/plain": [
       "  0%|          | 0/23 [00:00<?, ? batch/s]"
      ]
     },
     "metadata": {},
     "output_type": "display_data"
    },
    {
     "name": "stdout",
     "output_type": "stream",
     "text": [
      "Train-Loss: 0.13. Train-Acc: 0.46\n",
      "Val-Loss:   0.16. Val-Acc:   0.38\n"
     ]
    },
    {
     "data": {
      "application/vnd.jupyter.widget-view+json": {
       "model_id": "a82f8ec296374d5a85409a75712c3ec5",
       "version_major": 2,
       "version_minor": 0
      },
      "text/plain": [
       "  0%|          | 0/23 [00:00<?, ? batch/s]"
      ]
     },
     "metadata": {},
     "output_type": "display_data"
    },
    {
     "name": "stdout",
     "output_type": "stream",
     "text": [
      "Train-Loss: 0.12. Train-Acc: 0.48\n",
      "Val-Loss:   0.16. Val-Acc:   0.37\n"
     ]
    },
    {
     "data": {
      "application/vnd.jupyter.widget-view+json": {
       "model_id": "0aab8e42e918421c9b914a45309d6567",
       "version_major": 2,
       "version_minor": 0
      },
      "text/plain": [
       "  0%|          | 0/23 [00:00<?, ? batch/s]"
      ]
     },
     "metadata": {},
     "output_type": "display_data"
    },
    {
     "name": "stdout",
     "output_type": "stream",
     "text": [
      "Train-Loss: 0.11. Train-Acc: 0.49\n",
      "Val-Loss:   0.16. Val-Acc:   0.39\n"
     ]
    },
    {
     "data": {
      "application/vnd.jupyter.widget-view+json": {
       "model_id": "2be61c9b06d44701a124f1f84fa20b8e",
       "version_major": 2,
       "version_minor": 0
      },
      "text/plain": [
       "  0%|          | 0/23 [00:00<?, ? batch/s]"
      ]
     },
     "metadata": {},
     "output_type": "display_data"
    },
    {
     "name": "stdout",
     "output_type": "stream",
     "text": [
      "Train-Loss: 0.11. Train-Acc: 0.50\n",
      "Val-Loss:   0.15. Val-Acc:   0.40\n"
     ]
    },
    {
     "data": {
      "application/vnd.jupyter.widget-view+json": {
       "model_id": "7ecf74c2f4794a2bb5a49a9d09ccd6ba",
       "version_major": 2,
       "version_minor": 0
      },
      "text/plain": [
       "  0%|          | 0/23 [00:00<?, ? batch/s]"
      ]
     },
     "metadata": {},
     "output_type": "display_data"
    },
    {
     "name": "stdout",
     "output_type": "stream",
     "text": [
      "Train-Loss: 0.10. Train-Acc: 0.52\n",
      "Val-Loss:   0.15. Val-Acc:   0.43\n"
     ]
    },
    {
     "data": {
      "application/vnd.jupyter.widget-view+json": {
       "model_id": "e508a1752b954e15a2796ae93c43b7ed",
       "version_major": 2,
       "version_minor": 0
      },
      "text/plain": [
       "  0%|          | 0/23 [00:00<?, ? batch/s]"
      ]
     },
     "metadata": {},
     "output_type": "display_data"
    },
    {
     "name": "stdout",
     "output_type": "stream",
     "text": [
      "Train-Loss: 0.10. Train-Acc: 0.56\n",
      "Val-Loss:   0.15. Val-Acc:   0.43\n"
     ]
    },
    {
     "data": {
      "application/vnd.jupyter.widget-view+json": {
       "model_id": "0843de90e38b4ae5adaf33b7b648e30c",
       "version_major": 2,
       "version_minor": 0
      },
      "text/plain": [
       "  0%|          | 0/23 [00:00<?, ? batch/s]"
      ]
     },
     "metadata": {},
     "output_type": "display_data"
    },
    {
     "name": "stdout",
     "output_type": "stream",
     "text": [
      "Train-Loss: 0.09. Train-Acc: 0.56\n",
      "Val-Loss:   0.15. Val-Acc:   0.42\n"
     ]
    },
    {
     "data": {
      "application/vnd.jupyter.widget-view+json": {
       "model_id": "798289aff6b94f288ee1813f06e1123e",
       "version_major": 2,
       "version_minor": 0
      },
      "text/plain": [
       "  0%|          | 0/23 [00:00<?, ? batch/s]"
      ]
     },
     "metadata": {},
     "output_type": "display_data"
    },
    {
     "name": "stdout",
     "output_type": "stream",
     "text": [
      "Train-Loss: 0.09. Train-Acc: 0.58\n",
      "Val-Loss:   0.15. Val-Acc:   0.41\n"
     ]
    },
    {
     "data": {
      "application/vnd.jupyter.widget-view+json": {
       "model_id": "b3c269a5d4b54bca9742cab33b9b088e",
       "version_major": 2,
       "version_minor": 0
      },
      "text/plain": [
       "  0%|          | 0/23 [00:00<?, ? batch/s]"
      ]
     },
     "metadata": {},
     "output_type": "display_data"
    },
    {
     "name": "stdout",
     "output_type": "stream",
     "text": [
      "Train-Loss: 0.09. Train-Acc: 0.59\n",
      "Val-Loss:   0.15. Val-Acc:   0.41\n"
     ]
    },
    {
     "data": {
      "application/vnd.jupyter.widget-view+json": {
       "model_id": "f0c9b6dfed7d4185bd3ea455a0dca0ec",
       "version_major": 2,
       "version_minor": 0
      },
      "text/plain": [
       "  0%|          | 0/23 [00:00<?, ? batch/s]"
      ]
     },
     "metadata": {},
     "output_type": "display_data"
    },
    {
     "name": "stdout",
     "output_type": "stream",
     "text": [
      "Train-Loss: 0.08. Train-Acc: 0.59\n",
      "Val-Loss:   0.15. Val-Acc:   0.43\n"
     ]
    },
    {
     "data": {
      "application/vnd.jupyter.widget-view+json": {
       "model_id": "b5f030c4c5a1480b82d40bd8947a75e7",
       "version_major": 2,
       "version_minor": 0
      },
      "text/plain": [
       "  0%|          | 0/23 [00:00<?, ? batch/s]"
      ]
     },
     "metadata": {},
     "output_type": "display_data"
    },
    {
     "name": "stdout",
     "output_type": "stream",
     "text": [
      "Train-Loss: 0.08. Train-Acc: 0.61\n",
      "Val-Loss:   0.15. Val-Acc:   0.41\n"
     ]
    },
    {
     "data": {
      "application/vnd.jupyter.widget-view+json": {
       "model_id": "a439b27bb94e4a52aef910431e332920",
       "version_major": 2,
       "version_minor": 0
      },
      "text/plain": [
       "  0%|          | 0/23 [00:00<?, ? batch/s]"
      ]
     },
     "metadata": {},
     "output_type": "display_data"
    },
    {
     "name": "stdout",
     "output_type": "stream",
     "text": [
      "Train-Loss: 0.08. Train-Acc: 0.61\n",
      "Val-Loss:   0.15. Val-Acc:   0.42\n"
     ]
    },
    {
     "data": {
      "application/vnd.jupyter.widget-view+json": {
       "model_id": "391e7d6dab5b4d8fa0cc4194a93777c2",
       "version_major": 2,
       "version_minor": 0
      },
      "text/plain": [
       "  0%|          | 0/23 [00:00<?, ? batch/s]"
      ]
     },
     "metadata": {},
     "output_type": "display_data"
    },
    {
     "name": "stdout",
     "output_type": "stream",
     "text": [
      "Train-Loss: 0.07. Train-Acc: 0.64\n",
      "Val-Loss:   0.15. Val-Acc:   0.43\n"
     ]
    },
    {
     "data": {
      "application/vnd.jupyter.widget-view+json": {
       "model_id": "5f1b8079774743b1a4e68c54623adff6",
       "version_major": 2,
       "version_minor": 0
      },
      "text/plain": [
       "  0%|          | 0/23 [00:00<?, ? batch/s]"
      ]
     },
     "metadata": {},
     "output_type": "display_data"
    },
    {
     "name": "stdout",
     "output_type": "stream",
     "text": [
      "Train-Loss: 0.07. Train-Acc: 0.67\n",
      "Val-Loss:   0.15. Val-Acc:   0.42\n"
     ]
    },
    {
     "data": {
      "application/vnd.jupyter.widget-view+json": {
       "model_id": "6d8ad510693d4b0a9df94d5c5992f355",
       "version_major": 2,
       "version_minor": 0
      },
      "text/plain": [
       "  0%|          | 0/23 [00:00<?, ? batch/s]"
      ]
     },
     "metadata": {},
     "output_type": "display_data"
    },
    {
     "name": "stdout",
     "output_type": "stream",
     "text": [
      "Train-Loss: 0.06. Train-Acc: 0.66\n",
      "Val-Loss:   0.15. Val-Acc:   0.44\n"
     ]
    },
    {
     "data": {
      "application/vnd.jupyter.widget-view+json": {
       "model_id": "67e8119dbcec4be081cda24124b7e2ad",
       "version_major": 2,
       "version_minor": 0
      },
      "text/plain": [
       "  0%|          | 0/23 [00:00<?, ? batch/s]"
      ]
     },
     "metadata": {},
     "output_type": "display_data"
    },
    {
     "name": "stdout",
     "output_type": "stream",
     "text": [
      "Train-Loss: 0.06. Train-Acc: 0.68\n",
      "Val-Loss:   0.16. Val-Acc:   0.42\n"
     ]
    },
    {
     "data": {
      "application/vnd.jupyter.widget-view+json": {
       "model_id": "11bb0ad94277487e9ba035fad701beba",
       "version_major": 2,
       "version_minor": 0
      },
      "text/plain": [
       "  0%|          | 0/23 [00:00<?, ? batch/s]"
      ]
     },
     "metadata": {},
     "output_type": "display_data"
    },
    {
     "name": "stdout",
     "output_type": "stream",
     "text": [
      "Train-Loss: 0.06. Train-Acc: 0.69\n",
      "Val-Loss:   0.16. Val-Acc:   0.43\n"
     ]
    },
    {
     "data": {
      "application/vnd.jupyter.widget-view+json": {
       "model_id": "be59bd3f60aa48b5b6aef1fac04b37ad",
       "version_major": 2,
       "version_minor": 0
      },
      "text/plain": [
       "  0%|          | 0/23 [00:00<?, ? batch/s]"
      ]
     },
     "metadata": {},
     "output_type": "display_data"
    },
    {
     "name": "stdout",
     "output_type": "stream",
     "text": [
      "Train-Loss: 0.06. Train-Acc: 0.72\n",
      "Val-Loss:   0.16. Val-Acc:   0.42\n"
     ]
    },
    {
     "data": {
      "application/vnd.jupyter.widget-view+json": {
       "model_id": "e17aa584ec9640b79ab85deb82b1cd05",
       "version_major": 2,
       "version_minor": 0
      },
      "text/plain": [
       "  0%|          | 0/23 [00:00<?, ? batch/s]"
      ]
     },
     "metadata": {},
     "output_type": "display_data"
    },
    {
     "name": "stdout",
     "output_type": "stream",
     "text": [
      "Train-Loss: 0.06. Train-Acc: 0.72\n",
      "Val-Loss:   0.16. Val-Acc:   0.42\n"
     ]
    },
    {
     "data": {
      "application/vnd.jupyter.widget-view+json": {
       "model_id": "7cfd947cd3964c689a506488bd8c26bd",
       "version_major": 2,
       "version_minor": 0
      },
      "text/plain": [
       "  0%|          | 0/23 [00:00<?, ? batch/s]"
      ]
     },
     "metadata": {},
     "output_type": "display_data"
    },
    {
     "name": "stdout",
     "output_type": "stream",
     "text": [
      "Train-Loss: 0.05. Train-Acc: 0.73\n",
      "Val-Loss:   0.16. Val-Acc:   0.42\n"
     ]
    },
    {
     "data": {
      "application/vnd.jupyter.widget-view+json": {
       "model_id": "2be4cb540cb74355ac23dd42b2527a51",
       "version_major": 2,
       "version_minor": 0
      },
      "text/plain": [
       "  0%|          | 0/23 [00:00<?, ? batch/s]"
      ]
     },
     "metadata": {},
     "output_type": "display_data"
    },
    {
     "name": "stdout",
     "output_type": "stream",
     "text": [
      "Train-Loss: 0.05. Train-Acc: 0.72\n",
      "Val-Loss:   0.16. Val-Acc:   0.44\n"
     ]
    },
    {
     "data": {
      "application/vnd.jupyter.widget-view+json": {
       "model_id": "ad02ef1f32a74c599c705e4bfe3b6c5a",
       "version_major": 2,
       "version_minor": 0
      },
      "text/plain": [
       "  0%|          | 0/23 [00:00<?, ? batch/s]"
      ]
     },
     "metadata": {},
     "output_type": "display_data"
    },
    {
     "name": "stdout",
     "output_type": "stream",
     "text": [
      "Train-Loss: 0.05. Train-Acc: 0.76\n",
      "Val-Loss:   0.16. Val-Acc:   0.43\n"
     ]
    },
    {
     "data": {
      "application/vnd.jupyter.widget-view+json": {
       "model_id": "096e36687f724462bf4bff6190c4e40c",
       "version_major": 2,
       "version_minor": 0
      },
      "text/plain": [
       "  0%|          | 0/23 [00:00<?, ? batch/s]"
      ]
     },
     "metadata": {},
     "output_type": "display_data"
    },
    {
     "name": "stdout",
     "output_type": "stream",
     "text": [
      "Train-Loss: 0.05. Train-Acc: 0.75\n",
      "Val-Loss:   0.16. Val-Acc:   0.44\n"
     ]
    },
    {
     "data": {
      "application/vnd.jupyter.widget-view+json": {
       "model_id": "f1385bfc1035425c930bbc26192fff65",
       "version_major": 2,
       "version_minor": 0
      },
      "text/plain": [
       "  0%|          | 0/23 [00:00<?, ? batch/s]"
      ]
     },
     "metadata": {},
     "output_type": "display_data"
    },
    {
     "name": "stdout",
     "output_type": "stream",
     "text": [
      "Train-Loss: 0.04. Train-Acc: 0.79\n",
      "Val-Loss:   0.16. Val-Acc:   0.43\n"
     ]
    },
    {
     "data": {
      "application/vnd.jupyter.widget-view+json": {
       "model_id": "382b27e67f98432bb429f834afa4826e",
       "version_major": 2,
       "version_minor": 0
      },
      "text/plain": [
       "  0%|          | 0/23 [00:00<?, ? batch/s]"
      ]
     },
     "metadata": {},
     "output_type": "display_data"
    },
    {
     "name": "stdout",
     "output_type": "stream",
     "text": [
      "Train-Loss: 0.04. Train-Acc: 0.77\n",
      "Val-Loss:   0.16. Val-Acc:   0.44\n"
     ]
    },
    {
     "data": {
      "application/vnd.jupyter.widget-view+json": {
       "model_id": "82199d7f8a1d4290a52836d2d52fc922",
       "version_major": 2,
       "version_minor": 0
      },
      "text/plain": [
       "  0%|          | 0/23 [00:00<?, ? batch/s]"
      ]
     },
     "metadata": {},
     "output_type": "display_data"
    },
    {
     "name": "stdout",
     "output_type": "stream",
     "text": [
      "Train-Loss: 0.04. Train-Acc: 0.79\n",
      "Early stopping after 35 epochs with best epoch in 24\n"
     ]
    }
   ],
   "source": [
    "best_model3, train_losses3, val_losses3, train_accuracies3, val_accuracies3 = train(\n",
    "    model=resnet_pretrained3,\n",
    "    optimizer=optimizer,\n",
    "    criterion=criterion,\n",
    "    train_loader=train_loader_c,\n",
    "    epochs=epochs,\n",
    "    device=device,\n",
    "    val_loader=val_loader,\n",
    ")"
   ]
  },
  {
   "cell_type": "code",
   "execution_count": 23,
   "id": "7d7550a7-dc59-4f4d-9766-761ce74e91a0",
   "metadata": {
    "tags": []
   },
   "outputs": [
    {
     "data": {
      "application/vnd.jupyter.widget-view+json": {
       "model_id": "039beadb77964c5986bc7870a948f9e8",
       "version_major": 2,
       "version_minor": 0
      },
      "text/plain": [
       "Test:   0%|          | 0/7 [00:00<?, ?it/s]"
      ]
     },
     "metadata": {},
     "output_type": "display_data"
    }
   ],
   "source": [
    "results3 = test(best_model3, test_loader, full_dataset_te.class_names, device)"
   ]
  },
  {
   "cell_type": "code",
   "execution_count": 24,
   "id": "c77bf1c0-6693-4d2b-8d05-1bcd0aa0076e",
   "metadata": {
    "tags": []
   },
   "outputs": [
    {
     "name": "stdout",
     "output_type": "stream",
     "text": [
      "overall_acc\t 0.44285714285714284\n",
      "f1_micro\t 0.8500563697857948\n",
      "f1_macro\t 0.8705836526758488\n",
      "mAP_micro\t 0.7618554189742935\n",
      "mAP_macro\t 0.8129598403408764\n",
      "              precision    recall  f1-score   support\n",
      "\n",
      "    airplane       0.94      0.88      0.91        17\n",
      "   bare-soil       0.81      0.66      0.73       140\n",
      "   buildings       0.93      0.83      0.88       127\n",
      "        cars       0.86      0.77      0.81       181\n",
      "   chaparral       1.00      0.96      0.98        27\n",
      "       court       1.00      0.48      0.65        23\n",
      "        dock       1.00      1.00      1.00        20\n",
      "       field       1.00      0.90      0.95        21\n",
      "       grass       0.86      0.75      0.80       202\n",
      " mobile-home       1.00      0.81      0.90        27\n",
      "    pavement       0.92      0.90      0.91       258\n",
      "        sand       0.91      0.69      0.78        58\n",
      "         sea       1.00      0.95      0.97        20\n",
      "        ship       1.00      1.00      1.00        20\n",
      "       tanks       1.00      0.61      0.76        18\n",
      "       trees       0.86      0.86      0.86       200\n",
      "       water       0.94      0.87      0.91        39\n",
      "\n",
      "   micro avg       0.90      0.81      0.85      1398\n",
      "   macro avg       0.94      0.82      0.87      1398\n",
      "weighted avg       0.90      0.81      0.85      1398\n",
      " samples avg       0.91      0.84      0.86      1398\n",
      "\n"
     ]
    }
   ],
   "source": [
    "show_results(results3)"
   ]
  },
  {
   "cell_type": "code",
   "execution_count": 26,
   "id": "4466ebd6-7698-42a4-98b5-3c08ad234f3f",
   "metadata": {
    "tags": []
   },
   "outputs": [],
   "source": [
    "file_name = results_path / f\"val_accuracies3.json\"\n",
    "save_results_to_json(val_accuracies3, file_name)"
   ]
  },
  {
   "cell_type": "markdown",
   "id": "e7bd7600",
   "metadata": {},
   "source": [
    "#### 4.4 A method that includes the composed data augmentation technique RandAugment "
   ]
  },
  {
   "cell_type": "code",
   "execution_count": 19,
   "id": "8e11cb47",
   "metadata": {
    "tags": []
   },
   "outputs": [],
   "source": [
    "from torchvision.transforms import RandAugment\n",
    "\n",
    "tr_transform_randaugment = transforms.Compose(\n",
    "    [\n",
    "        transforms.Resize((64, 64)),\n",
    "        RandAugment(),\n",
    "        transforms.ToTensor(),\n",
    "        transforms.Normalize(mean=ucm_mean, std=ucm_std),\n",
    "    ]\n",
    ")\n",
    "\n",
    "train_dataset_r, train_loader_r = get_split_transform_train_data(tr_transform_randaugment)"
   ]
  },
  {
   "cell_type": "code",
   "execution_count": 20,
   "id": "0bc458b2",
   "metadata": {
    "tags": []
   },
   "outputs": [
    {
     "data": {
      "application/vnd.jupyter.widget-view+json": {
       "model_id": "068514048ffa49c29f28e57fa86dfe62",
       "version_major": 2,
       "version_minor": 0
      },
      "text/plain": [
       "Training the network:   0%|          | 0/60 [00:00<?, ?it/s]"
      ]
     },
     "metadata": {},
     "output_type": "display_data"
    },
    {
     "data": {
      "application/vnd.jupyter.widget-view+json": {
       "model_id": "7ce8677e0d0b41eaa937c4cc0ba41520",
       "version_major": 2,
       "version_minor": 0
      },
      "text/plain": [
       "  0%|          | 0/23 [00:00<?, ? batch/s]"
      ]
     },
     "metadata": {},
     "output_type": "display_data"
    },
    {
     "name": "stdout",
     "output_type": "stream",
     "text": [
      "Train-Loss: 0.43. Train-Acc: 0.02\n",
      "Val-Loss:   0.34. Val-Acc:   0.08\n"
     ]
    },
    {
     "data": {
      "application/vnd.jupyter.widget-view+json": {
       "model_id": "2becbc5f4e78452eb0be80385d26040b",
       "version_major": 2,
       "version_minor": 0
      },
      "text/plain": [
       "  0%|          | 0/23 [00:00<?, ? batch/s]"
      ]
     },
     "metadata": {},
     "output_type": "display_data"
    },
    {
     "name": "stdout",
     "output_type": "stream",
     "text": [
      "Train-Loss: 0.31. Train-Acc: 0.07\n",
      "Val-Loss:   0.27. Val-Acc:   0.15\n"
     ]
    },
    {
     "data": {
      "application/vnd.jupyter.widget-view+json": {
       "model_id": "ade0c26a4b254b14b02a0884abff3e21",
       "version_major": 2,
       "version_minor": 0
      },
      "text/plain": [
       "  0%|          | 0/23 [00:00<?, ? batch/s]"
      ]
     },
     "metadata": {},
     "output_type": "display_data"
    },
    {
     "name": "stdout",
     "output_type": "stream",
     "text": [
      "Train-Loss: 0.25. Train-Acc: 0.14\n",
      "Val-Loss:   0.23. Val-Acc:   0.26\n"
     ]
    },
    {
     "data": {
      "application/vnd.jupyter.widget-view+json": {
       "model_id": "ca91022f61ee46dbab80c59505744d4d",
       "version_major": 2,
       "version_minor": 0
      },
      "text/plain": [
       "  0%|          | 0/23 [00:00<?, ? batch/s]"
      ]
     },
     "metadata": {},
     "output_type": "display_data"
    },
    {
     "name": "stdout",
     "output_type": "stream",
     "text": [
      "Train-Loss: 0.22. Train-Acc: 0.20\n",
      "Val-Loss:   0.20. Val-Acc:   0.30\n"
     ]
    },
    {
     "data": {
      "application/vnd.jupyter.widget-view+json": {
       "model_id": "be96799db095436fade2e106477aca1f",
       "version_major": 2,
       "version_minor": 0
      },
      "text/plain": [
       "  0%|          | 0/23 [00:00<?, ? batch/s]"
      ]
     },
     "metadata": {},
     "output_type": "display_data"
    },
    {
     "name": "stdout",
     "output_type": "stream",
     "text": [
      "Train-Loss: 0.19. Train-Acc: 0.27\n",
      "Val-Loss:   0.19. Val-Acc:   0.34\n"
     ]
    },
    {
     "data": {
      "application/vnd.jupyter.widget-view+json": {
       "model_id": "10843a74f5ce4d9fbb95f165307619b9",
       "version_major": 2,
       "version_minor": 0
      },
      "text/plain": [
       "  0%|          | 0/23 [00:00<?, ? batch/s]"
      ]
     },
     "metadata": {},
     "output_type": "display_data"
    },
    {
     "name": "stdout",
     "output_type": "stream",
     "text": [
      "Train-Loss: 0.17. Train-Acc: 0.31\n",
      "Val-Loss:   0.18. Val-Acc:   0.32\n"
     ]
    },
    {
     "data": {
      "application/vnd.jupyter.widget-view+json": {
       "model_id": "78db5d5083734b148f1cdd6cf931e5bd",
       "version_major": 2,
       "version_minor": 0
      },
      "text/plain": [
       "  0%|          | 0/23 [00:00<?, ? batch/s]"
      ]
     },
     "metadata": {},
     "output_type": "display_data"
    },
    {
     "name": "stdout",
     "output_type": "stream",
     "text": [
      "Train-Loss: 0.16. Train-Acc: 0.35\n",
      "Val-Loss:   0.18. Val-Acc:   0.35\n"
     ]
    },
    {
     "data": {
      "application/vnd.jupyter.widget-view+json": {
       "model_id": "7371a98f911245eab42afdf072a5ccfb",
       "version_major": 2,
       "version_minor": 0
      },
      "text/plain": [
       "  0%|          | 0/23 [00:00<?, ? batch/s]"
      ]
     },
     "metadata": {},
     "output_type": "display_data"
    },
    {
     "name": "stdout",
     "output_type": "stream",
     "text": [
      "Train-Loss: 0.15. Train-Acc: 0.37\n",
      "Val-Loss:   0.17. Val-Acc:   0.36\n"
     ]
    },
    {
     "data": {
      "application/vnd.jupyter.widget-view+json": {
       "model_id": "eb934fd377d648329b0bc918fc61a0a5",
       "version_major": 2,
       "version_minor": 0
      },
      "text/plain": [
       "  0%|          | 0/23 [00:00<?, ? batch/s]"
      ]
     },
     "metadata": {},
     "output_type": "display_data"
    },
    {
     "name": "stdout",
     "output_type": "stream",
     "text": [
      "Train-Loss: 0.14. Train-Acc: 0.41\n",
      "Val-Loss:   0.17. Val-Acc:   0.36\n"
     ]
    },
    {
     "data": {
      "application/vnd.jupyter.widget-view+json": {
       "model_id": "5ebad7a591d741b6b1ff12c943916650",
       "version_major": 2,
       "version_minor": 0
      },
      "text/plain": [
       "  0%|          | 0/23 [00:00<?, ? batch/s]"
      ]
     },
     "metadata": {},
     "output_type": "display_data"
    },
    {
     "name": "stdout",
     "output_type": "stream",
     "text": [
      "Train-Loss: 0.13. Train-Acc: 0.42\n",
      "Val-Loss:   0.16. Val-Acc:   0.36\n"
     ]
    },
    {
     "data": {
      "application/vnd.jupyter.widget-view+json": {
       "model_id": "fdd85920eb32422ebb1dd288b6e6b668",
       "version_major": 2,
       "version_minor": 0
      },
      "text/plain": [
       "  0%|          | 0/23 [00:00<?, ? batch/s]"
      ]
     },
     "metadata": {},
     "output_type": "display_data"
    },
    {
     "name": "stdout",
     "output_type": "stream",
     "text": [
      "Train-Loss: 0.13. Train-Acc: 0.44\n",
      "Val-Loss:   0.16. Val-Acc:   0.35\n"
     ]
    },
    {
     "data": {
      "application/vnd.jupyter.widget-view+json": {
       "model_id": "836f078ad1c74095bbe5a647318379c5",
       "version_major": 2,
       "version_minor": 0
      },
      "text/plain": [
       "  0%|          | 0/23 [00:00<?, ? batch/s]"
      ]
     },
     "metadata": {},
     "output_type": "display_data"
    },
    {
     "name": "stdout",
     "output_type": "stream",
     "text": [
      "Train-Loss: 0.12. Train-Acc: 0.46\n",
      "Val-Loss:   0.16. Val-Acc:   0.36\n"
     ]
    },
    {
     "data": {
      "application/vnd.jupyter.widget-view+json": {
       "model_id": "bd0a4961977c4720b8bb98310150a68c",
       "version_major": 2,
       "version_minor": 0
      },
      "text/plain": [
       "  0%|          | 0/23 [00:00<?, ? batch/s]"
      ]
     },
     "metadata": {},
     "output_type": "display_data"
    },
    {
     "name": "stdout",
     "output_type": "stream",
     "text": [
      "Train-Loss: 0.12. Train-Acc: 0.49\n",
      "Val-Loss:   0.16. Val-Acc:   0.40\n"
     ]
    },
    {
     "data": {
      "application/vnd.jupyter.widget-view+json": {
       "model_id": "ae7c3d7b20bf4623ba4d715427f8823f",
       "version_major": 2,
       "version_minor": 0
      },
      "text/plain": [
       "  0%|          | 0/23 [00:00<?, ? batch/s]"
      ]
     },
     "metadata": {},
     "output_type": "display_data"
    },
    {
     "name": "stdout",
     "output_type": "stream",
     "text": [
      "Train-Loss: 0.11. Train-Acc: 0.51\n",
      "Val-Loss:   0.16. Val-Acc:   0.38\n"
     ]
    },
    {
     "data": {
      "application/vnd.jupyter.widget-view+json": {
       "model_id": "5092adbc048a42e4a83d4321bedc7e20",
       "version_major": 2,
       "version_minor": 0
      },
      "text/plain": [
       "  0%|          | 0/23 [00:00<?, ? batch/s]"
      ]
     },
     "metadata": {},
     "output_type": "display_data"
    },
    {
     "name": "stdout",
     "output_type": "stream",
     "text": [
      "Train-Loss: 0.11. Train-Acc: 0.52\n",
      "Val-Loss:   0.16. Val-Acc:   0.39\n"
     ]
    },
    {
     "data": {
      "application/vnd.jupyter.widget-view+json": {
       "model_id": "b23fd99b46374df6a10028f6ba5b5796",
       "version_major": 2,
       "version_minor": 0
      },
      "text/plain": [
       "  0%|          | 0/23 [00:00<?, ? batch/s]"
      ]
     },
     "metadata": {},
     "output_type": "display_data"
    },
    {
     "name": "stdout",
     "output_type": "stream",
     "text": [
      "Train-Loss: 0.11. Train-Acc: 0.53\n",
      "Val-Loss:   0.16. Val-Acc:   0.39\n"
     ]
    },
    {
     "data": {
      "application/vnd.jupyter.widget-view+json": {
       "model_id": "f45bc288a990488ea54f283edb4ed65a",
       "version_major": 2,
       "version_minor": 0
      },
      "text/plain": [
       "  0%|          | 0/23 [00:00<?, ? batch/s]"
      ]
     },
     "metadata": {},
     "output_type": "display_data"
    },
    {
     "name": "stdout",
     "output_type": "stream",
     "text": [
      "Train-Loss: 0.10. Train-Acc: 0.54\n",
      "Val-Loss:   0.16. Val-Acc:   0.38\n"
     ]
    },
    {
     "data": {
      "application/vnd.jupyter.widget-view+json": {
       "model_id": "dc7784ee378040d5a4290a856cb1cafd",
       "version_major": 2,
       "version_minor": 0
      },
      "text/plain": [
       "  0%|          | 0/23 [00:00<?, ? batch/s]"
      ]
     },
     "metadata": {},
     "output_type": "display_data"
    },
    {
     "name": "stdout",
     "output_type": "stream",
     "text": [
      "Train-Loss: 0.10. Train-Acc: 0.55\n",
      "Val-Loss:   0.16. Val-Acc:   0.38\n"
     ]
    },
    {
     "data": {
      "application/vnd.jupyter.widget-view+json": {
       "model_id": "f20602d6601a4401884155b51799613b",
       "version_major": 2,
       "version_minor": 0
      },
      "text/plain": [
       "  0%|          | 0/23 [00:00<?, ? batch/s]"
      ]
     },
     "metadata": {},
     "output_type": "display_data"
    },
    {
     "name": "stdout",
     "output_type": "stream",
     "text": [
      "Train-Loss: 0.09. Train-Acc: 0.59\n",
      "Val-Loss:   0.16. Val-Acc:   0.40\n"
     ]
    },
    {
     "data": {
      "application/vnd.jupyter.widget-view+json": {
       "model_id": "d928b16f1ef44930bf4e79e54a6036db",
       "version_major": 2,
       "version_minor": 0
      },
      "text/plain": [
       "  0%|          | 0/23 [00:00<?, ? batch/s]"
      ]
     },
     "metadata": {},
     "output_type": "display_data"
    },
    {
     "name": "stdout",
     "output_type": "stream",
     "text": [
      "Train-Loss: 0.09. Train-Acc: 0.59\n",
      "Val-Loss:   0.16. Val-Acc:   0.40\n"
     ]
    },
    {
     "data": {
      "application/vnd.jupyter.widget-view+json": {
       "model_id": "49ac515375ed4447b1e49c83fa97600c",
       "version_major": 2,
       "version_minor": 0
      },
      "text/plain": [
       "  0%|          | 0/23 [00:00<?, ? batch/s]"
      ]
     },
     "metadata": {},
     "output_type": "display_data"
    },
    {
     "name": "stdout",
     "output_type": "stream",
     "text": [
      "Train-Loss: 0.08. Train-Acc: 0.61\n",
      "Val-Loss:   0.16. Val-Acc:   0.40\n"
     ]
    },
    {
     "data": {
      "application/vnd.jupyter.widget-view+json": {
       "model_id": "18b44ba4b59343a1a12c1cfbf8d19a46",
       "version_major": 2,
       "version_minor": 0
      },
      "text/plain": [
       "  0%|          | 0/23 [00:00<?, ? batch/s]"
      ]
     },
     "metadata": {},
     "output_type": "display_data"
    },
    {
     "name": "stdout",
     "output_type": "stream",
     "text": [
      "Train-Loss: 0.08. Train-Acc: 0.61\n",
      "Val-Loss:   0.16. Val-Acc:   0.41\n"
     ]
    },
    {
     "data": {
      "application/vnd.jupyter.widget-view+json": {
       "model_id": "c13a2f80aff24a83a6891f028f2f53fc",
       "version_major": 2,
       "version_minor": 0
      },
      "text/plain": [
       "  0%|          | 0/23 [00:00<?, ? batch/s]"
      ]
     },
     "metadata": {},
     "output_type": "display_data"
    },
    {
     "name": "stdout",
     "output_type": "stream",
     "text": [
      "Train-Loss: 0.08. Train-Acc: 0.63\n",
      "Val-Loss:   0.16. Val-Acc:   0.42\n"
     ]
    },
    {
     "data": {
      "application/vnd.jupyter.widget-view+json": {
       "model_id": "9ac73b9a0ea74744be357ddaf77df9b2",
       "version_major": 2,
       "version_minor": 0
      },
      "text/plain": [
       "  0%|          | 0/23 [00:00<?, ? batch/s]"
      ]
     },
     "metadata": {},
     "output_type": "display_data"
    },
    {
     "name": "stdout",
     "output_type": "stream",
     "text": [
      "Train-Loss: 0.07. Train-Acc: 0.66\n",
      "Val-Loss:   0.16. Val-Acc:   0.41\n"
     ]
    },
    {
     "data": {
      "application/vnd.jupyter.widget-view+json": {
       "model_id": "d9c162e822324144b2feec01939999e9",
       "version_major": 2,
       "version_minor": 0
      },
      "text/plain": [
       "  0%|          | 0/23 [00:00<?, ? batch/s]"
      ]
     },
     "metadata": {},
     "output_type": "display_data"
    },
    {
     "name": "stdout",
     "output_type": "stream",
     "text": [
      "Train-Loss: 0.07. Train-Acc: 0.66\n",
      "Val-Loss:   0.16. Val-Acc:   0.41\n"
     ]
    },
    {
     "data": {
      "application/vnd.jupyter.widget-view+json": {
       "model_id": "fc9ff6ec56544db49c5fc7ead6aa388e",
       "version_major": 2,
       "version_minor": 0
      },
      "text/plain": [
       "  0%|          | 0/23 [00:00<?, ? batch/s]"
      ]
     },
     "metadata": {},
     "output_type": "display_data"
    },
    {
     "name": "stdout",
     "output_type": "stream",
     "text": [
      "Train-Loss: 0.07. Train-Acc: 0.69\n",
      "Val-Loss:   0.16. Val-Acc:   0.41\n"
     ]
    },
    {
     "data": {
      "application/vnd.jupyter.widget-view+json": {
       "model_id": "82c7570627fd4e26b7b336669687cab6",
       "version_major": 2,
       "version_minor": 0
      },
      "text/plain": [
       "  0%|          | 0/23 [00:00<?, ? batch/s]"
      ]
     },
     "metadata": {},
     "output_type": "display_data"
    },
    {
     "name": "stdout",
     "output_type": "stream",
     "text": [
      "Train-Loss: 0.07. Train-Acc: 0.67\n",
      "Val-Loss:   0.16. Val-Acc:   0.42\n"
     ]
    },
    {
     "data": {
      "application/vnd.jupyter.widget-view+json": {
       "model_id": "fff111ebb2974d10b8d7d93e4f6ae36f",
       "version_major": 2,
       "version_minor": 0
      },
      "text/plain": [
       "  0%|          | 0/23 [00:00<?, ? batch/s]"
      ]
     },
     "metadata": {},
     "output_type": "display_data"
    },
    {
     "name": "stdout",
     "output_type": "stream",
     "text": [
      "Train-Loss: 0.06. Train-Acc: 0.72\n",
      "Val-Loss:   0.16. Val-Acc:   0.42\n"
     ]
    },
    {
     "data": {
      "application/vnd.jupyter.widget-view+json": {
       "model_id": "9a4a4a4bdd444df5b9462f555324f7bd",
       "version_major": 2,
       "version_minor": 0
      },
      "text/plain": [
       "  0%|          | 0/23 [00:00<?, ? batch/s]"
      ]
     },
     "metadata": {},
     "output_type": "display_data"
    },
    {
     "name": "stdout",
     "output_type": "stream",
     "text": [
      "Train-Loss: 0.06. Train-Acc: 0.70\n",
      "Val-Loss:   0.16. Val-Acc:   0.43\n"
     ]
    },
    {
     "data": {
      "application/vnd.jupyter.widget-view+json": {
       "model_id": "5eb10476a20b40a9b375a6e5c46e48f2",
       "version_major": 2,
       "version_minor": 0
      },
      "text/plain": [
       "  0%|          | 0/23 [00:00<?, ? batch/s]"
      ]
     },
     "metadata": {},
     "output_type": "display_data"
    },
    {
     "name": "stdout",
     "output_type": "stream",
     "text": [
      "Train-Loss: 0.06. Train-Acc: 0.71\n",
      "Val-Loss:   0.17. Val-Acc:   0.41\n"
     ]
    },
    {
     "data": {
      "application/vnd.jupyter.widget-view+json": {
       "model_id": "ae300fd1c00445c5be38d09892cffc58",
       "version_major": 2,
       "version_minor": 0
      },
      "text/plain": [
       "  0%|          | 0/23 [00:00<?, ? batch/s]"
      ]
     },
     "metadata": {},
     "output_type": "display_data"
    },
    {
     "name": "stdout",
     "output_type": "stream",
     "text": [
      "Train-Loss: 0.06. Train-Acc: 0.73\n",
      "Val-Loss:   0.16. Val-Acc:   0.44\n"
     ]
    },
    {
     "data": {
      "application/vnd.jupyter.widget-view+json": {
       "model_id": "b401ab4ab42548e9a20c61572ab9bb39",
       "version_major": 2,
       "version_minor": 0
      },
      "text/plain": [
       "  0%|          | 0/23 [00:00<?, ? batch/s]"
      ]
     },
     "metadata": {},
     "output_type": "display_data"
    },
    {
     "name": "stdout",
     "output_type": "stream",
     "text": [
      "Train-Loss: 0.06. Train-Acc: 0.71\n",
      "Val-Loss:   0.16. Val-Acc:   0.44\n"
     ]
    },
    {
     "data": {
      "application/vnd.jupyter.widget-view+json": {
       "model_id": "af255519359c46b9a96fcfa8a35b0ed0",
       "version_major": 2,
       "version_minor": 0
      },
      "text/plain": [
       "  0%|          | 0/23 [00:00<?, ? batch/s]"
      ]
     },
     "metadata": {},
     "output_type": "display_data"
    },
    {
     "name": "stdout",
     "output_type": "stream",
     "text": [
      "Train-Loss: 0.05. Train-Acc: 0.73\n",
      "Val-Loss:   0.17. Val-Acc:   0.43\n"
     ]
    },
    {
     "data": {
      "application/vnd.jupyter.widget-view+json": {
       "model_id": "3bf5bf40fbe04179950b2612dbc5f232",
       "version_major": 2,
       "version_minor": 0
      },
      "text/plain": [
       "  0%|          | 0/23 [00:00<?, ? batch/s]"
      ]
     },
     "metadata": {},
     "output_type": "display_data"
    },
    {
     "name": "stdout",
     "output_type": "stream",
     "text": [
      "Train-Loss: 0.05. Train-Acc: 0.75\n",
      "Val-Loss:   0.16. Val-Acc:   0.42\n"
     ]
    },
    {
     "data": {
      "application/vnd.jupyter.widget-view+json": {
       "model_id": "b7262a18f6cb4217b2093e2ac7b8b10f",
       "version_major": 2,
       "version_minor": 0
      },
      "text/plain": [
       "  0%|          | 0/23 [00:00<?, ? batch/s]"
      ]
     },
     "metadata": {},
     "output_type": "display_data"
    },
    {
     "name": "stdout",
     "output_type": "stream",
     "text": [
      "Train-Loss: 0.05. Train-Acc: 0.78\n",
      "Val-Loss:   0.17. Val-Acc:   0.40\n"
     ]
    },
    {
     "data": {
      "application/vnd.jupyter.widget-view+json": {
       "model_id": "1a0c32e9b1544d07847a9302d96acdd3",
       "version_major": 2,
       "version_minor": 0
      },
      "text/plain": [
       "  0%|          | 0/23 [00:00<?, ? batch/s]"
      ]
     },
     "metadata": {},
     "output_type": "display_data"
    },
    {
     "name": "stdout",
     "output_type": "stream",
     "text": [
      "Train-Loss: 0.05. Train-Acc: 0.78\n",
      "Val-Loss:   0.17. Val-Acc:   0.41\n"
     ]
    },
    {
     "data": {
      "application/vnd.jupyter.widget-view+json": {
       "model_id": "17add36286554e43a35873e59b6eadd0",
       "version_major": 2,
       "version_minor": 0
      },
      "text/plain": [
       "  0%|          | 0/23 [00:00<?, ? batch/s]"
      ]
     },
     "metadata": {},
     "output_type": "display_data"
    },
    {
     "name": "stdout",
     "output_type": "stream",
     "text": [
      "Train-Loss: 0.04. Train-Acc: 0.79\n",
      "Val-Loss:   0.17. Val-Acc:   0.42\n"
     ]
    },
    {
     "data": {
      "application/vnd.jupyter.widget-view+json": {
       "model_id": "41b425c11e3e429a95729c1c1e2ea731",
       "version_major": 2,
       "version_minor": 0
      },
      "text/plain": [
       "  0%|          | 0/23 [00:00<?, ? batch/s]"
      ]
     },
     "metadata": {},
     "output_type": "display_data"
    },
    {
     "name": "stdout",
     "output_type": "stream",
     "text": [
      "Train-Loss: 0.04. Train-Acc: 0.79\n",
      "Val-Loss:   0.17. Val-Acc:   0.42\n"
     ]
    },
    {
     "data": {
      "application/vnd.jupyter.widget-view+json": {
       "model_id": "48dd2129431f462281d9e7f1a99e8c98",
       "version_major": 2,
       "version_minor": 0
      },
      "text/plain": [
       "  0%|          | 0/23 [00:00<?, ? batch/s]"
      ]
     },
     "metadata": {},
     "output_type": "display_data"
    },
    {
     "name": "stdout",
     "output_type": "stream",
     "text": [
      "Train-Loss: 0.04. Train-Acc: 0.77\n",
      "Val-Loss:   0.17. Val-Acc:   0.42\n"
     ]
    },
    {
     "data": {
      "application/vnd.jupyter.widget-view+json": {
       "model_id": "bad9b2b9e11044dca23e054e0915c2a6",
       "version_major": 2,
       "version_minor": 0
      },
      "text/plain": [
       "  0%|          | 0/23 [00:00<?, ? batch/s]"
      ]
     },
     "metadata": {},
     "output_type": "display_data"
    },
    {
     "name": "stdout",
     "output_type": "stream",
     "text": [
      "Train-Loss: 0.04. Train-Acc: 0.81\n",
      "Val-Loss:   0.18. Val-Acc:   0.42\n"
     ]
    },
    {
     "data": {
      "application/vnd.jupyter.widget-view+json": {
       "model_id": "e50f14a653e644cb8295c2151a3b7350",
       "version_major": 2,
       "version_minor": 0
      },
      "text/plain": [
       "  0%|          | 0/23 [00:00<?, ? batch/s]"
      ]
     },
     "metadata": {},
     "output_type": "display_data"
    },
    {
     "name": "stdout",
     "output_type": "stream",
     "text": [
      "Train-Loss: 0.04. Train-Acc: 0.81\n",
      "Val-Loss:   0.17. Val-Acc:   0.42\n"
     ]
    },
    {
     "data": {
      "application/vnd.jupyter.widget-view+json": {
       "model_id": "21ea7fbafa3a49af83ca578ea6223e06",
       "version_major": 2,
       "version_minor": 0
      },
      "text/plain": [
       "  0%|          | 0/23 [00:00<?, ? batch/s]"
      ]
     },
     "metadata": {},
     "output_type": "display_data"
    },
    {
     "name": "stdout",
     "output_type": "stream",
     "text": [
      "Train-Loss: 0.04. Train-Acc: 0.83\n",
      "Val-Loss:   0.17. Val-Acc:   0.43\n"
     ]
    },
    {
     "data": {
      "application/vnd.jupyter.widget-view+json": {
       "model_id": "496decfdf6d0488ea291ad9b2bcf8e2a",
       "version_major": 2,
       "version_minor": 0
      },
      "text/plain": [
       "  0%|          | 0/23 [00:00<?, ? batch/s]"
      ]
     },
     "metadata": {},
     "output_type": "display_data"
    },
    {
     "name": "stdout",
     "output_type": "stream",
     "text": [
      "Train-Loss: 0.04. Train-Acc: 0.81\n",
      "Early stopping after 43 epochs with best epoch in 32\n"
     ]
    }
   ],
   "source": [
    "resnet_pretrained4 = models.resnet18(weights=ResNet18_Weights.DEFAULT)\n",
    "resnet_pretrained4.fc = nn.Linear(512, 17)\n",
    "\n",
    "optimizer = optim.SGD(\n",
    "    resnet_pretrained4.parameters(),\n",
    "    lr=learning_rate,\n",
    "    momentum=momentum,\n",
    "    weight_decay=0.0001,\n",
    "    nesterov=True,\n",
    ")\n",
    "\n",
    "best_model4, train_losses4, val_losses4, train_accuracies4, val_accuracies4 = train(\n",
    "    model=resnet_pretrained4,\n",
    "    optimizer=optimizer,\n",
    "    criterion=criterion,\n",
    "    train_loader=train_loader_r,\n",
    "    epochs=epochs,\n",
    "    device=device,\n",
    "    val_loader=val_loader,\n",
    ")"
   ]
  },
  {
   "cell_type": "code",
   "execution_count": 21,
   "id": "4b2444c0-19a6-4cdf-821d-7cd5b4b8a7fd",
   "metadata": {
    "tags": []
   },
   "outputs": [
    {
     "data": {
      "application/vnd.jupyter.widget-view+json": {
       "model_id": "86fc434e83fe4b38881add269b19bcf2",
       "version_major": 2,
       "version_minor": 0
      },
      "text/plain": [
       "Test:   0%|          | 0/7 [00:00<?, ?it/s]"
      ]
     },
     "metadata": {},
     "output_type": "display_data"
    }
   ],
   "source": [
    "results4 = test(best_model4, test_loader, full_dataset_te.class_names, device)"
   ]
  },
  {
   "cell_type": "code",
   "execution_count": 23,
   "id": "481d651e-f67c-41a0-b86d-e5086a5bccaa",
   "metadata": {
    "tags": []
   },
   "outputs": [
    {
     "name": "stdout",
     "output_type": "stream",
     "text": [
      "overall_acc\t 0.45714285714285713\n",
      "f1_micro\t 0.8525807649461566\n",
      "f1_macro\t 0.8647708577173329\n",
      "mAP_micro\t 0.7629728657499423\n",
      "mAP_macro\t 0.7997387482268845\n",
      "              precision    recall  f1-score   support\n",
      "\n",
      "    airplane       0.93      0.82      0.87        17\n",
      "   bare-soil       0.80      0.69      0.74       140\n",
      "   buildings       0.85      0.85      0.85       127\n",
      "        cars       0.87      0.83      0.85       181\n",
      "   chaparral       1.00      0.96      0.98        27\n",
      "       court       1.00      0.48      0.65        23\n",
      "        dock       1.00      1.00      1.00        20\n",
      "       field       1.00      0.95      0.98        21\n",
      "       grass       0.85      0.78      0.81       202\n",
      " mobile-home       0.96      0.81      0.88        27\n",
      "    pavement       0.93      0.92      0.92       258\n",
      "        sand       0.93      0.67      0.78        58\n",
      "         sea       1.00      0.90      0.95        20\n",
      "        ship       1.00      1.00      1.00        20\n",
      "       tanks       0.92      0.61      0.73        18\n",
      "       trees       0.86      0.83      0.85       200\n",
      "       water       0.97      0.77      0.86        39\n",
      "\n",
      "   micro avg       0.89      0.82      0.85      1398\n",
      "   macro avg       0.93      0.82      0.86      1398\n",
      "weighted avg       0.89      0.82      0.85      1398\n",
      " samples avg       0.91      0.85      0.86      1398\n",
      "\n"
     ]
    }
   ],
   "source": [
    "show_results(results4)"
   ]
  },
  {
   "cell_type": "code",
   "execution_count": 24,
   "id": "18ad520c-1e94-4f7f-b191-e0bed894cadc",
   "metadata": {
    "tags": []
   },
   "outputs": [],
   "source": [
    "file_name = results_path / f\"val_accuracies4.json\"\n",
    "save_results_to_json(val_accuracies4, file_name)"
   ]
  },
  {
   "cell_type": "markdown",
   "id": "7b9d41c8-2958-4326-b7af-223345e78afa",
   "metadata": {},
   "source": [
    "#### Summary"
   ]
  },
  {
   "cell_type": "code",
   "execution_count": 25,
   "id": "5bc4213c-34ed-4129-87e2-ac29d1a974a9",
   "metadata": {
    "tags": []
   },
   "outputs": [],
   "source": [
    "file_name = results_path / f\"val_accuracies1.json\"\n",
    "val_accu1 = load_results_from_json(file_name)\n",
    "file_name = results_path / f\"val_accuracies2.json\"\n",
    "val_accu2 = load_results_from_json(file_name)\n",
    "file_name = results_path / f\"val_accuracies3.json\"\n",
    "val_accu3 = load_results_from_json(file_name)\n",
    "file_name = results_path / f\"val_accuracies4.json\"\n",
    "val_accu4 = load_results_from_json(file_name)"
   ]
  },
  {
   "cell_type": "code",
   "execution_count": 27,
   "id": "95a8de80-8f85-4689-8af5-14e3f3258230",
   "metadata": {
    "tags": []
   },
   "outputs": [
    {
     "data": {
      "text/plain": [
       "<matplotlib.legend.Legend at 0x7f8565980310>"
      ]
     },
     "execution_count": 27,
     "metadata": {},
     "output_type": "execute_result"
    },
    {
     "data": {
      "image/png": "[encoded data removed]",
      "text/plain": [
       "<Figure size 640x480 with 1 Axes>"
      ]
     },
     "metadata": {},
     "output_type": "display_data"
    }
   ],
   "source": [
    "fig, ax = plt.subplots(1, 1)\n",
    "ax.xaxis.set_major_locator(MaxNLocator(integer=True))\n",
    "ax.plot(\n",
    "    np.arange(1, len(val_accu1) + 1), val_accu1, label=\"baseline\"\n",
    ")\n",
    "ax.plot(\n",
    "    np.arange(1, len(val_accu2) + 1), val_accu2, label=\"affine transformation and random auto-contrast\"\n",
    ")\n",
    "ax.plot(\n",
    "    np.arange(1, len(val_accu3) + 1), val_accu3, label=\"combined\"\n",
    ")\n",
    "ax.plot(\n",
    "    np.arange(1, len(val_accu4) + 1), val_accu4, label=\"RandAugment\"\n",
    ")\n",
    "ax.set_xlabel(\"epochs\")\n",
    "ax.set_ylabel(\"accuracy\")\n",
    "ax.legend()"
   ]
  },
  {
   "cell_type": "markdown",
   "id": "56bdbc6c-d7b0-4d69-ba7c-0f76dcb7a489",
   "metadata": {},
   "source": [
    "#### Analysis\n",
    "\n",
    "In conclusion, the results are not so good. As the training in lab07, ResNet18 on multi-class classification tasks has the validation accuracy above 90%, but here showing a validation accuracies below 50%. To compare different methods:\n",
    "* Baseline(without data augmentation): has the most rapid initial growth and exhibits stable performance.\n",
    "* Affine Transformation and Random Auto-contrast: has fast initial growth and shows a trend similar to the baseline. The early stop is at 18th eppoch which has the fastest convergence.\n",
    "* Combined Augmentation: the overall accuracy is slightly higher than both baseline and affine transformation methods.\n",
    "* RandAugment: has slow initial growth, lagging behind other strategies and the performance improves in later stages. \n",
    "<br><br>\n",
    "Overall, the combined augmentation method demonstrated the best performance in terms of validation accuracy."
   ]
  },
  {
   "cell_type": "code",
   "execution_count": 42,
   "id": "ca2dbe30-51c9-4869-ad21-8cf689e4597e",
   "metadata": {
    "tags": []
   },
   "outputs": [],
   "source": [
    "f1_score1_d = dict(zip(full_dataset_te.class_names, f1_score1))\n",
    "f1_score1_ds = dict(sorted(combined_dict.items(), key=lambda item: item[1], reverse=True))"
   ]
  },
  {
   "cell_type": "code",
   "execution_count": 74,
   "id": "3bd7879e-057e-4afc-bf8a-e35f33b03107",
   "metadata": {
    "tags": []
   },
   "outputs": [
    {
     "data": {
      "text/plain": [
       "{'sea': 1.0,\n",
       " 'field': 0.98,\n",
       " 'dock': 0.97,\n",
       " 'ship': 0.97,\n",
       " 'chaparral': 0.96,\n",
       " 'pavement': 0.91,\n",
       " 'water': 0.84,\n",
       " 'trees': 0.83,\n",
       " 'buildings': 0.81,\n",
       " 'cars': 0.8,\n",
       " 'grass': 0.8,\n",
       " 'mobile-home': 0.78,\n",
       " 'airplane': 0.71,\n",
       " 'bare-soil': 0.69,\n",
       " 'sand': 0.68,\n",
       " 'tanks': 0.62,\n",
       " 'court': 0.39}"
      ]
     },
     "metadata": {},
     "output_type": "display_data"
    },
    {
     "data": {
      "text/plain": [
       "{'dock': 1.0,\n",
       " 'ship': 1.0,\n",
       " 'field': 0.98,\n",
       " 'chaparral': 0.96,\n",
       " 'pavement': 0.91,\n",
       " 'sea': 0.89,\n",
       " 'airplane': 0.87,\n",
       " 'water': 0.85,\n",
       " 'cars': 0.83,\n",
       " 'grass': 0.83,\n",
       " 'mobile-home': 0.83,\n",
       " 'buildings': 0.8,\n",
       " 'trees': 0.8,\n",
       " 'bare-soil': 0.74,\n",
       " 'sand': 0.74,\n",
       " 'tanks': 0.69,\n",
       " 'court': 0.61}"
      ]
     },
     "metadata": {},
     "output_type": "display_data"
    },
    {
     "data": {
      "text/plain": [
       "{'dock': 1.0,\n",
       " 'ship': 1.0,\n",
       " 'chaparral': 0.98,\n",
       " 'sea': 0.97,\n",
       " 'field': 0.95,\n",
       " 'airplane': 0.91,\n",
       " 'pavement': 0.91,\n",
       " 'water': 0.91,\n",
       " 'mobile-home': 0.9,\n",
       " 'buildings': 0.88,\n",
       " 'trees': 0.86,\n",
       " 'cars': 0.81,\n",
       " 'grass': 0.8,\n",
       " 'sand': 0.78,\n",
       " 'tanks': 0.76,\n",
       " 'bare-soil': 0.73,\n",
       " 'court': 0.65}"
      ]
     },
     "metadata": {},
     "output_type": "display_data"
    },
    {
     "data": {
      "text/plain": [
       "{'dock': 1.0,\n",
       " 'ship': 1.0,\n",
       " 'chaparral': 0.98,\n",
       " 'field': 0.98,\n",
       " 'sea': 0.95,\n",
       " 'pavement': 0.92,\n",
       " 'mobile-home': 0.88,\n",
       " 'airplane': 0.87,\n",
       " 'water': 0.86,\n",
       " 'buildings': 0.85,\n",
       " 'cars': 0.85,\n",
       " 'trees': 0.85,\n",
       " 'grass': 0.81,\n",
       " 'sand': 0.78,\n",
       " 'bare-soil': 0.74,\n",
       " 'tanks': 0.73,\n",
       " 'court': 0.65}"
      ]
     },
     "metadata": {},
     "output_type": "display_data"
    }
   ],
   "source": [
    "f1_score1 = [0.71, 0.69, 0.81, 0.80, 0.96, 0.39, 0.97, 0.98, 0.80, 0.78, 0.91, 0.68, 1.00, 0.97, 0.62, 0.83, 0.84]\n",
    "f1_score2 = [0.87, 0.74, 0.80, 0.83, 0.96, 0.61, 1.00, 0.98, 0.83, 0.83, 0.91, 0.74, 0.89, 1.00, 0.69, 0.80, 0.85]\n",
    "f1_score3 = [0.91, 0.73, 0.88, 0.81, 0.98, 0.65, 1.00, 0.95, 0.80, 0.90, 0.91, 0.78, 0.97, 1.00, 0.76, 0.86, 0.91]\n",
    "f1_score4 = [0.87, 0.74, 0.85, 0.85, 0.98, 0.65, 1.00, 0.98, 0.81, 0.88, 0.92, 0.78, 0.95, 1.00, 0.73, 0.85, 0.86]\n",
    "f1 = [f1_score1, f1_score2, f1_score3, f1_score4]\n",
    "for ind, val in enumerate(f1):\n",
    "    f1_dict = dict(zip(full_dataset_te.class_names, val))\n",
    "    f1_sorted = dict(sorted(f1_dict.items(), key=lambda item: item[1], reverse=True))\n",
    "    display(f1_sorted)"
   ]
  },
  {
   "cell_type": "code",
   "execution_count": 72,
   "id": "1148f024-ff5b-47d6-80d8-c023886e2e85",
   "metadata": {
    "tags": []
   },
   "outputs": [
    {
     "data": {
      "image/png": "[encoded data removed]",
      "text/plain": [
       "<Figure size 500x1200 with 4 Axes>"
      ]
     },
     "metadata": {},
     "output_type": "display_data"
    }
   ],
   "source": [
    "fig, axs = plt.subplots(4, sharex=True, sharey=True, figsize=(5, 12))\n",
    "colors = ['skyblue', 'salmon', 'lightgreen', 'orange']\n",
    "# 绘制柱状图\n",
    "for ind, val in enumerate(f1):\n",
    "    f1_dict = dict(zip(full_dataset_te.class_names, val))\n",
    "    axs[ind].bar(list(f1_dict.keys()), list(f1_dict.values()), color=colors[ind], label=f\"exp {ind+1}\")\n",
    "\n",
    "    axs[ind].set_xlabel(\"Classes\")\n",
    "    axs[ind].set_ylabel(\"f1_score1\")\n",
    "    axs[ind].legend()\n",
    "for ax in axs:\n",
    "    ax.label_outer()\n",
    "plt.xticks(rotation=90)\n",
    "plt.show()"
   ]
  },
  {
   "cell_type": "code",
   "execution_count": 64,
   "id": "2fd868cc-6469-41f4-8305-a4bc7db62d92",
   "metadata": {
    "tags": []
   },
   "outputs": [],
   "source": [
    "score1 = {\n",
    "    \"overall_acc\": 0.4023809523809524,\n",
    "    \"f1_micro\": 0.8186646433990895,\n",
    "    \"f1_macro\": 0.8080345210017872,\n",
    "    \"mAP_micro\": 0.7173680285623508,\n",
    "    \"mAP_macro\": 0.73430816161051\n",
    "}\n",
    "\n",
    "score2 = {\n",
    "    \"overall_acc\": 0.42857142857142855,\n",
    "    \"f1_micro\": 0.8341555977229601,\n",
    "    \"f1_macro\": 0.8429539994670496,\n",
    "    \"mAP_micro\": 0.7402997201114841,\n",
    "    \"mAP_macro\": 0.7744065396348563\n",
    "}\n",
    "\n",
    "score3 = {\n",
    "    \"overall_acc\": 0.4023809523809524,\n",
    "    \"f1_micro\": 0.8186646433990895,\n",
    "    \"f1_macro\": 0.8080345210017872,\n",
    "    \"mAP_micro\": 0.7173680285623508,\n",
    "    \"mAP_macro\": 0.73430816161051\n",
    "}\n",
    "\n",
    "score4 = {\n",
    "    \"overall_acc\": 0.45714285714285713,\n",
    "    \"f1_micro\": 0.85258076494641566,\n",
    "    \"f1_macro\": 0.8647708577173329,\n",
    "    \"mAP_micro\": 0.7629728657499423,\n",
    "    \"mAP_macro\": 0.7997387482268845\n",
    "}"
   ]
  },
  {
   "cell_type": "code",
   "execution_count": 68,
   "id": "aed4f504-daef-4bd6-bf45-5748ead257f4",
   "metadata": {
    "tags": []
   },
   "outputs": [
    {
     "data": {
      "image/png": "[encoded data removed]",
      "text/plain": [
       "<Figure size 600x400 with 1 Axes>"
      ]
     },
     "metadata": {},
     "output_type": "display_data"
    }
   ],
   "source": [
    "scores = [score1, score2, score3, score4]\n",
    "labels = list(score1.keys())\n",
    "n_groups = len(labels)\n",
    "\n",
    "data = [[score[label] for label in labels] for score in scores]\n",
    "bar_width = 0.2\n",
    "index = np.arange(n_groups)\n",
    "\n",
    "fig, ax = plt.subplots(figsize=(6, 4))\n",
    "colors = ['skyblue', 'salmon', 'lightgreen', 'orange']\n",
    "for i, (color, dataset) in enumerate(zip(colors, data)):\n",
    "    plt.bar(index + i * bar_width, dataset, bar_width, label=f'exp {i+1}', color=color)\n",
    "\n",
    "plt.xlabel('metrics')\n",
    "plt.ylabel('scores')\n",
    "plt.title('Comparison')\n",
    "plt.xticks(index + bar_width * 1.5, labels, rotation=90)\n",
    "plt.legend()\n",
    "\n",
    "plt.tight_layout()\n",
    "plt.show()"
   ]
  },
  {
   "cell_type": "code",
   "execution_count": null,
   "id": "ab1a73cc-54f1-481a-a9b6-effbe9a9f148",
   "metadata": {},
   "outputs": [],
   "source": []
  }
 ],
 "metadata": {
  "kernelspec": {
   "display_name": "Python 3 (ipykernel)",
   "language": "python",
   "name": "python3"
  },
  "language_info": {
   "codemirror_mode": {
    "name": "ipython",
    "version": 3
   },
   "file_extension": ".py",
   "mimetype": "text/x-python",
   "name": "python",
   "nbconvert_exporter": "python",
   "pygments_lexer": "ipython3",
   "version": "3.9.16"
  }
 },
 "nbformat": 4,
 "nbformat_minor": 5
}
